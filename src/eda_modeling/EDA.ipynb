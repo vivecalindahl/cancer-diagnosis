{
 "cells": [
  {
   "cell_type": "markdown",
   "metadata": {},
   "source": [
    "# About\n",
    "The task is to create a model with the Breast Cancer Wisconsin (Diagnostic) Dataset to answer the question if the \n",
    "sample is either `malignant (M)` or `benign (B)`.\n",
    "\n",
    "Data source: [UC Irvine's webpage](https://archive.ics.uci.edu/dataset/17/breast+cancer+wisconsin+diagnostic)."
   ]
  },
  {
   "cell_type": "markdown",
   "metadata": {},
   "source": [
    "# Import"
   ]
  },
  {
   "cell_type": "code",
   "execution_count": 1,
   "metadata": {},
   "outputs": [],
   "source": [
    "import os\n",
    "from pathlib import Path\n",
    "from joblib import Parallel, delayed\n",
    "import joblib\n",
    "\n",
    "import seaborn as sns\n",
    "import plotly.graph_objects as go\n",
    "import matplotlib.pyplot as plt\n",
    "import plotly.express as px\n",
    "\n",
    "import pandas as pd\n",
    "import numpy as np\n",
    "from scipy.stats import loguniform\n",
    "\n",
    "from sklearn.preprocessing import StandardScaler, MinMaxScaler\n",
    "from sklearn.linear_model import LogisticRegression\n",
    "from sklearn.model_selection import KFold, FixedThresholdClassifier, RandomizedSearchCV, train_test_split\n",
    "from sklearn.metrics import precision_recall_curve, precision_score, recall_score, accuracy_score, roc_curve, auc, confusion_matrix"
   ]
  },
  {
   "cell_type": "markdown",
   "metadata": {},
   "source": [
    "# Load data"
   ]
  },
  {
   "cell_type": "code",
   "execution_count": 4,
   "metadata": {},
   "outputs": [
    {
     "data": {
      "text/html": [
       "<div>\n",
       "<style scoped>\n",
       "    .dataframe tbody tr th:only-of-type {\n",
       "        vertical-align: middle;\n",
       "    }\n",
       "\n",
       "    .dataframe tbody tr th {\n",
       "        vertical-align: top;\n",
       "    }\n",
       "\n",
       "    .dataframe thead th {\n",
       "        text-align: right;\n",
       "    }\n",
       "</style>\n",
       "<table border=\"1\" class=\"dataframe\">\n",
       "  <thead>\n",
       "    <tr style=\"text-align: right;\">\n",
       "      <th></th>\n",
       "      <th>id</th>\n",
       "      <th>diagnosis</th>\n",
       "      <th>radius_mean</th>\n",
       "      <th>texture_mean</th>\n",
       "      <th>perimeter_mean</th>\n",
       "      <th>area_mean</th>\n",
       "      <th>smoothness_mean</th>\n",
       "      <th>compactness_mean</th>\n",
       "      <th>concavity_mean</th>\n",
       "      <th>concave points_mean</th>\n",
       "      <th>...</th>\n",
       "      <th>texture_worst</th>\n",
       "      <th>perimeter_worst</th>\n",
       "      <th>area_worst</th>\n",
       "      <th>smoothness_worst</th>\n",
       "      <th>compactness_worst</th>\n",
       "      <th>concavity_worst</th>\n",
       "      <th>concave points_worst</th>\n",
       "      <th>symmetry_worst</th>\n",
       "      <th>fractal_dimension_worst</th>\n",
       "      <th>Unnamed: 32</th>\n",
       "    </tr>\n",
       "  </thead>\n",
       "  <tbody>\n",
       "    <tr>\n",
       "      <th>0</th>\n",
       "      <td>842302</td>\n",
       "      <td>M</td>\n",
       "      <td>17.99</td>\n",
       "      <td>10.38</td>\n",
       "      <td>122.80</td>\n",
       "      <td>1001.0</td>\n",
       "      <td>0.11840</td>\n",
       "      <td>0.27760</td>\n",
       "      <td>0.3001</td>\n",
       "      <td>0.14710</td>\n",
       "      <td>...</td>\n",
       "      <td>17.33</td>\n",
       "      <td>184.60</td>\n",
       "      <td>2019.0</td>\n",
       "      <td>0.1622</td>\n",
       "      <td>0.6656</td>\n",
       "      <td>0.7119</td>\n",
       "      <td>0.2654</td>\n",
       "      <td>0.4601</td>\n",
       "      <td>0.11890</td>\n",
       "      <td>NaN</td>\n",
       "    </tr>\n",
       "    <tr>\n",
       "      <th>1</th>\n",
       "      <td>842517</td>\n",
       "      <td>M</td>\n",
       "      <td>20.57</td>\n",
       "      <td>17.77</td>\n",
       "      <td>132.90</td>\n",
       "      <td>1326.0</td>\n",
       "      <td>0.08474</td>\n",
       "      <td>0.07864</td>\n",
       "      <td>0.0869</td>\n",
       "      <td>0.07017</td>\n",
       "      <td>...</td>\n",
       "      <td>23.41</td>\n",
       "      <td>158.80</td>\n",
       "      <td>1956.0</td>\n",
       "      <td>0.1238</td>\n",
       "      <td>0.1866</td>\n",
       "      <td>0.2416</td>\n",
       "      <td>0.1860</td>\n",
       "      <td>0.2750</td>\n",
       "      <td>0.08902</td>\n",
       "      <td>NaN</td>\n",
       "    </tr>\n",
       "    <tr>\n",
       "      <th>2</th>\n",
       "      <td>84300903</td>\n",
       "      <td>M</td>\n",
       "      <td>19.69</td>\n",
       "      <td>21.25</td>\n",
       "      <td>130.00</td>\n",
       "      <td>1203.0</td>\n",
       "      <td>0.10960</td>\n",
       "      <td>0.15990</td>\n",
       "      <td>0.1974</td>\n",
       "      <td>0.12790</td>\n",
       "      <td>...</td>\n",
       "      <td>25.53</td>\n",
       "      <td>152.50</td>\n",
       "      <td>1709.0</td>\n",
       "      <td>0.1444</td>\n",
       "      <td>0.4245</td>\n",
       "      <td>0.4504</td>\n",
       "      <td>0.2430</td>\n",
       "      <td>0.3613</td>\n",
       "      <td>0.08758</td>\n",
       "      <td>NaN</td>\n",
       "    </tr>\n",
       "    <tr>\n",
       "      <th>3</th>\n",
       "      <td>84348301</td>\n",
       "      <td>M</td>\n",
       "      <td>11.42</td>\n",
       "      <td>20.38</td>\n",
       "      <td>77.58</td>\n",
       "      <td>386.1</td>\n",
       "      <td>0.14250</td>\n",
       "      <td>0.28390</td>\n",
       "      <td>0.2414</td>\n",
       "      <td>0.10520</td>\n",
       "      <td>...</td>\n",
       "      <td>26.50</td>\n",
       "      <td>98.87</td>\n",
       "      <td>567.7</td>\n",
       "      <td>0.2098</td>\n",
       "      <td>0.8663</td>\n",
       "      <td>0.6869</td>\n",
       "      <td>0.2575</td>\n",
       "      <td>0.6638</td>\n",
       "      <td>0.17300</td>\n",
       "      <td>NaN</td>\n",
       "    </tr>\n",
       "    <tr>\n",
       "      <th>4</th>\n",
       "      <td>84358402</td>\n",
       "      <td>M</td>\n",
       "      <td>20.29</td>\n",
       "      <td>14.34</td>\n",
       "      <td>135.10</td>\n",
       "      <td>1297.0</td>\n",
       "      <td>0.10030</td>\n",
       "      <td>0.13280</td>\n",
       "      <td>0.1980</td>\n",
       "      <td>0.10430</td>\n",
       "      <td>...</td>\n",
       "      <td>16.67</td>\n",
       "      <td>152.20</td>\n",
       "      <td>1575.0</td>\n",
       "      <td>0.1374</td>\n",
       "      <td>0.2050</td>\n",
       "      <td>0.4000</td>\n",
       "      <td>0.1625</td>\n",
       "      <td>0.2364</td>\n",
       "      <td>0.07678</td>\n",
       "      <td>NaN</td>\n",
       "    </tr>\n",
       "  </tbody>\n",
       "</table>\n",
       "<p>5 rows × 33 columns</p>\n",
       "</div>"
      ],
      "text/plain": [
       "         id diagnosis  radius_mean  texture_mean  perimeter_mean  area_mean  \\\n",
       "0    842302         M        17.99         10.38          122.80     1001.0   \n",
       "1    842517         M        20.57         17.77          132.90     1326.0   \n",
       "2  84300903         M        19.69         21.25          130.00     1203.0   \n",
       "3  84348301         M        11.42         20.38           77.58      386.1   \n",
       "4  84358402         M        20.29         14.34          135.10     1297.0   \n",
       "\n",
       "   smoothness_mean  compactness_mean  concavity_mean  concave points_mean  \\\n",
       "0          0.11840           0.27760          0.3001              0.14710   \n",
       "1          0.08474           0.07864          0.0869              0.07017   \n",
       "2          0.10960           0.15990          0.1974              0.12790   \n",
       "3          0.14250           0.28390          0.2414              0.10520   \n",
       "4          0.10030           0.13280          0.1980              0.10430   \n",
       "\n",
       "   ...  texture_worst  perimeter_worst  area_worst  smoothness_worst  \\\n",
       "0  ...          17.33           184.60      2019.0            0.1622   \n",
       "1  ...          23.41           158.80      1956.0            0.1238   \n",
       "2  ...          25.53           152.50      1709.0            0.1444   \n",
       "3  ...          26.50            98.87       567.7            0.2098   \n",
       "4  ...          16.67           152.20      1575.0            0.1374   \n",
       "\n",
       "   compactness_worst  concavity_worst  concave points_worst  symmetry_worst  \\\n",
       "0             0.6656           0.7119                0.2654          0.4601   \n",
       "1             0.1866           0.2416                0.1860          0.2750   \n",
       "2             0.4245           0.4504                0.2430          0.3613   \n",
       "3             0.8663           0.6869                0.2575          0.6638   \n",
       "4             0.2050           0.4000                0.1625          0.2364   \n",
       "\n",
       "   fractal_dimension_worst  Unnamed: 32  \n",
       "0                  0.11890          NaN  \n",
       "1                  0.08902          NaN  \n",
       "2                  0.08758          NaN  \n",
       "3                  0.17300          NaN  \n",
       "4                  0.07678          NaN  \n",
       "\n",
       "[5 rows x 33 columns]"
      ]
     },
     "execution_count": 4,
     "metadata": {},
     "output_type": "execute_result"
    }
   ],
   "source": [
    "# Load the dataset\n",
    "data_path = os.path.join(\n",
    "    Path(os.getcwd()).parents[1],\n",
    "    'data/breast_cancer_data.csv'\n",
    ") \n",
    "\n",
    "df = pd.read_csv(data_path)\n",
    "\n",
    "df.head()"
   ]
  },
  {
   "cell_type": "markdown",
   "metadata": {},
   "source": [
    "# Check data"
   ]
  },
  {
   "cell_type": "code",
   "execution_count": 7,
   "metadata": {},
   "outputs": [
    {
     "data": {
      "text/plain": [
       "(572, 33)"
      ]
     },
     "execution_count": 7,
     "metadata": {},
     "output_type": "execute_result"
    }
   ],
   "source": [
    "df.shape"
   ]
  },
  {
   "cell_type": "markdown",
   "metadata": {},
   "source": [
    "* Quite small dataset, moderate number of features"
   ]
  },
  {
   "cell_type": "code",
   "execution_count": 9,
   "metadata": {},
   "outputs": [
    {
     "data": {
      "text/plain": [
       "id                           0\n",
       "diagnosis                    0\n",
       "radius_mean                  0\n",
       "texture_mean                 0\n",
       "perimeter_mean               0\n",
       "area_mean                    0\n",
       "smoothness_mean              0\n",
       "compactness_mean             0\n",
       "concavity_mean               0\n",
       "concave points_mean          0\n",
       "symmetry_mean                0\n",
       "fractal_dimension_mean       0\n",
       "radius_se                    0\n",
       "texture_se                   0\n",
       "perimeter_se                 0\n",
       "area_se                      0\n",
       "smoothness_se                0\n",
       "compactness_se               0\n",
       "concavity_se                 0\n",
       "concave points_se            0\n",
       "symmetry_se                  0\n",
       "fractal_dimension_se         0\n",
       "radius_worst                 0\n",
       "texture_worst                0\n",
       "perimeter_worst              0\n",
       "area_worst                   0\n",
       "smoothness_worst             0\n",
       "compactness_worst            0\n",
       "concavity_worst              0\n",
       "concave points_worst         0\n",
       "symmetry_worst               0\n",
       "fractal_dimension_worst      0\n",
       "Unnamed: 32                572\n",
       "dtype: int64"
      ]
     },
     "execution_count": 9,
     "metadata": {},
     "output_type": "execute_result"
    }
   ],
   "source": [
    "df.isna().sum()"
   ]
  },
  {
   "cell_type": "code",
   "execution_count": 6,
   "metadata": {},
   "outputs": [],
   "source": [
    "assert df['Unnamed: 32'].isna().all()"
   ]
  },
  {
   "cell_type": "markdown",
   "metadata": {},
   "source": [
    "* No nans, except an extra column  (becuase of trailing comma)"
   ]
  },
  {
   "cell_type": "code",
   "execution_count": 8,
   "metadata": {},
   "outputs": [
    {
     "data": {
      "text/plain": [
       "False"
      ]
     },
     "execution_count": 8,
     "metadata": {},
     "output_type": "execute_result"
    }
   ],
   "source": [
    "df['id'].nunique() == len(df)"
   ]
  },
  {
   "cell_type": "code",
   "execution_count": 15,
   "metadata": {},
   "outputs": [
    {
     "data": {
      "text/plain": [
       "np.int64(3)"
      ]
     },
     "execution_count": 15,
     "metadata": {},
     "output_type": "execute_result"
    }
   ],
   "source": [
    "df.duplicated(subset=['id']).sum()"
   ]
  },
  {
   "cell_type": "markdown",
   "metadata": {},
   "source": [
    "* Some rows are duplicated"
   ]
  },
  {
   "cell_type": "code",
   "execution_count": 16,
   "metadata": {},
   "outputs": [
    {
     "data": {
      "text/plain": [
       "np.int64(3)"
      ]
     },
     "execution_count": 16,
     "metadata": {},
     "output_type": "execute_result"
    }
   ],
   "source": [
    "df.duplicated(subset=['id', 'diagnosis']).sum()"
   ]
  },
  {
   "cell_type": "code",
   "execution_count": 17,
   "metadata": {},
   "outputs": [
    {
     "data": {
      "text/plain": [
       "np.int64(3)"
      ]
     },
     "execution_count": 17,
     "metadata": {},
     "output_type": "execute_result"
    }
   ],
   "source": [
    "df.duplicated().sum()"
   ]
  },
  {
   "cell_type": "code",
   "execution_count": 5,
   "metadata": {},
   "outputs": [
    {
     "data": {
      "text/plain": [
       "id                           int64\n",
       "diagnosis                   object\n",
       "radius_mean                float64\n",
       "texture_mean               float64\n",
       "perimeter_mean             float64\n",
       "area_mean                  float64\n",
       "smoothness_mean            float64\n",
       "compactness_mean           float64\n",
       "concavity_mean             float64\n",
       "concave points_mean        float64\n",
       "symmetry_mean              float64\n",
       "fractal_dimension_mean     float64\n",
       "radius_se                  float64\n",
       "texture_se                 float64\n",
       "perimeter_se               float64\n",
       "area_se                    float64\n",
       "smoothness_se              float64\n",
       "compactness_se             float64\n",
       "concavity_se               float64\n",
       "concave points_se          float64\n",
       "symmetry_se                float64\n",
       "fractal_dimension_se       float64\n",
       "radius_worst               float64\n",
       "texture_worst              float64\n",
       "perimeter_worst            float64\n",
       "area_worst                 float64\n",
       "smoothness_worst           float64\n",
       "compactness_worst          float64\n",
       "concavity_worst            float64\n",
       "concave points_worst       float64\n",
       "symmetry_worst             float64\n",
       "fractal_dimension_worst    float64\n",
       "Unnamed: 32                float64\n",
       "dtype: object"
      ]
     },
     "execution_count": 5,
     "metadata": {},
     "output_type": "execute_result"
    }
   ],
   "source": [
    "df.dtypes"
   ]
  },
  {
   "cell_type": "code",
   "execution_count": 6,
   "metadata": {},
   "outputs": [
    {
     "data": {
      "text/plain": [
       "array(['M', 'B'], dtype=object)"
      ]
     },
     "execution_count": 6,
     "metadata": {},
     "output_type": "execute_result"
    }
   ],
   "source": [
    "df['diagnosis'].unique()"
   ]
  },
  {
   "cell_type": "markdown",
   "metadata": {},
   "source": [
    "* All features are continuous and numerical\n",
    "* Labels are categorical  ('M', 'B')"
   ]
  },
  {
   "cell_type": "code",
   "execution_count": 22,
   "metadata": {},
   "outputs": [
    {
     "data": {
      "text/html": [
       "<div>\n",
       "<style scoped>\n",
       "    .dataframe tbody tr th:only-of-type {\n",
       "        vertical-align: middle;\n",
       "    }\n",
       "\n",
       "    .dataframe tbody tr th {\n",
       "        vertical-align: top;\n",
       "    }\n",
       "\n",
       "    .dataframe thead th {\n",
       "        text-align: right;\n",
       "    }\n",
       "</style>\n",
       "<table border=\"1\" class=\"dataframe\">\n",
       "  <thead>\n",
       "    <tr style=\"text-align: right;\">\n",
       "      <th></th>\n",
       "      <th>id</th>\n",
       "      <th>diagnosis</th>\n",
       "      <th>radius_mean</th>\n",
       "      <th>texture_mean</th>\n",
       "      <th>perimeter_mean</th>\n",
       "      <th>area_mean</th>\n",
       "      <th>smoothness_mean</th>\n",
       "      <th>compactness_mean</th>\n",
       "      <th>concavity_mean</th>\n",
       "      <th>concave points_mean</th>\n",
       "      <th>...</th>\n",
       "      <th>texture_worst</th>\n",
       "      <th>perimeter_worst</th>\n",
       "      <th>area_worst</th>\n",
       "      <th>smoothness_worst</th>\n",
       "      <th>compactness_worst</th>\n",
       "      <th>concavity_worst</th>\n",
       "      <th>concave points_worst</th>\n",
       "      <th>symmetry_worst</th>\n",
       "      <th>fractal_dimension_worst</th>\n",
       "      <th>Unnamed: 32</th>\n",
       "    </tr>\n",
       "  </thead>\n",
       "  <tbody>\n",
       "    <tr>\n",
       "      <th>min</th>\n",
       "      <td>8670</td>\n",
       "      <td>B</td>\n",
       "      <td>6.981</td>\n",
       "      <td>9.71</td>\n",
       "      <td>43.79</td>\n",
       "      <td>143.5</td>\n",
       "      <td>0.05263</td>\n",
       "      <td>0.01938</td>\n",
       "      <td>0.0000</td>\n",
       "      <td>0.0000</td>\n",
       "      <td>...</td>\n",
       "      <td>12.02</td>\n",
       "      <td>50.41</td>\n",
       "      <td>185.2</td>\n",
       "      <td>0.07117</td>\n",
       "      <td>0.02729</td>\n",
       "      <td>0.000</td>\n",
       "      <td>0.000</td>\n",
       "      <td>0.1565</td>\n",
       "      <td>0.05504</td>\n",
       "      <td>NaN</td>\n",
       "    </tr>\n",
       "    <tr>\n",
       "      <th>max</th>\n",
       "      <td>911320502</td>\n",
       "      <td>M</td>\n",
       "      <td>28.110</td>\n",
       "      <td>39.28</td>\n",
       "      <td>188.50</td>\n",
       "      <td>2501.0</td>\n",
       "      <td>0.16340</td>\n",
       "      <td>0.34540</td>\n",
       "      <td>0.4268</td>\n",
       "      <td>0.2012</td>\n",
       "      <td>...</td>\n",
       "      <td>49.54</td>\n",
       "      <td>251.20</td>\n",
       "      <td>4254.0</td>\n",
       "      <td>0.22260</td>\n",
       "      <td>1.05800</td>\n",
       "      <td>1.252</td>\n",
       "      <td>0.291</td>\n",
       "      <td>0.6638</td>\n",
       "      <td>0.20750</td>\n",
       "      <td>NaN</td>\n",
       "    </tr>\n",
       "  </tbody>\n",
       "</table>\n",
       "<p>2 rows × 33 columns</p>\n",
       "</div>"
      ],
      "text/plain": [
       "            id diagnosis  radius_mean  texture_mean  perimeter_mean  \\\n",
       "min       8670         B        6.981          9.71           43.79   \n",
       "max  911320502         M       28.110         39.28          188.50   \n",
       "\n",
       "     area_mean  smoothness_mean  compactness_mean  concavity_mean  \\\n",
       "min      143.5          0.05263           0.01938          0.0000   \n",
       "max     2501.0          0.16340           0.34540          0.4268   \n",
       "\n",
       "     concave points_mean  ...  texture_worst  perimeter_worst  area_worst  \\\n",
       "min               0.0000  ...          12.02            50.41       185.2   \n",
       "max               0.2012  ...          49.54           251.20      4254.0   \n",
       "\n",
       "     smoothness_worst  compactness_worst  concavity_worst  \\\n",
       "min           0.07117            0.02729            0.000   \n",
       "max           0.22260            1.05800            1.252   \n",
       "\n",
       "     concave points_worst  symmetry_worst  fractal_dimension_worst  \\\n",
       "min                 0.000          0.1565                  0.05504   \n",
       "max                 0.291          0.6638                  0.20750   \n",
       "\n",
       "     Unnamed: 32  \n",
       "min          NaN  \n",
       "max          NaN  \n",
       "\n",
       "[2 rows x 33 columns]"
      ]
     },
     "execution_count": 22,
     "metadata": {},
     "output_type": "execute_result"
    }
   ],
   "source": [
    "df.agg(['min', 'max'])"
   ]
  },
  {
   "cell_type": "markdown",
   "metadata": {},
   "source": [
    "* Features are not normalized"
   ]
  },
  {
   "cell_type": "code",
   "execution_count": 10,
   "metadata": {},
   "outputs": [
    {
     "data": {
      "text/plain": [
       "diagnosis\n",
       "B    360\n",
       "M    212\n",
       "Name: count, dtype: int64"
      ]
     },
     "execution_count": 10,
     "metadata": {},
     "output_type": "execute_result"
    }
   ],
   "source": [
    "df['diagnosis'].value_counts()"
   ]
  },
  {
   "cell_type": "markdown",
   "metadata": {},
   "source": [
    "* Surprisingly the labels are not too unbalanced, ~2/5 malignant and 3/5 benign"
   ]
  },
  {
   "cell_type": "markdown",
   "metadata": {},
   "source": [
    "# Process"
   ]
  },
  {
   "cell_type": "code",
   "execution_count": 11,
   "metadata": {},
   "outputs": [],
   "source": [
    "dfp = df.drop_duplicates()"
   ]
  },
  {
   "cell_type": "code",
   "execution_count": 12,
   "metadata": {},
   "outputs": [],
   "source": [
    "# drop last column\n",
    "dfp = dfp.iloc[:, :-1]"
   ]
  },
  {
   "cell_type": "markdown",
   "metadata": {},
   "source": [
    "# Modeling approach\n",
    "As a first step choose a simple model. This is a binary classification problem. A simple generalized linear approach is logistic regression. We find relevant features and model parameters by optimizing a suitable metric. "
   ]
  },
  {
   "cell_type": "markdown",
   "metadata": {},
   "source": [
    "# Train, test split"
   ]
  },
  {
   "cell_type": "code",
   "execution_count": 15,
   "metadata": {},
   "outputs": [],
   "source": [
    "yname='diagnosis'\n",
    "\n",
    "# Use all features except the id \n",
    "xnames = [c for c in dfp.columns if c != yname and c != 'id']"
   ]
  },
  {
   "cell_type": "code",
   "execution_count": 16,
   "metadata": {},
   "outputs": [
    {
     "data": {
      "text/plain": [
       "['radius_mean',\n",
       " 'texture_mean',\n",
       " 'perimeter_mean',\n",
       " 'area_mean',\n",
       " 'smoothness_mean',\n",
       " 'compactness_mean',\n",
       " 'concavity_mean',\n",
       " 'concave points_mean',\n",
       " 'symmetry_mean',\n",
       " 'fractal_dimension_mean',\n",
       " 'radius_se',\n",
       " 'texture_se',\n",
       " 'perimeter_se',\n",
       " 'area_se',\n",
       " 'smoothness_se',\n",
       " 'compactness_se',\n",
       " 'concavity_se',\n",
       " 'concave points_se',\n",
       " 'symmetry_se',\n",
       " 'fractal_dimension_se',\n",
       " 'radius_worst',\n",
       " 'texture_worst',\n",
       " 'perimeter_worst',\n",
       " 'area_worst',\n",
       " 'smoothness_worst',\n",
       " 'compactness_worst',\n",
       " 'concavity_worst',\n",
       " 'concave points_worst',\n",
       " 'symmetry_worst',\n",
       " 'fractal_dimension_worst']"
      ]
     },
     "execution_count": 16,
     "metadata": {},
     "output_type": "execute_result"
    }
   ],
   "source": [
    "xnames"
   ]
  },
  {
   "cell_type": "code",
   "execution_count": 17,
   "metadata": {},
   "outputs": [],
   "source": [
    "y = dfp['diagnosis']"
   ]
  },
  {
   "cell_type": "code",
   "execution_count": 18,
   "metadata": {},
   "outputs": [],
   "source": [
    "X = dfp[xnames]\n",
    "y = dfp[yname]"
   ]
  },
  {
   "cell_type": "code",
   "execution_count": 19,
   "metadata": {},
   "outputs": [],
   "source": [
    "X_train, X_test, y_train, y_test = train_test_split(X, y, test_size=0.33, random_state=42)"
   ]
  },
  {
   "cell_type": "markdown",
   "metadata": {},
   "source": [
    "# Normalize features"
   ]
  },
  {
   "cell_type": "code",
   "execution_count": 20,
   "metadata": {},
   "outputs": [],
   "source": [
    "scaler = StandardScaler().fit(X_train)\n",
    "X_train = scaler.transform(X_train)"
   ]
  },
  {
   "cell_type": "code",
   "execution_count": 21,
   "metadata": {},
   "outputs": [],
   "source": [
    "# Note: using the same names for raw and normalized features here\n",
    "X_train = pd.DataFrame(X_train, index=y_train.index, columns=X.columns)"
   ]
  },
  {
   "cell_type": "code",
   "execution_count": 22,
   "metadata": {},
   "outputs": [],
   "source": [
    "# Simpler to use [0, 1] labels because of defaults in sklearn\n",
    "y_train = y_train.map({'B': 0, 'M': 1})"
   ]
  },
  {
   "cell_type": "code",
   "execution_count": 24,
   "metadata": {},
   "outputs": [],
   "source": [
    "# Process also test set\n",
    "X_test = scaler.transform(X_test)\n",
    "X_test = pd.DataFrame(X_test, index=y_test.index, columns=X.columns)\n",
    "y_test = y_test.map({'B': 0, 'M': 1})"
   ]
  },
  {
   "cell_type": "markdown",
   "metadata": {},
   "source": [
    "# Optimize feature subset and model using cross-validation\n",
    "\n",
    "As a first try, I use a \"brute-force\" search for all up to triplet combinations of features and varying the model regularization strength, looking for the highest scoring combination. \n",
    "This can be done more efficiently using e.g. an feature selection algorithm from https://scikit-learn.org/stable/modules/feature_selection.html#feature-selection."
   ]
  },
  {
   "cell_type": "code",
   "execution_count": 26,
   "metadata": {},
   "outputs": [],
   "source": [
    "# Try all 1, 2, 3 feature combinations\n",
    "\n",
    "feature_combinations = list({\n",
    "    frozenset([x1, x2, x3])\n",
    "    for x1 in xnames\n",
    "    for x2 in xnames\n",
    "    for x3 in xnames\n",
    "\n",
    "})\n",
    "feature_combinations = [sorted(f) for f in feature_combinations]"
   ]
  },
  {
   "cell_type": "code",
   "execution_count": 27,
   "metadata": {},
   "outputs": [
    {
     "data": {
      "text/plain": [
       "4525"
      ]
     },
     "execution_count": 27,
     "metadata": {},
     "output_type": "execute_result"
    }
   ],
   "source": [
    "len(feature_combinations)"
   ]
  },
  {
   "cell_type": "code",
   "execution_count": 31,
   "metadata": {},
   "outputs": [],
   "source": [
    "model_params_to_vary = {\"C\": loguniform(1e-3, 1e1)}\n",
    "model_params_fixed = dict(random_state=0, penalty=\"l2\")\n",
    "clf = LogisticRegression(**model_params_fixed)\n",
    "cv_splitter = KFold(n_splits=5, shuffle=True, random_state=0)\n",
    "\n",
    "search = RandomizedSearchCV(    \n",
    "        clf,\n",
    "        param_distributions=model_params_to_vary,\n",
    "        scoring='f1',\n",
    "        cv=cv_splitter,\n",
    "        verbose=False,\n",
    "        random_state=0,\n",
    "        # num param values to sample\n",
    "        n_iter=5,\n",
    "    )"
   ]
  },
  {
   "cell_type": "code",
   "execution_count": 32,
   "metadata": {},
   "outputs": [],
   "source": [
    "def optimize_model(features):\n",
    "    # Perform search\n",
    "    out = search.fit(X_train[features], y_train)    \n",
    "    res = pd.DataFrame(out.cv_results_)\n",
    "    res = res.sort_values(\"mean_test_score\", ascending=False).iloc[0]    \n",
    "    res['features'] = features\n",
    "    return res\n",
    "    "
   ]
  },
  {
   "cell_type": "code",
   "execution_count": 35,
   "metadata": {},
   "outputs": [
    {
     "name": "stdout",
     "output_type": "stream",
     "text": [
      "CPU times: user 17 s, sys: 1.26 s, total: 18.3 s\n",
      "Wall time: 1min 38s\n"
     ]
    }
   ],
   "source": [
    "%%time\n",
    "# Parallelize over features\n",
    "results = Parallel(n_jobs=-1)(\n",
    "    delayed(optimize_model)(f)\n",
    "    #for f in feature_combinations[:10]\n",
    "    for f in feature_combinations\n",
    ")\n",
    "\n",
    "results = pd.concat(results, ignore_index=True, axis=1).T\n",
    "results = results.sort_values('mean_test_score', ascending=False)"
   ]
  },
  {
   "cell_type": "code",
   "execution_count": 36,
   "metadata": {},
   "outputs": [
    {
     "data": {
      "text/html": [
       "<div>\n",
       "<style scoped>\n",
       "    .dataframe tbody tr th:only-of-type {\n",
       "        vertical-align: middle;\n",
       "    }\n",
       "\n",
       "    .dataframe tbody tr th {\n",
       "        vertical-align: top;\n",
       "    }\n",
       "\n",
       "    .dataframe thead th {\n",
       "        text-align: right;\n",
       "    }\n",
       "</style>\n",
       "<table border=\"1\" class=\"dataframe\">\n",
       "  <thead>\n",
       "    <tr style=\"text-align: right;\">\n",
       "      <th></th>\n",
       "      <th>mean_fit_time</th>\n",
       "      <th>std_fit_time</th>\n",
       "      <th>mean_score_time</th>\n",
       "      <th>std_score_time</th>\n",
       "      <th>param_C</th>\n",
       "      <th>params</th>\n",
       "      <th>split0_test_score</th>\n",
       "      <th>split1_test_score</th>\n",
       "      <th>split2_test_score</th>\n",
       "      <th>split3_test_score</th>\n",
       "      <th>split4_test_score</th>\n",
       "      <th>mean_test_score</th>\n",
       "      <th>std_test_score</th>\n",
       "      <th>rank_test_score</th>\n",
       "      <th>features</th>\n",
       "    </tr>\n",
       "  </thead>\n",
       "  <tbody>\n",
       "    <tr>\n",
       "      <th>2832</th>\n",
       "      <td>0.006429</td>\n",
       "      <td>0.000086</td>\n",
       "      <td>0.006228</td>\n",
       "      <td>0.00008</td>\n",
       "      <td>0.725701</td>\n",
       "      <td>{'C': 0.7257005721594281}</td>\n",
       "      <td>0.95082</td>\n",
       "      <td>0.962963</td>\n",
       "      <td>0.953846</td>\n",
       "      <td>0.977778</td>\n",
       "      <td>0.931034</td>\n",
       "      <td>0.955288</td>\n",
       "      <td>0.01533</td>\n",
       "      <td>1</td>\n",
       "      <td>[perimeter_worst, symmetry_worst, texture_worst]</td>\n",
       "    </tr>\n",
       "    <tr>\n",
       "      <th>345</th>\n",
       "      <td>0.006881</td>\n",
       "      <td>0.001177</td>\n",
       "      <td>0.005371</td>\n",
       "      <td>0.000313</td>\n",
       "      <td>0.725701</td>\n",
       "      <td>{'C': 0.7257005721594281}</td>\n",
       "      <td>0.920635</td>\n",
       "      <td>0.962963</td>\n",
       "      <td>0.984615</td>\n",
       "      <td>0.93617</td>\n",
       "      <td>0.965517</td>\n",
       "      <td>0.95398</td>\n",
       "      <td>0.022722</td>\n",
       "      <td>1</td>\n",
       "      <td>[area_worst, concave points_worst, texture_worst]</td>\n",
       "    </tr>\n",
       "    <tr>\n",
       "      <th>166</th>\n",
       "      <td>0.005529</td>\n",
       "      <td>0.000408</td>\n",
       "      <td>0.005552</td>\n",
       "      <td>0.000707</td>\n",
       "      <td>0.725701</td>\n",
       "      <td>{'C': 0.7257005721594281}</td>\n",
       "      <td>0.920635</td>\n",
       "      <td>0.962963</td>\n",
       "      <td>0.984615</td>\n",
       "      <td>0.93617</td>\n",
       "      <td>0.965517</td>\n",
       "      <td>0.95398</td>\n",
       "      <td>0.022722</td>\n",
       "      <td>1</td>\n",
       "      <td>[concave points_worst, radius_worst, texture_w...</td>\n",
       "    </tr>\n",
       "    <tr>\n",
       "      <th>3275</th>\n",
       "      <td>0.007072</td>\n",
       "      <td>0.000615</td>\n",
       "      <td>0.006485</td>\n",
       "      <td>0.00018</td>\n",
       "      <td>0.725701</td>\n",
       "      <td>{'C': 0.7257005721594281}</td>\n",
       "      <td>0.952381</td>\n",
       "      <td>0.964286</td>\n",
       "      <td>0.984615</td>\n",
       "      <td>0.930233</td>\n",
       "      <td>0.928571</td>\n",
       "      <td>0.952017</td>\n",
       "      <td>0.021155</td>\n",
       "      <td>1</td>\n",
       "      <td>[perimeter_worst, smoothness_worst, texture_wo...</td>\n",
       "    </tr>\n",
       "    <tr>\n",
       "      <th>2777</th>\n",
       "      <td>0.00727</td>\n",
       "      <td>0.000484</td>\n",
       "      <td>0.006698</td>\n",
       "      <td>0.000678</td>\n",
       "      <td>0.725701</td>\n",
       "      <td>{'C': 0.7257005721594281}</td>\n",
       "      <td>0.909091</td>\n",
       "      <td>0.964286</td>\n",
       "      <td>0.984615</td>\n",
       "      <td>0.954545</td>\n",
       "      <td>0.947368</td>\n",
       "      <td>0.951981</td>\n",
       "      <td>0.024835</td>\n",
       "      <td>1</td>\n",
       "      <td>[concave points_mean, radius_worst, texture_wo...</td>\n",
       "    </tr>\n",
       "    <tr>\n",
       "      <th>...</th>\n",
       "      <td>...</td>\n",
       "      <td>...</td>\n",
       "      <td>...</td>\n",
       "      <td>...</td>\n",
       "      <td>...</td>\n",
       "      <td>...</td>\n",
       "      <td>...</td>\n",
       "      <td>...</td>\n",
       "      <td>...</td>\n",
       "      <td>...</td>\n",
       "      <td>...</td>\n",
       "      <td>...</td>\n",
       "      <td>...</td>\n",
       "      <td>...</td>\n",
       "      <td>...</td>\n",
       "    </tr>\n",
       "    <tr>\n",
       "      <th>1098</th>\n",
       "      <td>0.005475</td>\n",
       "      <td>0.000975</td>\n",
       "      <td>0.005573</td>\n",
       "      <td>0.000082</td>\n",
       "      <td>0.156767</td>\n",
       "      <td>{'C': 0.15676677195506075}</td>\n",
       "      <td>0.0</td>\n",
       "      <td>0.0</td>\n",
       "      <td>0.0</td>\n",
       "      <td>0.0</td>\n",
       "      <td>0.0</td>\n",
       "      <td>0.0</td>\n",
       "      <td>0.0</td>\n",
       "      <td>1</td>\n",
       "      <td>[fractal_dimension_mean, texture_se]</td>\n",
       "    </tr>\n",
       "    <tr>\n",
       "      <th>699</th>\n",
       "      <td>0.005175</td>\n",
       "      <td>0.000525</td>\n",
       "      <td>0.005781</td>\n",
       "      <td>0.000274</td>\n",
       "      <td>0.156767</td>\n",
       "      <td>{'C': 0.15676677195506075}</td>\n",
       "      <td>0.0</td>\n",
       "      <td>0.0</td>\n",
       "      <td>0.0</td>\n",
       "      <td>0.0</td>\n",
       "      <td>0.0</td>\n",
       "      <td>0.0</td>\n",
       "      <td>0.0</td>\n",
       "      <td>1</td>\n",
       "      <td>[texture_se]</td>\n",
       "    </tr>\n",
       "    <tr>\n",
       "      <th>715</th>\n",
       "      <td>0.005311</td>\n",
       "      <td>0.000138</td>\n",
       "      <td>0.005826</td>\n",
       "      <td>0.000101</td>\n",
       "      <td>0.156767</td>\n",
       "      <td>{'C': 0.15676677195506075}</td>\n",
       "      <td>0.0</td>\n",
       "      <td>0.0</td>\n",
       "      <td>0.0</td>\n",
       "      <td>0.0</td>\n",
       "      <td>0.0</td>\n",
       "      <td>0.0</td>\n",
       "      <td>0.0</td>\n",
       "      <td>1</td>\n",
       "      <td>[smoothness_se]</td>\n",
       "    </tr>\n",
       "    <tr>\n",
       "      <th>3171</th>\n",
       "      <td>0.005749</td>\n",
       "      <td>0.000294</td>\n",
       "      <td>0.006005</td>\n",
       "      <td>0.000071</td>\n",
       "      <td>0.156767</td>\n",
       "      <td>{'C': 0.15676677195506075}</td>\n",
       "      <td>0.0</td>\n",
       "      <td>0.0</td>\n",
       "      <td>0.0</td>\n",
       "      <td>0.0</td>\n",
       "      <td>0.0</td>\n",
       "      <td>0.0</td>\n",
       "      <td>0.0</td>\n",
       "      <td>1</td>\n",
       "      <td>[fractal_dimension_mean, smoothness_se]</td>\n",
       "    </tr>\n",
       "    <tr>\n",
       "      <th>966</th>\n",
       "      <td>0.004999</td>\n",
       "      <td>0.000246</td>\n",
       "      <td>0.005988</td>\n",
       "      <td>0.000761</td>\n",
       "      <td>0.156767</td>\n",
       "      <td>{'C': 0.15676677195506075}</td>\n",
       "      <td>0.0</td>\n",
       "      <td>0.0</td>\n",
       "      <td>0.0</td>\n",
       "      <td>0.0</td>\n",
       "      <td>0.0</td>\n",
       "      <td>0.0</td>\n",
       "      <td>0.0</td>\n",
       "      <td>1</td>\n",
       "      <td>[symmetry_se]</td>\n",
       "    </tr>\n",
       "  </tbody>\n",
       "</table>\n",
       "<p>4525 rows × 15 columns</p>\n",
       "</div>"
      ],
      "text/plain": [
       "     mean_fit_time std_fit_time mean_score_time std_score_time   param_C  \\\n",
       "2832      0.006429     0.000086        0.006228        0.00008  0.725701   \n",
       "345       0.006881     0.001177        0.005371       0.000313  0.725701   \n",
       "166       0.005529     0.000408        0.005552       0.000707  0.725701   \n",
       "3275      0.007072     0.000615        0.006485        0.00018  0.725701   \n",
       "2777       0.00727     0.000484        0.006698       0.000678  0.725701   \n",
       "...            ...          ...             ...            ...       ...   \n",
       "1098      0.005475     0.000975        0.005573       0.000082  0.156767   \n",
       "699       0.005175     0.000525        0.005781       0.000274  0.156767   \n",
       "715       0.005311     0.000138        0.005826       0.000101  0.156767   \n",
       "3171      0.005749     0.000294        0.006005       0.000071  0.156767   \n",
       "966       0.004999     0.000246        0.005988       0.000761  0.156767   \n",
       "\n",
       "                          params split0_test_score split1_test_score  \\\n",
       "2832   {'C': 0.7257005721594281}           0.95082          0.962963   \n",
       "345    {'C': 0.7257005721594281}          0.920635          0.962963   \n",
       "166    {'C': 0.7257005721594281}          0.920635          0.962963   \n",
       "3275   {'C': 0.7257005721594281}          0.952381          0.964286   \n",
       "2777   {'C': 0.7257005721594281}          0.909091          0.964286   \n",
       "...                          ...               ...               ...   \n",
       "1098  {'C': 0.15676677195506075}               0.0               0.0   \n",
       "699   {'C': 0.15676677195506075}               0.0               0.0   \n",
       "715   {'C': 0.15676677195506075}               0.0               0.0   \n",
       "3171  {'C': 0.15676677195506075}               0.0               0.0   \n",
       "966   {'C': 0.15676677195506075}               0.0               0.0   \n",
       "\n",
       "     split2_test_score split3_test_score split4_test_score mean_test_score  \\\n",
       "2832          0.953846          0.977778          0.931034        0.955288   \n",
       "345           0.984615           0.93617          0.965517         0.95398   \n",
       "166           0.984615           0.93617          0.965517         0.95398   \n",
       "3275          0.984615          0.930233          0.928571        0.952017   \n",
       "2777          0.984615          0.954545          0.947368        0.951981   \n",
       "...                ...               ...               ...             ...   \n",
       "1098               0.0               0.0               0.0             0.0   \n",
       "699                0.0               0.0               0.0             0.0   \n",
       "715                0.0               0.0               0.0             0.0   \n",
       "3171               0.0               0.0               0.0             0.0   \n",
       "966                0.0               0.0               0.0             0.0   \n",
       "\n",
       "     std_test_score rank_test_score  \\\n",
       "2832        0.01533               1   \n",
       "345        0.022722               1   \n",
       "166        0.022722               1   \n",
       "3275       0.021155               1   \n",
       "2777       0.024835               1   \n",
       "...             ...             ...   \n",
       "1098            0.0               1   \n",
       "699             0.0               1   \n",
       "715             0.0               1   \n",
       "3171            0.0               1   \n",
       "966             0.0               1   \n",
       "\n",
       "                                               features  \n",
       "2832   [perimeter_worst, symmetry_worst, texture_worst]  \n",
       "345   [area_worst, concave points_worst, texture_worst]  \n",
       "166   [concave points_worst, radius_worst, texture_w...  \n",
       "3275  [perimeter_worst, smoothness_worst, texture_wo...  \n",
       "2777  [concave points_mean, radius_worst, texture_wo...  \n",
       "...                                                 ...  \n",
       "1098               [fractal_dimension_mean, texture_se]  \n",
       "699                                        [texture_se]  \n",
       "715                                     [smoothness_se]  \n",
       "3171            [fractal_dimension_mean, smoothness_se]  \n",
       "966                                       [symmetry_se]  \n",
       "\n",
       "[4525 rows x 15 columns]"
      ]
     },
     "execution_count": 36,
     "metadata": {},
     "output_type": "execute_result"
    }
   ],
   "source": [
    "results"
   ]
  },
  {
   "cell_type": "code",
   "execution_count": null,
   "metadata": {},
   "outputs": [],
   "source": [
    "results = results.reset_index(drop=True).reset_index(drop=False, ).rename(columns={'index': 'model_rank'})\n",
    "results['num_features'] = results['features'].apply(len)\n",
    "\n",
    "results['se_test_score'] = results['std_test_score'] / np.sqrt(cv_splitter.get_n_splits())"
   ]
  },
  {
   "cell_type": "code",
   "execution_count": 44,
   "metadata": {},
   "outputs": [
    {
     "data": {
      "application/vnd.plotly.v1+json": {
       "config": {
        "plotlyServerURL": "https://plot.ly"
       },
       "data": [
        {
         "customdata": [
          [
           3,
           [
            "perimeter_worst",
            "symmetry_worst",
            "texture_worst"
           ]
          ],
          [
           3,
           [
            "area_worst",
            "concave points_worst",
            "texture_worst"
           ]
          ],
          [
           3,
           [
            "concave points_worst",
            "radius_worst",
            "texture_worst"
           ]
          ],
          [
           3,
           [
            "perimeter_worst",
            "smoothness_worst",
            "texture_worst"
           ]
          ],
          [
           3,
           [
            "concave points_mean",
            "radius_worst",
            "texture_worst"
           ]
          ],
          [
           3,
           [
            "radius_worst",
            "smoothness_worst",
            "texture_worst"
           ]
          ],
          [
           3,
           [
            "radius_worst",
            "smoothness_worst",
            "texture_mean"
           ]
          ],
          [
           3,
           [
            "concave points_mean",
            "perimeter_worst",
            "texture_worst"
           ]
          ],
          [
           3,
           [
            "area_worst",
            "concave points_worst",
            "texture_mean"
           ]
          ],
          [
           3,
           [
            "area_worst",
            "concave points_mean",
            "texture_worst"
           ]
          ],
          [
           3,
           [
            "concave points_worst",
            "perimeter_worst",
            "texture_worst"
           ]
          ],
          [
           3,
           [
            "fractal_dimension_worst",
            "radius_worst",
            "texture_worst"
           ]
          ],
          [
           3,
           [
            "concavity_mean",
            "radius_worst",
            "texture_worst"
           ]
          ],
          [
           3,
           [
            "area_worst",
            "compactness_worst",
            "texture_worst"
           ]
          ],
          [
           3,
           [
            "compactness_worst",
            "radius_worst",
            "texture_worst"
           ]
          ],
          [
           3,
           [
            "perimeter_worst",
            "smoothness_worst",
            "texture_mean"
           ]
          ],
          [
           3,
           [
            "compactness_mean",
            "radius_worst",
            "texture_worst"
           ]
          ],
          [
           3,
           [
            "area_worst",
            "smoothness_worst",
            "texture_worst"
           ]
          ],
          [
           3,
           [
            "concavity_worst",
            "radius_worst",
            "texture_worst"
           ]
          ],
          [
           3,
           [
            "radius_worst",
            "smoothness_mean",
            "texture_worst"
           ]
          ],
          [
           3,
           [
            "perimeter_worst",
            "smoothness_mean",
            "texture_worst"
           ]
          ],
          [
           3,
           [
            "area_worst",
            "fractal_dimension_worst",
            "texture_worst"
           ]
          ],
          [
           3,
           [
            "fractal_dimension_worst",
            "perimeter_worst",
            "texture_worst"
           ]
          ],
          [
           3,
           [
            "concave points_mean",
            "texture_se",
            "texture_worst"
           ]
          ],
          [
           3,
           [
            "area_mean",
            "concave points_worst",
            "texture_worst"
           ]
          ],
          [
           3,
           [
            "concave points_worst",
            "radius_worst",
            "texture_mean"
           ]
          ],
          [
           3,
           [
            "perimeter_worst",
            "symmetry_mean",
            "texture_worst"
           ]
          ],
          [
           3,
           [
            "fractal_dimension_mean",
            "radius_worst",
            "texture_worst"
           ]
          ],
          [
           3,
           [
            "concavity_worst",
            "perimeter_worst",
            "texture_worst"
           ]
          ],
          [
           3,
           [
            "area_worst",
            "concavity_worst",
            "texture_worst"
           ]
          ],
          [
           3,
           [
            "perimeter_worst",
            "smoothness_worst",
            "symmetry_worst"
           ]
          ],
          [
           3,
           [
            "perimeter_mean",
            "smoothness_worst",
            "texture_worst"
           ]
          ],
          [
           3,
           [
            "radius_worst",
            "symmetry_mean",
            "texture_worst"
           ]
          ],
          [
           3,
           [
            "area_mean",
            "concave points_worst",
            "texture_mean"
           ]
          ],
          [
           3,
           [
            "concave points_worst",
            "perimeter_mean",
            "texture_mean"
           ]
          ],
          [
           3,
           [
            "concave points_worst",
            "perimeter_worst",
            "texture_mean"
           ]
          ],
          [
           3,
           [
            "concavity_mean",
            "perimeter_worst",
            "smoothness_worst"
           ]
          ],
          [
           3,
           [
            "radius_worst",
            "symmetry_worst",
            "texture_worst"
           ]
          ],
          [
           3,
           [
            "perimeter_worst",
            "smoothness_worst",
            "symmetry_se"
           ]
          ],
          [
           3,
           [
            "area_worst",
            "compactness_mean",
            "texture_worst"
           ]
          ],
          [
           3,
           [
            "area_se",
            "concave points_worst",
            "texture_worst"
           ]
          ],
          [
           3,
           [
            "compactness_worst",
            "perimeter_worst",
            "texture_worst"
           ]
          ],
          [
           3,
           [
            "radius_worst",
            "symmetry_worst",
            "texture_mean"
           ]
          ],
          [
           3,
           [
            "concave points_mean",
            "perimeter_worst",
            "texture_mean"
           ]
          ],
          [
           3,
           [
            "concave points_worst",
            "radius_mean",
            "texture_worst"
           ]
          ],
          [
           3,
           [
            "area_worst",
            "concavity_mean",
            "texture_worst"
           ]
          ],
          [
           3,
           [
            "perimeter_worst",
            "smoothness_worst",
            "symmetry_mean"
           ]
          ],
          [
           3,
           [
            "area_worst",
            "smoothness_mean",
            "texture_worst"
           ]
          ],
          [
           3,
           [
            "concavity_mean",
            "perimeter_worst",
            "texture_worst"
           ]
          ],
          [
           3,
           [
            "concave points_mean",
            "fractal_dimension_se",
            "texture_worst"
           ]
          ],
          [
           3,
           [
            "area_worst",
            "compactness_worst",
            "symmetry_worst"
           ]
          ],
          [
           3,
           [
            "concave points_worst",
            "perimeter_mean",
            "texture_worst"
           ]
          ],
          [
           3,
           [
            "concave points_mean",
            "fractal_dimension_mean",
            "fractal_dimension_worst"
           ]
          ],
          [
           3,
           [
            "area_worst",
            "perimeter_worst",
            "smoothness_worst"
           ]
          ],
          [
           3,
           [
            "compactness_worst",
            "radius_worst",
            "smoothness_worst"
           ]
          ],
          [
           3,
           [
            "fractal_dimension_worst",
            "radius_worst",
            "smoothness_worst"
           ]
          ],
          [
           3,
           [
            "area_se",
            "concave points_mean",
            "texture_worst"
           ]
          ],
          [
           3,
           [
            "fractal_dimension_worst",
            "perimeter_worst",
            "smoothness_worst"
           ]
          ],
          [
           3,
           [
            "area_worst",
            "symmetry_worst",
            "texture_worst"
           ]
          ],
          [
           3,
           [
            "concavity_worst",
            "radius_worst",
            "texture_mean"
           ]
          ],
          [
           3,
           [
            "fractal_dimension_worst",
            "radius_worst",
            "texture_mean"
           ]
          ],
          [
           3,
           [
            "concave points_mean",
            "fractal_dimension_mean",
            "texture_worst"
           ]
          ],
          [
           3,
           [
            "concave points_worst",
            "fractal_dimension_mean",
            "texture_worst"
           ]
          ],
          [
           3,
           [
            "fractal_dimension_mean",
            "perimeter_worst",
            "smoothness_worst"
           ]
          ],
          [
           2,
           [
            "perimeter_worst",
            "smoothness_worst"
           ]
          ],
          [
           3,
           [
            "fractal_dimension_se",
            "perimeter_worst",
            "smoothness_worst"
           ]
          ],
          [
           3,
           [
            "area_worst",
            "fractal_dimension_worst",
            "texture_mean"
           ]
          ],
          [
           3,
           [
            "concave points_worst",
            "radius_mean",
            "texture_mean"
           ]
          ],
          [
           3,
           [
            "area_se",
            "concave points_worst",
            "texture_mean"
           ]
          ],
          [
           3,
           [
            "area_worst",
            "smoothness_worst",
            "texture_mean"
           ]
          ],
          [
           3,
           [
            "perimeter_worst",
            "symmetry_worst",
            "texture_mean"
           ]
          ],
          [
           3,
           [
            "concavity_worst",
            "radius_worst",
            "smoothness_worst"
           ]
          ],
          [
           3,
           [
            "area_worst",
            "symmetry_worst",
            "texture_mean"
           ]
          ],
          [
           3,
           [
            "area_worst",
            "symmetry_mean",
            "texture_worst"
           ]
          ],
          [
           3,
           [
            "compactness_worst",
            "radius_worst",
            "symmetry_worst"
           ]
          ],
          [
           3,
           [
            "compactness_mean",
            "concave points_mean",
            "concavity_worst"
           ]
          ],
          [
           3,
           [
            "concave points_mean",
            "perimeter_mean",
            "texture_worst"
           ]
          ],
          [
           3,
           [
            "concavity_worst",
            "perimeter_worst",
            "smoothness_worst"
           ]
          ],
          [
           3,
           [
            "area_worst",
            "compactness_worst",
            "concave points_mean"
           ]
          ],
          [
           3,
           [
            "area_worst",
            "compactness_worst",
            "smoothness_worst"
           ]
          ],
          [
           3,
           [
            "concave points_mean",
            "perimeter_worst",
            "smoothness_worst"
           ]
          ],
          [
           3,
           [
            "concavity_se",
            "perimeter_worst",
            "smoothness_worst"
           ]
          ],
          [
           3,
           [
            "concave points_mean",
            "fractal_dimension_mean",
            "symmetry_worst"
           ]
          ],
          [
           3,
           [
            "fractal_dimension_mean",
            "perimeter_worst",
            "texture_worst"
           ]
          ],
          [
           3,
           [
            "perimeter_worst",
            "radius_worst",
            "smoothness_worst"
           ]
          ],
          [
           3,
           [
            "compactness_worst",
            "perimeter_worst",
            "smoothness_worst"
           ]
          ],
          [
           3,
           [
            "compactness_mean",
            "perimeter_worst",
            "texture_worst"
           ]
          ],
          [
           3,
           [
            "perimeter_worst",
            "smoothness_mean",
            "symmetry_worst"
           ]
          ],
          [
           3,
           [
            "radius_worst",
            "smoothness_worst",
            "symmetry_worst"
           ]
          ],
          [
           3,
           [
            "area_worst",
            "smoothness_worst",
            "symmetry_worst"
           ]
          ],
          [
           3,
           [
            "compactness_se",
            "perimeter_worst",
            "smoothness_worst"
           ]
          ],
          [
           3,
           [
            "area_worst",
            "concave points_worst",
            "symmetry_worst"
           ]
          ],
          [
           3,
           [
            "radius_mean",
            "smoothness_worst",
            "texture_mean"
           ]
          ],
          [
           3,
           [
            "perimeter_mean",
            "smoothness_worst",
            "texture_mean"
           ]
          ],
          [
           3,
           [
            "fractal_dimension_worst",
            "perimeter_worst",
            "texture_mean"
           ]
          ],
          [
           3,
           [
            "area_worst",
            "fractal_dimension_mean",
            "texture_worst"
           ]
          ],
          [
           3,
           [
            "fractal_dimension_worst",
            "perimeter_worst",
            "symmetry_worst"
           ]
          ],
          [
           3,
           [
            "perimeter_worst",
            "smoothness_se",
            "smoothness_worst"
           ]
          ],
          [
           3,
           [
            "compactness_se",
            "concave points_mean",
            "texture_mean"
           ]
          ],
          [
           3,
           [
            "concave points_mean",
            "concave points_se",
            "texture_mean"
           ]
          ],
          [
           3,
           [
            "concave points_mean",
            "fractal_dimension_se",
            "texture_mean"
           ]
          ],
          [
           3,
           [
            "radius_mean",
            "smoothness_worst",
            "texture_worst"
           ]
          ],
          [
           3,
           [
            "area_worst",
            "concave points_worst",
            "smoothness_worst"
           ]
          ],
          [
           3,
           [
            "concave points_worst",
            "perimeter_worst",
            "symmetry_worst"
           ]
          ],
          [
           3,
           [
            "radius_worst",
            "smoothness_mean",
            "texture_mean"
           ]
          ],
          [
           3,
           [
            "area_worst",
            "concavity_worst",
            "symmetry_worst"
           ]
          ],
          [
           3,
           [
            "concave points_mean",
            "radius_worst",
            "texture_mean"
           ]
          ],
          [
           3,
           [
            "area_worst",
            "concave points_mean",
            "texture_mean"
           ]
          ],
          [
           3,
           [
            "perimeter_worst",
            "smoothness_se",
            "symmetry_worst"
           ]
          ],
          [
           3,
           [
            "perimeter_worst",
            "smoothness_mean",
            "smoothness_worst"
           ]
          ],
          [
           3,
           [
            "compactness_worst",
            "perimeter_worst",
            "symmetry_worst"
           ]
          ],
          [
           3,
           [
            "area_worst",
            "concave points_worst",
            "concavity_worst"
           ]
          ],
          [
           3,
           [
            "perimeter_se",
            "perimeter_worst",
            "smoothness_worst"
           ]
          ],
          [
           3,
           [
            "area_worst",
            "concavity_worst",
            "smoothness_worst"
           ]
          ],
          [
           3,
           [
            "compactness_worst",
            "concave points_mean",
            "radius_worst"
           ]
          ],
          [
           3,
           [
            "concavity_mean",
            "perimeter_worst",
            "symmetry_worst"
           ]
          ],
          [
           3,
           [
            "concavity_worst",
            "radius_worst",
            "smoothness_mean"
           ]
          ],
          [
           3,
           [
            "perimeter_worst",
            "symmetry_worst",
            "texture_se"
           ]
          ],
          [
           3,
           [
            "concave points_mean",
            "fractal_dimension_mean",
            "texture_mean"
           ]
          ],
          [
           3,
           [
            "compactness_se",
            "radius_worst",
            "smoothness_worst"
           ]
          ],
          [
           3,
           [
            "area_worst",
            "concavity_mean",
            "symmetry_worst"
           ]
          ],
          [
           3,
           [
            "area_mean",
            "concave points_mean",
            "texture_worst"
           ]
          ],
          [
           3,
           [
            "area_worst",
            "compactness_worst",
            "texture_mean"
           ]
          ],
          [
           3,
           [
            "compactness_worst",
            "radius_worst",
            "texture_mean"
           ]
          ],
          [
           3,
           [
            "perimeter_worst",
            "smoothness_worst",
            "texture_se"
           ]
          ],
          [
           3,
           [
            "compactness_worst",
            "radius_worst",
            "smoothness_mean"
           ]
          ],
          [
           3,
           [
            "concave points_mean",
            "radius_worst",
            "smoothness_worst"
           ]
          ],
          [
           3,
           [
            "concave points_mean",
            "radius_worst",
            "symmetry_worst"
           ]
          ],
          [
           3,
           [
            "area_worst",
            "concave points_mean",
            "symmetry_worst"
           ]
          ],
          [
           3,
           [
            "concave points_worst",
            "radius_se",
            "texture_worst"
           ]
          ],
          [
           3,
           [
            "area_worst",
            "concave points_worst",
            "concavity_mean"
           ]
          ],
          [
           3,
           [
            "concavity_mean",
            "radius_worst",
            "symmetry_worst"
           ]
          ],
          [
           3,
           [
            "concave points_worst",
            "fractal_dimension_mean",
            "texture_mean"
           ]
          ],
          [
           3,
           [
            "concave points_worst",
            "radius_worst",
            "texture_se"
           ]
          ],
          [
           3,
           [
            "compactness_mean",
            "compactness_worst",
            "concave points_mean"
           ]
          ],
          [
           3,
           [
            "perimeter_worst",
            "smoothness_mean",
            "texture_mean"
           ]
          ],
          [
           3,
           [
            "area_se",
            "concave points_worst",
            "fractal_dimension_mean"
           ]
          ],
          [
           3,
           [
            "concave points_mean",
            "perimeter_worst",
            "symmetry_worst"
           ]
          ],
          [
           3,
           [
            "fractal_dimension_worst",
            "perimeter_worst",
            "smoothness_se"
           ]
          ],
          [
           3,
           [
            "area_worst",
            "concave points_worst",
            "texture_se"
           ]
          ],
          [
           3,
           [
            "area_worst",
            "concave points_worst",
            "smoothness_mean"
           ]
          ],
          [
           3,
           [
            "concave points_mean",
            "smoothness_mean",
            "texture_worst"
           ]
          ],
          [
           3,
           [
            "concavity_mean",
            "radius_worst",
            "smoothness_worst"
           ]
          ],
          [
           3,
           [
            "area_worst",
            "concave points_worst",
            "smoothness_se"
           ]
          ],
          [
           3,
           [
            "area_worst",
            "concave points_worst",
            "radius_se"
           ]
          ],
          [
           3,
           [
            "area_se",
            "concave points_worst",
            "radius_worst"
           ]
          ],
          [
           3,
           [
            "concavity_worst",
            "radius_worst",
            "symmetry_worst"
           ]
          ],
          [
           3,
           [
            "concavity_worst",
            "perimeter_worst",
            "texture_mean"
           ]
          ],
          [
           3,
           [
            "area_mean",
            "concave points_mean",
            "symmetry_worst"
           ]
          ],
          [
           3,
           [
            "area_worst",
            "fractal_dimension_worst",
            "smoothness_worst"
           ]
          ],
          [
           3,
           [
            "compactness_mean",
            "radius_worst",
            "smoothness_worst"
           ]
          ],
          [
           3,
           [
            "area_mean",
            "smoothness_worst",
            "texture_mean"
           ]
          ],
          [
           3,
           [
            "concave points_mean",
            "concavity_worst",
            "texture_mean"
           ]
          ],
          [
           3,
           [
            "area_se",
            "area_worst",
            "concave points_worst"
           ]
          ],
          [
           3,
           [
            "concavity_worst",
            "perimeter_mean",
            "texture_worst"
           ]
          ],
          [
           3,
           [
            "concavity_worst",
            "radius_mean",
            "texture_worst"
           ]
          ],
          [
           3,
           [
            "area_worst",
            "smoothness_se",
            "smoothness_worst"
           ]
          ],
          [
           3,
           [
            "compactness_worst",
            "concave points_mean",
            "perimeter_worst"
           ]
          ],
          [
           3,
           [
            "concave points_mean",
            "smoothness_se",
            "texture_mean"
           ]
          ],
          [
           3,
           [
            "concave points_worst",
            "radius_worst",
            "symmetry_worst"
           ]
          ],
          [
           3,
           [
            "concave points_worst",
            "concavity_worst",
            "radius_worst"
           ]
          ],
          [
           3,
           [
            "area_se",
            "concavity_se",
            "concavity_worst"
           ]
          ],
          [
           3,
           [
            "area_se",
            "perimeter_worst",
            "smoothness_worst"
           ]
          ],
          [
           3,
           [
            "concave points_mean",
            "concavity_se",
            "texture_mean"
           ]
          ],
          [
           3,
           [
            "concave points_mean",
            "fractal_dimension_worst",
            "radius_worst"
           ]
          ],
          [
           3,
           [
            "concavity_worst",
            "radius_worst",
            "smoothness_se"
           ]
          ],
          [
           3,
           [
            "concave points_mean",
            "radius_mean",
            "texture_worst"
           ]
          ],
          [
           3,
           [
            "concave points_worst",
            "radius_worst",
            "smoothness_se"
           ]
          ],
          [
           3,
           [
            "concave points_mean",
            "radius_se",
            "texture_worst"
           ]
          ],
          [
           3,
           [
            "concave points_mean",
            "perimeter_se",
            "texture_worst"
           ]
          ],
          [
           3,
           [
            "concavity_se",
            "concavity_worst",
            "radius_worst"
           ]
          ],
          [
           3,
           [
            "concave points_worst",
            "fractal_dimension_mean",
            "radius_se"
           ]
          ],
          [
           3,
           [
            "area_mean",
            "perimeter_worst",
            "smoothness_worst"
           ]
          ],
          [
           3,
           [
            "concavity_worst",
            "fractal_dimension_se",
            "radius_worst"
           ]
          ],
          [
           3,
           [
            "area_worst",
            "concavity_worst",
            "fractal_dimension_se"
           ]
          ],
          [
           3,
           [
            "concave points_mean",
            "concavity_worst",
            "fractal_dimension_mean"
           ]
          ],
          [
           3,
           [
            "concave points_mean",
            "concave points_worst",
            "radius_worst"
           ]
          ],
          [
           3,
           [
            "concave points_mean",
            "concave points_worst",
            "perimeter_worst"
           ]
          ],
          [
           3,
           [
            "radius_worst",
            "smoothness_worst",
            "texture_se"
           ]
          ],
          [
           3,
           [
            "compactness_worst",
            "concave points_mean",
            "fractal_dimension_mean"
           ]
          ],
          [
           3,
           [
            "compactness_se",
            "concavity_worst",
            "radius_worst"
           ]
          ],
          [
           3,
           [
            "fractal_dimension_se",
            "fractal_dimension_worst",
            "perimeter_worst"
           ]
          ],
          [
           3,
           [
            "concave points_mean",
            "radius_se",
            "texture_mean"
           ]
          ],
          [
           3,
           [
            "area_worst",
            "concave points_mean",
            "concavity_worst"
           ]
          ],
          [
           3,
           [
            "compactness_mean",
            "concave points_mean",
            "texture_worst"
           ]
          ],
          [
           3,
           [
            "area_worst",
            "smoothness_mean",
            "texture_mean"
           ]
          ],
          [
           3,
           [
            "compactness_se",
            "concave points_mean",
            "texture_worst"
           ]
          ],
          [
           3,
           [
            "area_worst",
            "fractal_dimension_worst",
            "symmetry_worst"
           ]
          ],
          [
           3,
           [
            "concave points_se",
            "perimeter_worst",
            "smoothness_worst"
           ]
          ],
          [
           3,
           [
            "concave points_mean",
            "concave points_worst",
            "fractal_dimension_mean"
           ]
          ],
          [
           3,
           [
            "area_worst",
            "concavity_worst",
            "smoothness_mean"
           ]
          ],
          [
           3,
           [
            "area_mean",
            "concavity_worst",
            "texture_worst"
           ]
          ],
          [
           3,
           [
            "concave points_mean",
            "smoothness_se",
            "texture_worst"
           ]
          ],
          [
           3,
           [
            "area_worst",
            "concave points_worst",
            "fractal_dimension_mean"
           ]
          ],
          [
           3,
           [
            "concavity_mean",
            "fractal_dimension_se",
            "perimeter_se"
           ]
          ],
          [
           3,
           [
            "concave points_worst",
            "perimeter_se",
            "radius_worst"
           ]
          ],
          [
           3,
           [
            "fractal_dimension_worst",
            "radius_worst",
            "symmetry_worst"
           ]
          ],
          [
           3,
           [
            "area_worst",
            "fractal_dimension_worst",
            "smoothness_se"
           ]
          ],
          [
           3,
           [
            "concave points_mean",
            "symmetry_worst",
            "texture_worst"
           ]
          ],
          [
           3,
           [
            "concave points_mean",
            "radius_mean",
            "symmetry_worst"
           ]
          ]
         ],
         "error_y": {
          "array": [
           0.006855576222635723,
           0.010161517980797815,
           0.010161517980797815,
           0.009460581837627921,
           0.0111064328433089,
           0.009815822163946655,
           0.0068965808038190905,
           0.01196694993842855,
           0.013235651672386328,
           0.01706630043939435,
           0.010184119732373108,
           0.012255862389988546,
           0.01277900207218368,
           0.012426432847200679,
           0.012426432847200679,
           0.010017367850688982,
           0.014793314108249911,
           0.009759791050133465,
           0.013958323248170479,
           0.00756447676223611,
           0.00756447676223611,
           0.011801299104078795,
           0.010690334386417165,
           0.018409364982083513,
           0.018163753800502825,
           0.014874479635295578,
           0.00806836040101835,
           0.011798892734896376,
           0.013360601448266042,
           0.013360601448266042,
           0.007568525784877226,
           0.01477611954005937,
           0.010118384525922956,
           0.021455475089214002,
           0.02167539682228375,
           0.015555093271950479,
           0.016075998630769407,
           0.010419682453982079,
           0.010619732252078943,
           0.016101802971705284,
           0.01175245659331551,
           0.014714907181381224,
           0.008040721707560764,
           0.020751479449982926,
           0.020564905864057632,
           0.013027524321428573,
           0.006836836007553606,
           0.0055981282032963224,
           0.01608167180250256,
           0.01734965531856101,
           0.008335869005899773,
           0.02409088523302228,
           0.01861734547988269,
           0.007775240354200898,
           0.011490429733185972,
           0.014603879607763702,
           0.022032186758963963,
           0.011493114219890525,
           0.01065320998994988,
           0.013819564469799763,
           0.01662922278627771,
           0.02328913899712582,
           0.016153041782795273,
           0.012020290107846457,
           0.012020290107846457,
           0.012020290107846457,
           0.017285184664818824,
           0.02351180781299891,
           0.01656989216245388,
           0.008527894138896862,
           0.011502851477325363,
           0.0151183827888176,
           0.006755146131136516,
           0.008490493052640845,
           0.010567398702737377,
           0.02137815616556128,
           0.022632664760953367,
           0.012605481927577687,
           0.018422804991888194,
           0.01293663099831405,
           0.017871848037736924,
           0.015056053108736133,
           0.015937929952370544,
           0.01283727939692633,
           0.008778765787468935,
           0.012907347176281544,
           0.01977456924353406,
           0.008490373639914553,
           0.008864088289441763,
           0.008864088289441763,
           0.01263026167420247,
           0.010044646487905432,
           0.016001788553875337,
           0.016001788553875337,
           0.019510999133998664,
           0.011125511256568679,
           0.007647602049141591,
           0.009299824904337657,
           0.01858214462946375,
           0.01858214462946375,
           0.017912875414955284,
           0.007397468725137793,
           0.01454710926429272,
           0.01009084681231777,
           0.018469702868236494,
           0.009161035507648527,
           0.023540629531249364,
           0.023540629531249364,
           0.01303936710894273,
           0.012807769845392938,
           0.009734598716445417,
           0.013742476901785948,
           0.009923950995474792,
           0.01570131491554652,
           0.016460504241212395,
           0.01641424593674888,
           0.01430418552783513,
           0.007050558816794668,
           0.020231520182406676,
           0.013463695104791328,
           0.013723044568390748,
           0.01971887450716915,
           0.015646245914765242,
           0.015646245914765242,
           0.014526650337383719,
           0.016793128534458097,
           0.01609687983913852,
           0.0107148940444359,
           0.0107148940444359,
           0.01227583077108024,
           0.01998276065890044,
           0.016829625491417838,
           0.018926855848257124,
           0.015554222569997066,
           0.023871869833039686,
           0.016021638018015885,
           0.015656904617758604,
           0.01705010609332987,
           0.010474789218206769,
           0.015412196136367554,
           0.018323136770165043,
           0.021943878754009997,
           0.01637629350676025,
           0.015308577253377989,
           0.015199571698176994,
           0.01189487176414754,
           0.010233047341318847,
           0.014841394612243224,
           0.013782467209737323,
           0.014691173451732376,
           0.011703434455957524,
           0.01766297085986582,
           0.021465001028887994,
           0.012216673497605173,
           0.01906351545124646,
           0.01906351545124646,
           0.011835687072218765,
           0.015988497456110765,
           0.020134766885102004,
           0.009632343765773484,
           0.007521035062987061,
           0.014337900086704472,
           0.014772537918858528,
           0.021448155463392734,
           0.015478324654709505,
           0.014397987355658263,
           0.022269660263466867,
           0.013635204047786318,
           0.02296575072794292,
           0.02416771159254801,
           0.01253097752100895,
           0.013535413245921274,
           0.007178547646736696,
           0.011929744143509061,
           0.011929744143509061,
           0.021174299648774843,
           0.01991222837427971,
           0.01991222837427971,
           0.008009837146134293,
           0.02151920964376569,
           0.012921593979910379,
           0.007898496867446907,
           0.021038008879273602,
           0.023150961707053608,
           0.022659172288104344,
           0.014590379441137101,
           0.02038276590821661,
           0.01615434812886382,
           0.016413662078950314,
           0.021813895704461288,
           0.017342589715778272,
           0.013557684329430122,
           0.020579574650597406,
           0.013872824039153192,
           0.011552983835090744,
           0.01506676682818817,
           0.007724703311216654,
           0.011665080340314595,
           0.01820953744525217,
           0.014302708851929507
          ]
         },
         "hovertemplate": "model_rank=%{x}<br>mean_test_score=%{y}<br>num_features=%{customdata[0]}<br>features=%{customdata[1]}<extra></extra>",
         "legendgroup": "",
         "line": {
          "color": "#636efa",
          "dash": "solid"
         },
         "marker": {
          "symbol": "circle"
         },
         "mode": "lines+markers",
         "name": "",
         "orientation": "h",
         "showlegend": false,
         "type": "scatter",
         "x": [
          0,
          1,
          2,
          3,
          4,
          5,
          6,
          7,
          8,
          9,
          10,
          11,
          12,
          13,
          14,
          15,
          16,
          17,
          18,
          19,
          20,
          21,
          22,
          23,
          24,
          25,
          26,
          27,
          28,
          29,
          30,
          31,
          32,
          33,
          34,
          35,
          36,
          37,
          38,
          39,
          40,
          41,
          42,
          43,
          44,
          45,
          46,
          47,
          48,
          49,
          50,
          51,
          52,
          53,
          54,
          55,
          56,
          57,
          58,
          59,
          60,
          61,
          62,
          63,
          64,
          65,
          66,
          67,
          68,
          69,
          70,
          71,
          72,
          73,
          74,
          75,
          76,
          77,
          78,
          79,
          80,
          81,
          82,
          83,
          84,
          85,
          86,
          87,
          88,
          89,
          90,
          91,
          92,
          93,
          94,
          95,
          96,
          97,
          98,
          99,
          100,
          101,
          102,
          103,
          104,
          105,
          106,
          107,
          108,
          109,
          110,
          111,
          112,
          113,
          114,
          115,
          116,
          117,
          118,
          119,
          120,
          121,
          122,
          123,
          124,
          125,
          126,
          127,
          128,
          129,
          130,
          131,
          132,
          133,
          134,
          135,
          136,
          137,
          138,
          139,
          140,
          141,
          142,
          143,
          144,
          145,
          146,
          147,
          148,
          149,
          150,
          151,
          152,
          153,
          154,
          155,
          156,
          157,
          158,
          159,
          160,
          161,
          162,
          163,
          164,
          165,
          166,
          167,
          168,
          169,
          170,
          171,
          172,
          173,
          174,
          175,
          176,
          177,
          178,
          179,
          180,
          181,
          182,
          183,
          184,
          185,
          186,
          187,
          188,
          189,
          190,
          191,
          192,
          193,
          194,
          195,
          196,
          197,
          198,
          199
         ],
         "xaxis": "x",
         "y": [
          0.9552882098953326,
          0.9539801444717073,
          0.9539801444717073,
          0.9520172075986029,
          0.9519811767180189,
          0.9515247833561787,
          0.9507305194805195,
          0.9505436059256093,
          0.949320463135631,
          0.9487927589651728,
          0.9482054607590754,
          0.9481502398154685,
          0.9476991599232687,
          0.9476700758570435,
          0.9476700758570435,
          0.9467643467643467,
          0.9458441558441558,
          0.945828412925187,
          0.9454533939932922,
          0.9446522797269067,
          0.9446522797269067,
          0.9442368925058947,
          0.9438990320859999,
          0.9434493602255477,
          0.9433434516413781,
          0.9432725766072562,
          0.9430360474428271,
          0.9422721454173069,
          0.9420699353466755,
          0.9420699353466755,
          0.9414538150022022,
          0.9413493246280131,
          0.9402751046818845,
          0.939913307539664,
          0.9393446857684518,
          0.9392277950612632,
          0.9384006133853973,
          0.9382958607464085,
          0.9373779367298238,
          0.9373489115424599,
          0.9373458725182863,
          0.9373416550368197,
          0.9369927577767919,
          0.9367311933349669,
          0.9363610027847689,
          0.9363351119165072,
          0.9362865665787975,
          0.9360234666794888,
          0.9359824543162224,
          0.9359742453402076,
          0.9359667713938006,
          0.9359524511248649,
          0.9358734840302491,
          0.9354517954722873,
          0.9353073222916999,
          0.9352283655205966,
          0.934773121195535,
          0.9347399464051751,
          0.9342320000787743,
          0.9341843140018071,
          0.9339013722396574,
          0.9337053001277139,
          0.9335626864645341,
          0.9333248270163368,
          0.9333248270163368,
          0.9333248270163368,
          0.9330411571858941,
          0.9330181435097062,
          0.9327954032869661,
          0.9326516669912897,
          0.9326239595307392,
          0.9325315196984201,
          0.9323550766173717,
          0.9322616366684164,
          0.9322262687637597,
          0.9321407154747684,
          0.9318990548432078,
          0.9317785503184485,
          0.9317485929042922,
          0.9317007649146507,
          0.9315756861129559,
          0.931574963240192,
          0.9314724560584237,
          0.9314514699913682,
          0.9313938244577946,
          0.9311333890281259,
          0.9310488282521895,
          0.9308696952764748,
          0.9307860252894005,
          0.9307860252894005,
          0.9306868366916881,
          0.9304033716826818,
          0.9303338992642898,
          0.9303338992642898,
          0.9301996271312492,
          0.9301511067548803,
          0.9301059655329947,
          0.9300478172877142,
          0.9299363285803963,
          0.9299363285803963,
          0.9299322586530596,
          0.9297851755049636,
          0.9297611181399896,
          0.9297053573077759,
          0.9296769538705023,
          0.9296614178483857,
          0.9295504972924327,
          0.9295504972924327,
          0.929434063204555,
          0.929428723120233,
          0.9292500782875692,
          0.9292408872741523,
          0.9292118226812278,
          0.9291645163314168,
          0.9291137372864553,
          0.9291033802700784,
          0.9290879950523052,
          0.9290199655417046,
          0.9289947089947092,
          0.9289899597052473,
          0.9289820033216261,
          0.9286792452830188,
          0.9285762081212126,
          0.9285762081212126,
          0.9283666154633897,
          0.9283657381661659,
          0.9282986763843333,
          0.9278869808793082,
          0.9278869808793082,
          0.9278688468117524,
          0.9278598391184204,
          0.9278452013935885,
          0.9277867360026282,
          0.9277814750640033,
          0.927752371030819,
          0.9276700065300905,
          0.9276320771894939,
          0.9275854677739346,
          0.9274881916329285,
          0.9272992524716661,
          0.927234435685538,
          0.9271636935861075,
          0.9271209077660691,
          0.9271098585322722,
          0.9269082456290464,
          0.9267475615033789,
          0.9267000217616591,
          0.9266759902995064,
          0.926596797312085,
          0.9264778381430668,
          0.9264046772660391,
          0.9262269309637731,
          0.9262258209626631,
          0.9260579063309651,
          0.9260372974727288,
          0.9260372974727288,
          0.9259554066005679,
          0.9258469496276531,
          0.9257842940001859,
          0.9256414966401417,
          0.9255700065599954,
          0.9253982435325983,
          0.9252197245716116,
          0.9250448402172541,
          0.9250434320135597,
          0.9248575788910461,
          0.9248374373734143,
          0.9247742505918257,
          0.9247532799256936,
          0.9246600860824998,
          0.9246241524433014,
          0.9245566803640971,
          0.9245169513309215,
          0.9245099245659156,
          0.9245099245659156,
          0.9244818565701418,
          0.9244170837305482,
          0.9244170837305482,
          0.9243522785458269,
          0.9243248992463492,
          0.9242239061378827,
          0.9241405724656945,
          0.92404971668572,
          0.9240382568251422,
          0.9239169403393541,
          0.9239037727638566,
          0.9238866838574848,
          0.9237982312102094,
          0.9237768100033665,
          0.9237062586130869,
          0.9236434673321069,
          0.9235714849598601,
          0.9234021904142269,
          0.9233451552453463,
          0.9233218888391302,
          0.9233143530636297,
          0.9232449020681578,
          0.923170015814625,
          0.9231364179353395,
          0.9231134881683983
         ],
         "yaxis": "y"
        }
       ],
       "layout": {
        "legend": {
         "tracegroupgap": 0
        },
        "template": {
         "data": {
          "bar": [
           {
            "error_x": {
             "color": "#2a3f5f"
            },
            "error_y": {
             "color": "#2a3f5f"
            },
            "marker": {
             "line": {
              "color": "#E5ECF6",
              "width": 0.5
             },
             "pattern": {
              "fillmode": "overlay",
              "size": 10,
              "solidity": 0.2
             }
            },
            "type": "bar"
           }
          ],
          "barpolar": [
           {
            "marker": {
             "line": {
              "color": "#E5ECF6",
              "width": 0.5
             },
             "pattern": {
              "fillmode": "overlay",
              "size": 10,
              "solidity": 0.2
             }
            },
            "type": "barpolar"
           }
          ],
          "carpet": [
           {
            "aaxis": {
             "endlinecolor": "#2a3f5f",
             "gridcolor": "white",
             "linecolor": "white",
             "minorgridcolor": "white",
             "startlinecolor": "#2a3f5f"
            },
            "baxis": {
             "endlinecolor": "#2a3f5f",
             "gridcolor": "white",
             "linecolor": "white",
             "minorgridcolor": "white",
             "startlinecolor": "#2a3f5f"
            },
            "type": "carpet"
           }
          ],
          "choropleth": [
           {
            "colorbar": {
             "outlinewidth": 0,
             "ticks": ""
            },
            "type": "choropleth"
           }
          ],
          "contour": [
           {
            "colorbar": {
             "outlinewidth": 0,
             "ticks": ""
            },
            "colorscale": [
             [
              0,
              "#0d0887"
             ],
             [
              0.1111111111111111,
              "#46039f"
             ],
             [
              0.2222222222222222,
              "#7201a8"
             ],
             [
              0.3333333333333333,
              "#9c179e"
             ],
             [
              0.4444444444444444,
              "#bd3786"
             ],
             [
              0.5555555555555556,
              "#d8576b"
             ],
             [
              0.6666666666666666,
              "#ed7953"
             ],
             [
              0.7777777777777778,
              "#fb9f3a"
             ],
             [
              0.8888888888888888,
              "#fdca26"
             ],
             [
              1,
              "#f0f921"
             ]
            ],
            "type": "contour"
           }
          ],
          "contourcarpet": [
           {
            "colorbar": {
             "outlinewidth": 0,
             "ticks": ""
            },
            "type": "contourcarpet"
           }
          ],
          "heatmap": [
           {
            "colorbar": {
             "outlinewidth": 0,
             "ticks": ""
            },
            "colorscale": [
             [
              0,
              "#0d0887"
             ],
             [
              0.1111111111111111,
              "#46039f"
             ],
             [
              0.2222222222222222,
              "#7201a8"
             ],
             [
              0.3333333333333333,
              "#9c179e"
             ],
             [
              0.4444444444444444,
              "#bd3786"
             ],
             [
              0.5555555555555556,
              "#d8576b"
             ],
             [
              0.6666666666666666,
              "#ed7953"
             ],
             [
              0.7777777777777778,
              "#fb9f3a"
             ],
             [
              0.8888888888888888,
              "#fdca26"
             ],
             [
              1,
              "#f0f921"
             ]
            ],
            "type": "heatmap"
           }
          ],
          "heatmapgl": [
           {
            "colorbar": {
             "outlinewidth": 0,
             "ticks": ""
            },
            "colorscale": [
             [
              0,
              "#0d0887"
             ],
             [
              0.1111111111111111,
              "#46039f"
             ],
             [
              0.2222222222222222,
              "#7201a8"
             ],
             [
              0.3333333333333333,
              "#9c179e"
             ],
             [
              0.4444444444444444,
              "#bd3786"
             ],
             [
              0.5555555555555556,
              "#d8576b"
             ],
             [
              0.6666666666666666,
              "#ed7953"
             ],
             [
              0.7777777777777778,
              "#fb9f3a"
             ],
             [
              0.8888888888888888,
              "#fdca26"
             ],
             [
              1,
              "#f0f921"
             ]
            ],
            "type": "heatmapgl"
           }
          ],
          "histogram": [
           {
            "marker": {
             "pattern": {
              "fillmode": "overlay",
              "size": 10,
              "solidity": 0.2
             }
            },
            "type": "histogram"
           }
          ],
          "histogram2d": [
           {
            "colorbar": {
             "outlinewidth": 0,
             "ticks": ""
            },
            "colorscale": [
             [
              0,
              "#0d0887"
             ],
             [
              0.1111111111111111,
              "#46039f"
             ],
             [
              0.2222222222222222,
              "#7201a8"
             ],
             [
              0.3333333333333333,
              "#9c179e"
             ],
             [
              0.4444444444444444,
              "#bd3786"
             ],
             [
              0.5555555555555556,
              "#d8576b"
             ],
             [
              0.6666666666666666,
              "#ed7953"
             ],
             [
              0.7777777777777778,
              "#fb9f3a"
             ],
             [
              0.8888888888888888,
              "#fdca26"
             ],
             [
              1,
              "#f0f921"
             ]
            ],
            "type": "histogram2d"
           }
          ],
          "histogram2dcontour": [
           {
            "colorbar": {
             "outlinewidth": 0,
             "ticks": ""
            },
            "colorscale": [
             [
              0,
              "#0d0887"
             ],
             [
              0.1111111111111111,
              "#46039f"
             ],
             [
              0.2222222222222222,
              "#7201a8"
             ],
             [
              0.3333333333333333,
              "#9c179e"
             ],
             [
              0.4444444444444444,
              "#bd3786"
             ],
             [
              0.5555555555555556,
              "#d8576b"
             ],
             [
              0.6666666666666666,
              "#ed7953"
             ],
             [
              0.7777777777777778,
              "#fb9f3a"
             ],
             [
              0.8888888888888888,
              "#fdca26"
             ],
             [
              1,
              "#f0f921"
             ]
            ],
            "type": "histogram2dcontour"
           }
          ],
          "mesh3d": [
           {
            "colorbar": {
             "outlinewidth": 0,
             "ticks": ""
            },
            "type": "mesh3d"
           }
          ],
          "parcoords": [
           {
            "line": {
             "colorbar": {
              "outlinewidth": 0,
              "ticks": ""
             }
            },
            "type": "parcoords"
           }
          ],
          "pie": [
           {
            "automargin": true,
            "type": "pie"
           }
          ],
          "scatter": [
           {
            "fillpattern": {
             "fillmode": "overlay",
             "size": 10,
             "solidity": 0.2
            },
            "type": "scatter"
           }
          ],
          "scatter3d": [
           {
            "line": {
             "colorbar": {
              "outlinewidth": 0,
              "ticks": ""
             }
            },
            "marker": {
             "colorbar": {
              "outlinewidth": 0,
              "ticks": ""
             }
            },
            "type": "scatter3d"
           }
          ],
          "scattercarpet": [
           {
            "marker": {
             "colorbar": {
              "outlinewidth": 0,
              "ticks": ""
             }
            },
            "type": "scattercarpet"
           }
          ],
          "scattergeo": [
           {
            "marker": {
             "colorbar": {
              "outlinewidth": 0,
              "ticks": ""
             }
            },
            "type": "scattergeo"
           }
          ],
          "scattergl": [
           {
            "marker": {
             "colorbar": {
              "outlinewidth": 0,
              "ticks": ""
             }
            },
            "type": "scattergl"
           }
          ],
          "scattermapbox": [
           {
            "marker": {
             "colorbar": {
              "outlinewidth": 0,
              "ticks": ""
             }
            },
            "type": "scattermapbox"
           }
          ],
          "scatterpolar": [
           {
            "marker": {
             "colorbar": {
              "outlinewidth": 0,
              "ticks": ""
             }
            },
            "type": "scatterpolar"
           }
          ],
          "scatterpolargl": [
           {
            "marker": {
             "colorbar": {
              "outlinewidth": 0,
              "ticks": ""
             }
            },
            "type": "scatterpolargl"
           }
          ],
          "scatterternary": [
           {
            "marker": {
             "colorbar": {
              "outlinewidth": 0,
              "ticks": ""
             }
            },
            "type": "scatterternary"
           }
          ],
          "surface": [
           {
            "colorbar": {
             "outlinewidth": 0,
             "ticks": ""
            },
            "colorscale": [
             [
              0,
              "#0d0887"
             ],
             [
              0.1111111111111111,
              "#46039f"
             ],
             [
              0.2222222222222222,
              "#7201a8"
             ],
             [
              0.3333333333333333,
              "#9c179e"
             ],
             [
              0.4444444444444444,
              "#bd3786"
             ],
             [
              0.5555555555555556,
              "#d8576b"
             ],
             [
              0.6666666666666666,
              "#ed7953"
             ],
             [
              0.7777777777777778,
              "#fb9f3a"
             ],
             [
              0.8888888888888888,
              "#fdca26"
             ],
             [
              1,
              "#f0f921"
             ]
            ],
            "type": "surface"
           }
          ],
          "table": [
           {
            "cells": {
             "fill": {
              "color": "#EBF0F8"
             },
             "line": {
              "color": "white"
             }
            },
            "header": {
             "fill": {
              "color": "#C8D4E3"
             },
             "line": {
              "color": "white"
             }
            },
            "type": "table"
           }
          ]
         },
         "layout": {
          "annotationdefaults": {
           "arrowcolor": "#2a3f5f",
           "arrowhead": 0,
           "arrowwidth": 1
          },
          "autotypenumbers": "strict",
          "coloraxis": {
           "colorbar": {
            "outlinewidth": 0,
            "ticks": ""
           }
          },
          "colorscale": {
           "diverging": [
            [
             0,
             "#8e0152"
            ],
            [
             0.1,
             "#c51b7d"
            ],
            [
             0.2,
             "#de77ae"
            ],
            [
             0.3,
             "#f1b6da"
            ],
            [
             0.4,
             "#fde0ef"
            ],
            [
             0.5,
             "#f7f7f7"
            ],
            [
             0.6,
             "#e6f5d0"
            ],
            [
             0.7,
             "#b8e186"
            ],
            [
             0.8,
             "#7fbc41"
            ],
            [
             0.9,
             "#4d9221"
            ],
            [
             1,
             "#276419"
            ]
           ],
           "sequential": [
            [
             0,
             "#0d0887"
            ],
            [
             0.1111111111111111,
             "#46039f"
            ],
            [
             0.2222222222222222,
             "#7201a8"
            ],
            [
             0.3333333333333333,
             "#9c179e"
            ],
            [
             0.4444444444444444,
             "#bd3786"
            ],
            [
             0.5555555555555556,
             "#d8576b"
            ],
            [
             0.6666666666666666,
             "#ed7953"
            ],
            [
             0.7777777777777778,
             "#fb9f3a"
            ],
            [
             0.8888888888888888,
             "#fdca26"
            ],
            [
             1,
             "#f0f921"
            ]
           ],
           "sequentialminus": [
            [
             0,
             "#0d0887"
            ],
            [
             0.1111111111111111,
             "#46039f"
            ],
            [
             0.2222222222222222,
             "#7201a8"
            ],
            [
             0.3333333333333333,
             "#9c179e"
            ],
            [
             0.4444444444444444,
             "#bd3786"
            ],
            [
             0.5555555555555556,
             "#d8576b"
            ],
            [
             0.6666666666666666,
             "#ed7953"
            ],
            [
             0.7777777777777778,
             "#fb9f3a"
            ],
            [
             0.8888888888888888,
             "#fdca26"
            ],
            [
             1,
             "#f0f921"
            ]
           ]
          },
          "colorway": [
           "#636efa",
           "#EF553B",
           "#00cc96",
           "#ab63fa",
           "#FFA15A",
           "#19d3f3",
           "#FF6692",
           "#B6E880",
           "#FF97FF",
           "#FECB52"
          ],
          "font": {
           "color": "#2a3f5f"
          },
          "geo": {
           "bgcolor": "white",
           "lakecolor": "white",
           "landcolor": "#E5ECF6",
           "showlakes": true,
           "showland": true,
           "subunitcolor": "white"
          },
          "hoverlabel": {
           "align": "left"
          },
          "hovermode": "closest",
          "mapbox": {
           "style": "light"
          },
          "paper_bgcolor": "white",
          "plot_bgcolor": "#E5ECF6",
          "polar": {
           "angularaxis": {
            "gridcolor": "white",
            "linecolor": "white",
            "ticks": ""
           },
           "bgcolor": "#E5ECF6",
           "radialaxis": {
            "gridcolor": "white",
            "linecolor": "white",
            "ticks": ""
           }
          },
          "scene": {
           "xaxis": {
            "backgroundcolor": "#E5ECF6",
            "gridcolor": "white",
            "gridwidth": 2,
            "linecolor": "white",
            "showbackground": true,
            "ticks": "",
            "zerolinecolor": "white"
           },
           "yaxis": {
            "backgroundcolor": "#E5ECF6",
            "gridcolor": "white",
            "gridwidth": 2,
            "linecolor": "white",
            "showbackground": true,
            "ticks": "",
            "zerolinecolor": "white"
           },
           "zaxis": {
            "backgroundcolor": "#E5ECF6",
            "gridcolor": "white",
            "gridwidth": 2,
            "linecolor": "white",
            "showbackground": true,
            "ticks": "",
            "zerolinecolor": "white"
           }
          },
          "shapedefaults": {
           "line": {
            "color": "#2a3f5f"
           }
          },
          "ternary": {
           "aaxis": {
            "gridcolor": "white",
            "linecolor": "white",
            "ticks": ""
           },
           "baxis": {
            "gridcolor": "white",
            "linecolor": "white",
            "ticks": ""
           },
           "bgcolor": "#E5ECF6",
           "caxis": {
            "gridcolor": "white",
            "linecolor": "white",
            "ticks": ""
           }
          },
          "title": {
           "x": 0.05
          },
          "xaxis": {
           "automargin": true,
           "gridcolor": "white",
           "linecolor": "white",
           "ticks": "",
           "title": {
            "standoff": 15
           },
           "zerolinecolor": "white",
           "zerolinewidth": 2
          },
          "yaxis": {
           "automargin": true,
           "gridcolor": "white",
           "linecolor": "white",
           "ticks": "",
           "title": {
            "standoff": 15
           },
           "zerolinecolor": "white",
           "zerolinewidth": 2
          }
         }
        },
        "title": {
         "text": "Mean test scores and standard errors over model candidates"
        },
        "xaxis": {
         "anchor": "y",
         "domain": [
          0,
          1
         ],
         "title": {
          "text": "model_rank"
         }
        },
        "yaxis": {
         "anchor": "x",
         "domain": [
          0,
          1
         ],
         "title": {
          "text": "mean_test_score"
         }
        }
       }
      },
      "image/png": "[encoded data removed]",
      "text/html": [
       "<div>                            <div id=\"aa3c2270-a51d-4f1a-9e76-bf6755cc56ce\" class=\"plotly-graph-div\" style=\"height:525px; width:100%;\"></div>            <script type=\"text/javascript\">                require([\"plotly\"], function(Plotly) {                    window.PLOTLYENV=window.PLOTLYENV || {};                                    if (document.getElementById(\"aa3c2270-a51d-4f1a-9e76-bf6755cc56ce\")) {                    Plotly.newPlot(                        \"aa3c2270-a51d-4f1a-9e76-bf6755cc56ce\",                        [{\"customdata\":[[3,[\"perimeter_worst\",\"symmetry_worst\",\"texture_worst\"]],[3,[\"area_worst\",\"concave points_worst\",\"texture_worst\"]],[3,[\"concave points_worst\",\"radius_worst\",\"texture_worst\"]],[3,[\"perimeter_worst\",\"smoothness_worst\",\"texture_worst\"]],[3,[\"concave points_mean\",\"radius_worst\",\"texture_worst\"]],[3,[\"radius_worst\",\"smoothness_worst\",\"texture_worst\"]],[3,[\"radius_worst\",\"smoothness_worst\",\"texture_mean\"]],[3,[\"concave points_mean\",\"perimeter_worst\",\"texture_worst\"]],[3,[\"area_worst\",\"concave points_worst\",\"texture_mean\"]],[3,[\"area_worst\",\"concave points_mean\",\"texture_worst\"]],[3,[\"concave points_worst\",\"perimeter_worst\",\"texture_worst\"]],[3,[\"fractal_dimension_worst\",\"radius_worst\",\"texture_worst\"]],[3,[\"concavity_mean\",\"radius_worst\",\"texture_worst\"]],[3,[\"area_worst\",\"compactness_worst\",\"texture_worst\"]],[3,[\"compactness_worst\",\"radius_worst\",\"texture_worst\"]],[3,[\"perimeter_worst\",\"smoothness_worst\",\"texture_mean\"]],[3,[\"compactness_mean\",\"radius_worst\",\"texture_worst\"]],[3,[\"area_worst\",\"smoothness_worst\",\"texture_worst\"]],[3,[\"concavity_worst\",\"radius_worst\",\"texture_worst\"]],[3,[\"radius_worst\",\"smoothness_mean\",\"texture_worst\"]],[3,[\"perimeter_worst\",\"smoothness_mean\",\"texture_worst\"]],[3,[\"area_worst\",\"fractal_dimension_worst\",\"texture_worst\"]],[3,[\"fractal_dimension_worst\",\"perimeter_worst\",\"texture_worst\"]],[3,[\"concave points_mean\",\"texture_se\",\"texture_worst\"]],[3,[\"area_mean\",\"concave points_worst\",\"texture_worst\"]],[3,[\"concave points_worst\",\"radius_worst\",\"texture_mean\"]],[3,[\"perimeter_worst\",\"symmetry_mean\",\"texture_worst\"]],[3,[\"fractal_dimension_mean\",\"radius_worst\",\"texture_worst\"]],[3,[\"concavity_worst\",\"perimeter_worst\",\"texture_worst\"]],[3,[\"area_worst\",\"concavity_worst\",\"texture_worst\"]],[3,[\"perimeter_worst\",\"smoothness_worst\",\"symmetry_worst\"]],[3,[\"perimeter_mean\",\"smoothness_worst\",\"texture_worst\"]],[3,[\"radius_worst\",\"symmetry_mean\",\"texture_worst\"]],[3,[\"area_mean\",\"concave points_worst\",\"texture_mean\"]],[3,[\"concave points_worst\",\"perimeter_mean\",\"texture_mean\"]],[3,[\"concave points_worst\",\"perimeter_worst\",\"texture_mean\"]],[3,[\"concavity_mean\",\"perimeter_worst\",\"smoothness_worst\"]],[3,[\"radius_worst\",\"symmetry_worst\",\"texture_worst\"]],[3,[\"perimeter_worst\",\"smoothness_worst\",\"symmetry_se\"]],[3,[\"area_worst\",\"compactness_mean\",\"texture_worst\"]],[3,[\"area_se\",\"concave points_worst\",\"texture_worst\"]],[3,[\"compactness_worst\",\"perimeter_worst\",\"texture_worst\"]],[3,[\"radius_worst\",\"symmetry_worst\",\"texture_mean\"]],[3,[\"concave points_mean\",\"perimeter_worst\",\"texture_mean\"]],[3,[\"concave points_worst\",\"radius_mean\",\"texture_worst\"]],[3,[\"area_worst\",\"concavity_mean\",\"texture_worst\"]],[3,[\"perimeter_worst\",\"smoothness_worst\",\"symmetry_mean\"]],[3,[\"area_worst\",\"smoothness_mean\",\"texture_worst\"]],[3,[\"concavity_mean\",\"perimeter_worst\",\"texture_worst\"]],[3,[\"concave points_mean\",\"fractal_dimension_se\",\"texture_worst\"]],[3,[\"area_worst\",\"compactness_worst\",\"symmetry_worst\"]],[3,[\"concave points_worst\",\"perimeter_mean\",\"texture_worst\"]],[3,[\"concave points_mean\",\"fractal_dimension_mean\",\"fractal_dimension_worst\"]],[3,[\"area_worst\",\"perimeter_worst\",\"smoothness_worst\"]],[3,[\"compactness_worst\",\"radius_worst\",\"smoothness_worst\"]],[3,[\"fractal_dimension_worst\",\"radius_worst\",\"smoothness_worst\"]],[3,[\"area_se\",\"concave points_mean\",\"texture_worst\"]],[3,[\"fractal_dimension_worst\",\"perimeter_worst\",\"smoothness_worst\"]],[3,[\"area_worst\",\"symmetry_worst\",\"texture_worst\"]],[3,[\"concavity_worst\",\"radius_worst\",\"texture_mean\"]],[3,[\"fractal_dimension_worst\",\"radius_worst\",\"texture_mean\"]],[3,[\"concave points_mean\",\"fractal_dimension_mean\",\"texture_worst\"]],[3,[\"concave points_worst\",\"fractal_dimension_mean\",\"texture_worst\"]],[3,[\"fractal_dimension_mean\",\"perimeter_worst\",\"smoothness_worst\"]],[2,[\"perimeter_worst\",\"smoothness_worst\"]],[3,[\"fractal_dimension_se\",\"perimeter_worst\",\"smoothness_worst\"]],[3,[\"area_worst\",\"fractal_dimension_worst\",\"texture_mean\"]],[3,[\"concave points_worst\",\"radius_mean\",\"texture_mean\"]],[3,[\"area_se\",\"concave points_worst\",\"texture_mean\"]],[3,[\"area_worst\",\"smoothness_worst\",\"texture_mean\"]],[3,[\"perimeter_worst\",\"symmetry_worst\",\"texture_mean\"]],[3,[\"concavity_worst\",\"radius_worst\",\"smoothness_worst\"]],[3,[\"area_worst\",\"symmetry_worst\",\"texture_mean\"]],[3,[\"area_worst\",\"symmetry_mean\",\"texture_worst\"]],[3,[\"compactness_worst\",\"radius_worst\",\"symmetry_worst\"]],[3,[\"compactness_mean\",\"concave points_mean\",\"concavity_worst\"]],[3,[\"concave points_mean\",\"perimeter_mean\",\"texture_worst\"]],[3,[\"concavity_worst\",\"perimeter_worst\",\"smoothness_worst\"]],[3,[\"area_worst\",\"compactness_worst\",\"concave points_mean\"]],[3,[\"area_worst\",\"compactness_worst\",\"smoothness_worst\"]],[3,[\"concave points_mean\",\"perimeter_worst\",\"smoothness_worst\"]],[3,[\"concavity_se\",\"perimeter_worst\",\"smoothness_worst\"]],[3,[\"concave points_mean\",\"fractal_dimension_mean\",\"symmetry_worst\"]],[3,[\"fractal_dimension_mean\",\"perimeter_worst\",\"texture_worst\"]],[3,[\"perimeter_worst\",\"radius_worst\",\"smoothness_worst\"]],[3,[\"compactness_worst\",\"perimeter_worst\",\"smoothness_worst\"]],[3,[\"compactness_mean\",\"perimeter_worst\",\"texture_worst\"]],[3,[\"perimeter_worst\",\"smoothness_mean\",\"symmetry_worst\"]],[3,[\"radius_worst\",\"smoothness_worst\",\"symmetry_worst\"]],[3,[\"area_worst\",\"smoothness_worst\",\"symmetry_worst\"]],[3,[\"compactness_se\",\"perimeter_worst\",\"smoothness_worst\"]],[3,[\"area_worst\",\"concave points_worst\",\"symmetry_worst\"]],[3,[\"radius_mean\",\"smoothness_worst\",\"texture_mean\"]],[3,[\"perimeter_mean\",\"smoothness_worst\",\"texture_mean\"]],[3,[\"fractal_dimension_worst\",\"perimeter_worst\",\"texture_mean\"]],[3,[\"area_worst\",\"fractal_dimension_mean\",\"texture_worst\"]],[3,[\"fractal_dimension_worst\",\"perimeter_worst\",\"symmetry_worst\"]],[3,[\"perimeter_worst\",\"smoothness_se\",\"smoothness_worst\"]],[3,[\"compactness_se\",\"concave points_mean\",\"texture_mean\"]],[3,[\"concave points_mean\",\"concave points_se\",\"texture_mean\"]],[3,[\"concave points_mean\",\"fractal_dimension_se\",\"texture_mean\"]],[3,[\"radius_mean\",\"smoothness_worst\",\"texture_worst\"]],[3,[\"area_worst\",\"concave points_worst\",\"smoothness_worst\"]],[3,[\"concave points_worst\",\"perimeter_worst\",\"symmetry_worst\"]],[3,[\"radius_worst\",\"smoothness_mean\",\"texture_mean\"]],[3,[\"area_worst\",\"concavity_worst\",\"symmetry_worst\"]],[3,[\"concave points_mean\",\"radius_worst\",\"texture_mean\"]],[3,[\"area_worst\",\"concave points_mean\",\"texture_mean\"]],[3,[\"perimeter_worst\",\"smoothness_se\",\"symmetry_worst\"]],[3,[\"perimeter_worst\",\"smoothness_mean\",\"smoothness_worst\"]],[3,[\"compactness_worst\",\"perimeter_worst\",\"symmetry_worst\"]],[3,[\"area_worst\",\"concave points_worst\",\"concavity_worst\"]],[3,[\"perimeter_se\",\"perimeter_worst\",\"smoothness_worst\"]],[3,[\"area_worst\",\"concavity_worst\",\"smoothness_worst\"]],[3,[\"compactness_worst\",\"concave points_mean\",\"radius_worst\"]],[3,[\"concavity_mean\",\"perimeter_worst\",\"symmetry_worst\"]],[3,[\"concavity_worst\",\"radius_worst\",\"smoothness_mean\"]],[3,[\"perimeter_worst\",\"symmetry_worst\",\"texture_se\"]],[3,[\"concave points_mean\",\"fractal_dimension_mean\",\"texture_mean\"]],[3,[\"compactness_se\",\"radius_worst\",\"smoothness_worst\"]],[3,[\"area_worst\",\"concavity_mean\",\"symmetry_worst\"]],[3,[\"area_mean\",\"concave points_mean\",\"texture_worst\"]],[3,[\"area_worst\",\"compactness_worst\",\"texture_mean\"]],[3,[\"compactness_worst\",\"radius_worst\",\"texture_mean\"]],[3,[\"perimeter_worst\",\"smoothness_worst\",\"texture_se\"]],[3,[\"compactness_worst\",\"radius_worst\",\"smoothness_mean\"]],[3,[\"concave points_mean\",\"radius_worst\",\"smoothness_worst\"]],[3,[\"concave points_mean\",\"radius_worst\",\"symmetry_worst\"]],[3,[\"area_worst\",\"concave points_mean\",\"symmetry_worst\"]],[3,[\"concave points_worst\",\"radius_se\",\"texture_worst\"]],[3,[\"area_worst\",\"concave points_worst\",\"concavity_mean\"]],[3,[\"concavity_mean\",\"radius_worst\",\"symmetry_worst\"]],[3,[\"concave points_worst\",\"fractal_dimension_mean\",\"texture_mean\"]],[3,[\"concave points_worst\",\"radius_worst\",\"texture_se\"]],[3,[\"compactness_mean\",\"compactness_worst\",\"concave points_mean\"]],[3,[\"perimeter_worst\",\"smoothness_mean\",\"texture_mean\"]],[3,[\"area_se\",\"concave points_worst\",\"fractal_dimension_mean\"]],[3,[\"concave points_mean\",\"perimeter_worst\",\"symmetry_worst\"]],[3,[\"fractal_dimension_worst\",\"perimeter_worst\",\"smoothness_se\"]],[3,[\"area_worst\",\"concave points_worst\",\"texture_se\"]],[3,[\"area_worst\",\"concave points_worst\",\"smoothness_mean\"]],[3,[\"concave points_mean\",\"smoothness_mean\",\"texture_worst\"]],[3,[\"concavity_mean\",\"radius_worst\",\"smoothness_worst\"]],[3,[\"area_worst\",\"concave points_worst\",\"smoothness_se\"]],[3,[\"area_worst\",\"concave points_worst\",\"radius_se\"]],[3,[\"area_se\",\"concave points_worst\",\"radius_worst\"]],[3,[\"concavity_worst\",\"radius_worst\",\"symmetry_worst\"]],[3,[\"concavity_worst\",\"perimeter_worst\",\"texture_mean\"]],[3,[\"area_mean\",\"concave points_mean\",\"symmetry_worst\"]],[3,[\"area_worst\",\"fractal_dimension_worst\",\"smoothness_worst\"]],[3,[\"compactness_mean\",\"radius_worst\",\"smoothness_worst\"]],[3,[\"area_mean\",\"smoothness_worst\",\"texture_mean\"]],[3,[\"concave points_mean\",\"concavity_worst\",\"texture_mean\"]],[3,[\"area_se\",\"area_worst\",\"concave points_worst\"]],[3,[\"concavity_worst\",\"perimeter_mean\",\"texture_worst\"]],[3,[\"concavity_worst\",\"radius_mean\",\"texture_worst\"]],[3,[\"area_worst\",\"smoothness_se\",\"smoothness_worst\"]],[3,[\"compactness_worst\",\"concave points_mean\",\"perimeter_worst\"]],[3,[\"concave points_mean\",\"smoothness_se\",\"texture_mean\"]],[3,[\"concave points_worst\",\"radius_worst\",\"symmetry_worst\"]],[3,[\"concave points_worst\",\"concavity_worst\",\"radius_worst\"]],[3,[\"area_se\",\"concavity_se\",\"concavity_worst\"]],[3,[\"area_se\",\"perimeter_worst\",\"smoothness_worst\"]],[3,[\"concave points_mean\",\"concavity_se\",\"texture_mean\"]],[3,[\"concave points_mean\",\"fractal_dimension_worst\",\"radius_worst\"]],[3,[\"concavity_worst\",\"radius_worst\",\"smoothness_se\"]],[3,[\"concave points_mean\",\"radius_mean\",\"texture_worst\"]],[3,[\"concave points_worst\",\"radius_worst\",\"smoothness_se\"]],[3,[\"concave points_mean\",\"radius_se\",\"texture_worst\"]],[3,[\"concave points_mean\",\"perimeter_se\",\"texture_worst\"]],[3,[\"concavity_se\",\"concavity_worst\",\"radius_worst\"]],[3,[\"concave points_worst\",\"fractal_dimension_mean\",\"radius_se\"]],[3,[\"area_mean\",\"perimeter_worst\",\"smoothness_worst\"]],[3,[\"concavity_worst\",\"fractal_dimension_se\",\"radius_worst\"]],[3,[\"area_worst\",\"concavity_worst\",\"fractal_dimension_se\"]],[3,[\"concave points_mean\",\"concavity_worst\",\"fractal_dimension_mean\"]],[3,[\"concave points_mean\",\"concave points_worst\",\"radius_worst\"]],[3,[\"concave points_mean\",\"concave points_worst\",\"perimeter_worst\"]],[3,[\"radius_worst\",\"smoothness_worst\",\"texture_se\"]],[3,[\"compactness_worst\",\"concave points_mean\",\"fractal_dimension_mean\"]],[3,[\"compactness_se\",\"concavity_worst\",\"radius_worst\"]],[3,[\"fractal_dimension_se\",\"fractal_dimension_worst\",\"perimeter_worst\"]],[3,[\"concave points_mean\",\"radius_se\",\"texture_mean\"]],[3,[\"area_worst\",\"concave points_mean\",\"concavity_worst\"]],[3,[\"compactness_mean\",\"concave points_mean\",\"texture_worst\"]],[3,[\"area_worst\",\"smoothness_mean\",\"texture_mean\"]],[3,[\"compactness_se\",\"concave points_mean\",\"texture_worst\"]],[3,[\"area_worst\",\"fractal_dimension_worst\",\"symmetry_worst\"]],[3,[\"concave points_se\",\"perimeter_worst\",\"smoothness_worst\"]],[3,[\"concave points_mean\",\"concave points_worst\",\"fractal_dimension_mean\"]],[3,[\"area_worst\",\"concavity_worst\",\"smoothness_mean\"]],[3,[\"area_mean\",\"concavity_worst\",\"texture_worst\"]],[3,[\"concave points_mean\",\"smoothness_se\",\"texture_worst\"]],[3,[\"area_worst\",\"concave points_worst\",\"fractal_dimension_mean\"]],[3,[\"concavity_mean\",\"fractal_dimension_se\",\"perimeter_se\"]],[3,[\"concave points_worst\",\"perimeter_se\",\"radius_worst\"]],[3,[\"fractal_dimension_worst\",\"radius_worst\",\"symmetry_worst\"]],[3,[\"area_worst\",\"fractal_dimension_worst\",\"smoothness_se\"]],[3,[\"concave points_mean\",\"symmetry_worst\",\"texture_worst\"]],[3,[\"concave points_mean\",\"radius_mean\",\"symmetry_worst\"]]],\"error_y\":{\"array\":[0.006855576222635723,0.010161517980797815,0.010161517980797815,0.009460581837627921,0.0111064328433089,0.009815822163946655,0.0068965808038190905,0.01196694993842855,0.013235651672386328,0.01706630043939435,0.010184119732373108,0.012255862389988546,0.01277900207218368,0.012426432847200679,0.012426432847200679,0.010017367850688982,0.014793314108249911,0.009759791050133465,0.013958323248170479,0.00756447676223611,0.00756447676223611,0.011801299104078795,0.010690334386417165,0.018409364982083513,0.018163753800502825,0.014874479635295578,0.00806836040101835,0.011798892734896376,0.013360601448266042,0.013360601448266042,0.007568525784877226,0.01477611954005937,0.010118384525922956,0.021455475089214002,0.02167539682228375,0.015555093271950479,0.016075998630769407,0.010419682453982079,0.010619732252078943,0.016101802971705284,0.01175245659331551,0.014714907181381224,0.008040721707560764,0.020751479449982926,0.020564905864057632,0.013027524321428573,0.006836836007553606,0.0055981282032963224,0.01608167180250256,0.01734965531856101,0.008335869005899773,0.02409088523302228,0.01861734547988269,0.007775240354200898,0.011490429733185972,0.014603879607763702,0.022032186758963963,0.011493114219890525,0.01065320998994988,0.013819564469799763,0.01662922278627771,0.02328913899712582,0.016153041782795273,0.012020290107846457,0.012020290107846457,0.012020290107846457,0.017285184664818824,0.02351180781299891,0.01656989216245388,0.008527894138896862,0.011502851477325363,0.0151183827888176,0.006755146131136516,0.008490493052640845,0.010567398702737377,0.02137815616556128,0.022632664760953367,0.012605481927577687,0.018422804991888194,0.01293663099831405,0.017871848037736924,0.015056053108736133,0.015937929952370544,0.01283727939692633,0.008778765787468935,0.012907347176281544,0.01977456924353406,0.008490373639914553,0.008864088289441763,0.008864088289441763,0.01263026167420247,0.010044646487905432,0.016001788553875337,0.016001788553875337,0.019510999133998664,0.011125511256568679,0.007647602049141591,0.009299824904337657,0.01858214462946375,0.01858214462946375,0.017912875414955284,0.007397468725137793,0.01454710926429272,0.01009084681231777,0.018469702868236494,0.009161035507648527,0.023540629531249364,0.023540629531249364,0.01303936710894273,0.012807769845392938,0.009734598716445417,0.013742476901785948,0.009923950995474792,0.01570131491554652,0.016460504241212395,0.01641424593674888,0.01430418552783513,0.007050558816794668,0.020231520182406676,0.013463695104791328,0.013723044568390748,0.01971887450716915,0.015646245914765242,0.015646245914765242,0.014526650337383719,0.016793128534458097,0.01609687983913852,0.0107148940444359,0.0107148940444359,0.01227583077108024,0.01998276065890044,0.016829625491417838,0.018926855848257124,0.015554222569997066,0.023871869833039686,0.016021638018015885,0.015656904617758604,0.01705010609332987,0.010474789218206769,0.015412196136367554,0.018323136770165043,0.021943878754009997,0.01637629350676025,0.015308577253377989,0.015199571698176994,0.01189487176414754,0.010233047341318847,0.014841394612243224,0.013782467209737323,0.014691173451732376,0.011703434455957524,0.01766297085986582,0.021465001028887994,0.012216673497605173,0.01906351545124646,0.01906351545124646,0.011835687072218765,0.015988497456110765,0.020134766885102004,0.009632343765773484,0.007521035062987061,0.014337900086704472,0.014772537918858528,0.021448155463392734,0.015478324654709505,0.014397987355658263,0.022269660263466867,0.013635204047786318,0.02296575072794292,0.02416771159254801,0.01253097752100895,0.013535413245921274,0.007178547646736696,0.011929744143509061,0.011929744143509061,0.021174299648774843,0.01991222837427971,0.01991222837427971,0.008009837146134293,0.02151920964376569,0.012921593979910379,0.007898496867446907,0.021038008879273602,0.023150961707053608,0.022659172288104344,0.014590379441137101,0.02038276590821661,0.01615434812886382,0.016413662078950314,0.021813895704461288,0.017342589715778272,0.013557684329430122,0.020579574650597406,0.013872824039153192,0.011552983835090744,0.01506676682818817,0.007724703311216654,0.011665080340314595,0.01820953744525217,0.014302708851929507]},\"hovertemplate\":\"model_rank=%{x}\\u003cbr\\u003emean_test_score=%{y}\\u003cbr\\u003enum_features=%{customdata[0]}\\u003cbr\\u003efeatures=%{customdata[1]}\\u003cextra\\u003e\\u003c\\u002fextra\\u003e\",\"legendgroup\":\"\",\"line\":{\"color\":\"#636efa\",\"dash\":\"solid\"},\"marker\":{\"symbol\":\"circle\"},\"mode\":\"lines+markers\",\"name\":\"\",\"orientation\":\"h\",\"showlegend\":false,\"x\":[0,1,2,3,4,5,6,7,8,9,10,11,12,13,14,15,16,17,18,19,20,21,22,23,24,25,26,27,28,29,30,31,32,33,34,35,36,37,38,39,40,41,42,43,44,45,46,47,48,49,50,51,52,53,54,55,56,57,58,59,60,61,62,63,64,65,66,67,68,69,70,71,72,73,74,75,76,77,78,79,80,81,82,83,84,85,86,87,88,89,90,91,92,93,94,95,96,97,98,99,100,101,102,103,104,105,106,107,108,109,110,111,112,113,114,115,116,117,118,119,120,121,122,123,124,125,126,127,128,129,130,131,132,133,134,135,136,137,138,139,140,141,142,143,144,145,146,147,148,149,150,151,152,153,154,155,156,157,158,159,160,161,162,163,164,165,166,167,168,169,170,171,172,173,174,175,176,177,178,179,180,181,182,183,184,185,186,187,188,189,190,191,192,193,194,195,196,197,198,199],\"xaxis\":\"x\",\"y\":[0.9552882098953326,0.9539801444717073,0.9539801444717073,0.9520172075986029,0.9519811767180189,0.9515247833561787,0.9507305194805195,0.9505436059256093,0.949320463135631,0.9487927589651728,0.9482054607590754,0.9481502398154685,0.9476991599232687,0.9476700758570435,0.9476700758570435,0.9467643467643467,0.9458441558441558,0.945828412925187,0.9454533939932922,0.9446522797269067,0.9446522797269067,0.9442368925058947,0.9438990320859999,0.9434493602255477,0.9433434516413781,0.9432725766072562,0.9430360474428271,0.9422721454173069,0.9420699353466755,0.9420699353466755,0.9414538150022022,0.9413493246280131,0.9402751046818845,0.939913307539664,0.9393446857684518,0.9392277950612632,0.9384006133853973,0.9382958607464085,0.9373779367298238,0.9373489115424599,0.9373458725182863,0.9373416550368197,0.9369927577767919,0.9367311933349669,0.9363610027847689,0.9363351119165072,0.9362865665787975,0.9360234666794888,0.9359824543162224,0.9359742453402076,0.9359667713938006,0.9359524511248649,0.9358734840302491,0.9354517954722873,0.9353073222916999,0.9352283655205966,0.934773121195535,0.9347399464051751,0.9342320000787743,0.9341843140018071,0.9339013722396574,0.9337053001277139,0.9335626864645341,0.9333248270163368,0.9333248270163368,0.9333248270163368,0.9330411571858941,0.9330181435097062,0.9327954032869661,0.9326516669912897,0.9326239595307392,0.9325315196984201,0.9323550766173717,0.9322616366684164,0.9322262687637597,0.9321407154747684,0.9318990548432078,0.9317785503184485,0.9317485929042922,0.9317007649146507,0.9315756861129559,0.931574963240192,0.9314724560584237,0.9314514699913682,0.9313938244577946,0.9311333890281259,0.9310488282521895,0.9308696952764748,0.9307860252894005,0.9307860252894005,0.9306868366916881,0.9304033716826818,0.9303338992642898,0.9303338992642898,0.9301996271312492,0.9301511067548803,0.9301059655329947,0.9300478172877142,0.9299363285803963,0.9299363285803963,0.9299322586530596,0.9297851755049636,0.9297611181399896,0.9297053573077759,0.9296769538705023,0.9296614178483857,0.9295504972924327,0.9295504972924327,0.929434063204555,0.929428723120233,0.9292500782875692,0.9292408872741523,0.9292118226812278,0.9291645163314168,0.9291137372864553,0.9291033802700784,0.9290879950523052,0.9290199655417046,0.9289947089947092,0.9289899597052473,0.9289820033216261,0.9286792452830188,0.9285762081212126,0.9285762081212126,0.9283666154633897,0.9283657381661659,0.9282986763843333,0.9278869808793082,0.9278869808793082,0.9278688468117524,0.9278598391184204,0.9278452013935885,0.9277867360026282,0.9277814750640033,0.927752371030819,0.9276700065300905,0.9276320771894939,0.9275854677739346,0.9274881916329285,0.9272992524716661,0.927234435685538,0.9271636935861075,0.9271209077660691,0.9271098585322722,0.9269082456290464,0.9267475615033789,0.9267000217616591,0.9266759902995064,0.926596797312085,0.9264778381430668,0.9264046772660391,0.9262269309637731,0.9262258209626631,0.9260579063309651,0.9260372974727288,0.9260372974727288,0.9259554066005679,0.9258469496276531,0.9257842940001859,0.9256414966401417,0.9255700065599954,0.9253982435325983,0.9252197245716116,0.9250448402172541,0.9250434320135597,0.9248575788910461,0.9248374373734143,0.9247742505918257,0.9247532799256936,0.9246600860824998,0.9246241524433014,0.9245566803640971,0.9245169513309215,0.9245099245659156,0.9245099245659156,0.9244818565701418,0.9244170837305482,0.9244170837305482,0.9243522785458269,0.9243248992463492,0.9242239061378827,0.9241405724656945,0.92404971668572,0.9240382568251422,0.9239169403393541,0.9239037727638566,0.9238866838574848,0.9237982312102094,0.9237768100033665,0.9237062586130869,0.9236434673321069,0.9235714849598601,0.9234021904142269,0.9233451552453463,0.9233218888391302,0.9233143530636297,0.9232449020681578,0.923170015814625,0.9231364179353395,0.9231134881683983],\"yaxis\":\"y\",\"type\":\"scatter\"}],                        {\"template\":{\"data\":{\"histogram2dcontour\":[{\"type\":\"histogram2dcontour\",\"colorbar\":{\"outlinewidth\":0,\"ticks\":\"\"},\"colorscale\":[[0.0,\"#0d0887\"],[0.1111111111111111,\"#46039f\"],[0.2222222222222222,\"#7201a8\"],[0.3333333333333333,\"#9c179e\"],[0.4444444444444444,\"#bd3786\"],[0.5555555555555556,\"#d8576b\"],[0.6666666666666666,\"#ed7953\"],[0.7777777777777778,\"#fb9f3a\"],[0.8888888888888888,\"#fdca26\"],[1.0,\"#f0f921\"]]}],\"choropleth\":[{\"type\":\"choropleth\",\"colorbar\":{\"outlinewidth\":0,\"ticks\":\"\"}}],\"histogram2d\":[{\"type\":\"histogram2d\",\"colorbar\":{\"outlinewidth\":0,\"ticks\":\"\"},\"colorscale\":[[0.0,\"#0d0887\"],[0.1111111111111111,\"#46039f\"],[0.2222222222222222,\"#7201a8\"],[0.3333333333333333,\"#9c179e\"],[0.4444444444444444,\"#bd3786\"],[0.5555555555555556,\"#d8576b\"],[0.6666666666666666,\"#ed7953\"],[0.7777777777777778,\"#fb9f3a\"],[0.8888888888888888,\"#fdca26\"],[1.0,\"#f0f921\"]]}],\"heatmap\":[{\"type\":\"heatmap\",\"colorbar\":{\"outlinewidth\":0,\"ticks\":\"\"},\"colorscale\":[[0.0,\"#0d0887\"],[0.1111111111111111,\"#46039f\"],[0.2222222222222222,\"#7201a8\"],[0.3333333333333333,\"#9c179e\"],[0.4444444444444444,\"#bd3786\"],[0.5555555555555556,\"#d8576b\"],[0.6666666666666666,\"#ed7953\"],[0.7777777777777778,\"#fb9f3a\"],[0.8888888888888888,\"#fdca26\"],[1.0,\"#f0f921\"]]}],\"heatmapgl\":[{\"type\":\"heatmapgl\",\"colorbar\":{\"outlinewidth\":0,\"ticks\":\"\"},\"colorscale\":[[0.0,\"#0d0887\"],[0.1111111111111111,\"#46039f\"],[0.2222222222222222,\"#7201a8\"],[0.3333333333333333,\"#9c179e\"],[0.4444444444444444,\"#bd3786\"],[0.5555555555555556,\"#d8576b\"],[0.6666666666666666,\"#ed7953\"],[0.7777777777777778,\"#fb9f3a\"],[0.8888888888888888,\"#fdca26\"],[1.0,\"#f0f921\"]]}],\"contourcarpet\":[{\"type\":\"contourcarpet\",\"colorbar\":{\"outlinewidth\":0,\"ticks\":\"\"}}],\"contour\":[{\"type\":\"contour\",\"colorbar\":{\"outlinewidth\":0,\"ticks\":\"\"},\"colorscale\":[[0.0,\"#0d0887\"],[0.1111111111111111,\"#46039f\"],[0.2222222222222222,\"#7201a8\"],[0.3333333333333333,\"#9c179e\"],[0.4444444444444444,\"#bd3786\"],[0.5555555555555556,\"#d8576b\"],[0.6666666666666666,\"#ed7953\"],[0.7777777777777778,\"#fb9f3a\"],[0.8888888888888888,\"#fdca26\"],[1.0,\"#f0f921\"]]}],\"surface\":[{\"type\":\"surface\",\"colorbar\":{\"outlinewidth\":0,\"ticks\":\"\"},\"colorscale\":[[0.0,\"#0d0887\"],[0.1111111111111111,\"#46039f\"],[0.2222222222222222,\"#7201a8\"],[0.3333333333333333,\"#9c179e\"],[0.4444444444444444,\"#bd3786\"],[0.5555555555555556,\"#d8576b\"],[0.6666666666666666,\"#ed7953\"],[0.7777777777777778,\"#fb9f3a\"],[0.8888888888888888,\"#fdca26\"],[1.0,\"#f0f921\"]]}],\"mesh3d\":[{\"type\":\"mesh3d\",\"colorbar\":{\"outlinewidth\":0,\"ticks\":\"\"}}],\"scatter\":[{\"fillpattern\":{\"fillmode\":\"overlay\",\"size\":10,\"solidity\":0.2},\"type\":\"scatter\"}],\"parcoords\":[{\"type\":\"parcoords\",\"line\":{\"colorbar\":{\"outlinewidth\":0,\"ticks\":\"\"}}}],\"scatterpolargl\":[{\"type\":\"scatterpolargl\",\"marker\":{\"colorbar\":{\"outlinewidth\":0,\"ticks\":\"\"}}}],\"bar\":[{\"error_x\":{\"color\":\"#2a3f5f\"},\"error_y\":{\"color\":\"#2a3f5f\"},\"marker\":{\"line\":{\"color\":\"#E5ECF6\",\"width\":0.5},\"pattern\":{\"fillmode\":\"overlay\",\"size\":10,\"solidity\":0.2}},\"type\":\"bar\"}],\"scattergeo\":[{\"type\":\"scattergeo\",\"marker\":{\"colorbar\":{\"outlinewidth\":0,\"ticks\":\"\"}}}],\"scatterpolar\":[{\"type\":\"scatterpolar\",\"marker\":{\"colorbar\":{\"outlinewidth\":0,\"ticks\":\"\"}}}],\"histogram\":[{\"marker\":{\"pattern\":{\"fillmode\":\"overlay\",\"size\":10,\"solidity\":0.2}},\"type\":\"histogram\"}],\"scattergl\":[{\"type\":\"scattergl\",\"marker\":{\"colorbar\":{\"outlinewidth\":0,\"ticks\":\"\"}}}],\"scatter3d\":[{\"type\":\"scatter3d\",\"line\":{\"colorbar\":{\"outlinewidth\":0,\"ticks\":\"\"}},\"marker\":{\"colorbar\":{\"outlinewidth\":0,\"ticks\":\"\"}}}],\"scattermapbox\":[{\"type\":\"scattermapbox\",\"marker\":{\"colorbar\":{\"outlinewidth\":0,\"ticks\":\"\"}}}],\"scatterternary\":[{\"type\":\"scatterternary\",\"marker\":{\"colorbar\":{\"outlinewidth\":0,\"ticks\":\"\"}}}],\"scattercarpet\":[{\"type\":\"scattercarpet\",\"marker\":{\"colorbar\":{\"outlinewidth\":0,\"ticks\":\"\"}}}],\"carpet\":[{\"aaxis\":{\"endlinecolor\":\"#2a3f5f\",\"gridcolor\":\"white\",\"linecolor\":\"white\",\"minorgridcolor\":\"white\",\"startlinecolor\":\"#2a3f5f\"},\"baxis\":{\"endlinecolor\":\"#2a3f5f\",\"gridcolor\":\"white\",\"linecolor\":\"white\",\"minorgridcolor\":\"white\",\"startlinecolor\":\"#2a3f5f\"},\"type\":\"carpet\"}],\"table\":[{\"cells\":{\"fill\":{\"color\":\"#EBF0F8\"},\"line\":{\"color\":\"white\"}},\"header\":{\"fill\":{\"color\":\"#C8D4E3\"},\"line\":{\"color\":\"white\"}},\"type\":\"table\"}],\"barpolar\":[{\"marker\":{\"line\":{\"color\":\"#E5ECF6\",\"width\":0.5},\"pattern\":{\"fillmode\":\"overlay\",\"size\":10,\"solidity\":0.2}},\"type\":\"barpolar\"}],\"pie\":[{\"automargin\":true,\"type\":\"pie\"}]},\"layout\":{\"autotypenumbers\":\"strict\",\"colorway\":[\"#636efa\",\"#EF553B\",\"#00cc96\",\"#ab63fa\",\"#FFA15A\",\"#19d3f3\",\"#FF6692\",\"#B6E880\",\"#FF97FF\",\"#FECB52\"],\"font\":{\"color\":\"#2a3f5f\"},\"hovermode\":\"closest\",\"hoverlabel\":{\"align\":\"left\"},\"paper_bgcolor\":\"white\",\"plot_bgcolor\":\"#E5ECF6\",\"polar\":{\"bgcolor\":\"#E5ECF6\",\"angularaxis\":{\"gridcolor\":\"white\",\"linecolor\":\"white\",\"ticks\":\"\"},\"radialaxis\":{\"gridcolor\":\"white\",\"linecolor\":\"white\",\"ticks\":\"\"}},\"ternary\":{\"bgcolor\":\"#E5ECF6\",\"aaxis\":{\"gridcolor\":\"white\",\"linecolor\":\"white\",\"ticks\":\"\"},\"baxis\":{\"gridcolor\":\"white\",\"linecolor\":\"white\",\"ticks\":\"\"},\"caxis\":{\"gridcolor\":\"white\",\"linecolor\":\"white\",\"ticks\":\"\"}},\"coloraxis\":{\"colorbar\":{\"outlinewidth\":0,\"ticks\":\"\"}},\"colorscale\":{\"sequential\":[[0.0,\"#0d0887\"],[0.1111111111111111,\"#46039f\"],[0.2222222222222222,\"#7201a8\"],[0.3333333333333333,\"#9c179e\"],[0.4444444444444444,\"#bd3786\"],[0.5555555555555556,\"#d8576b\"],[0.6666666666666666,\"#ed7953\"],[0.7777777777777778,\"#fb9f3a\"],[0.8888888888888888,\"#fdca26\"],[1.0,\"#f0f921\"]],\"sequentialminus\":[[0.0,\"#0d0887\"],[0.1111111111111111,\"#46039f\"],[0.2222222222222222,\"#7201a8\"],[0.3333333333333333,\"#9c179e\"],[0.4444444444444444,\"#bd3786\"],[0.5555555555555556,\"#d8576b\"],[0.6666666666666666,\"#ed7953\"],[0.7777777777777778,\"#fb9f3a\"],[0.8888888888888888,\"#fdca26\"],[1.0,\"#f0f921\"]],\"diverging\":[[0,\"#8e0152\"],[0.1,\"#c51b7d\"],[0.2,\"#de77ae\"],[0.3,\"#f1b6da\"],[0.4,\"#fde0ef\"],[0.5,\"#f7f7f7\"],[0.6,\"#e6f5d0\"],[0.7,\"#b8e186\"],[0.8,\"#7fbc41\"],[0.9,\"#4d9221\"],[1,\"#276419\"]]},\"xaxis\":{\"gridcolor\":\"white\",\"linecolor\":\"white\",\"ticks\":\"\",\"title\":{\"standoff\":15},\"zerolinecolor\":\"white\",\"automargin\":true,\"zerolinewidth\":2},\"yaxis\":{\"gridcolor\":\"white\",\"linecolor\":\"white\",\"ticks\":\"\",\"title\":{\"standoff\":15},\"zerolinecolor\":\"white\",\"automargin\":true,\"zerolinewidth\":2},\"scene\":{\"xaxis\":{\"backgroundcolor\":\"#E5ECF6\",\"gridcolor\":\"white\",\"linecolor\":\"white\",\"showbackground\":true,\"ticks\":\"\",\"zerolinecolor\":\"white\",\"gridwidth\":2},\"yaxis\":{\"backgroundcolor\":\"#E5ECF6\",\"gridcolor\":\"white\",\"linecolor\":\"white\",\"showbackground\":true,\"ticks\":\"\",\"zerolinecolor\":\"white\",\"gridwidth\":2},\"zaxis\":{\"backgroundcolor\":\"#E5ECF6\",\"gridcolor\":\"white\",\"linecolor\":\"white\",\"showbackground\":true,\"ticks\":\"\",\"zerolinecolor\":\"white\",\"gridwidth\":2}},\"shapedefaults\":{\"line\":{\"color\":\"#2a3f5f\"}},\"annotationdefaults\":{\"arrowcolor\":\"#2a3f5f\",\"arrowhead\":0,\"arrowwidth\":1},\"geo\":{\"bgcolor\":\"white\",\"landcolor\":\"#E5ECF6\",\"subunitcolor\":\"white\",\"showland\":true,\"showlakes\":true,\"lakecolor\":\"white\"},\"title\":{\"x\":0.05},\"mapbox\":{\"style\":\"light\"}}},\"xaxis\":{\"anchor\":\"y\",\"domain\":[0.0,1.0],\"title\":{\"text\":\"model_rank\"}},\"yaxis\":{\"anchor\":\"x\",\"domain\":[0.0,1.0],\"title\":{\"text\":\"mean_test_score\"}},\"legend\":{\"tracegroupgap\":0},\"title\":{\"text\":\"Mean test scores and standard errors over model candidates\"}},                        {\"responsive\": true}                    ).then(function(){\n",
       "                            \n",
       "var gd = document.getElementById('aa3c2270-a51d-4f1a-9e76-bf6755cc56ce');\n",
       "var x = new MutationObserver(function (mutations, observer) {{\n",
       "        var display = window.getComputedStyle(gd).display;\n",
       "        if (!display || display === 'none') {{\n",
       "            console.log([gd, 'removed!']);\n",
       "            Plotly.purge(gd);\n",
       "            observer.disconnect();\n",
       "        }}\n",
       "}});\n",
       "\n",
       "// Listen for the removal of the full notebook cells\n",
       "var notebookContainer = gd.closest('#notebook-container');\n",
       "if (notebookContainer) {{\n",
       "    x.observe(notebookContainer, {childList: true});\n",
       "}}\n",
       "\n",
       "// Listen for the clearing of the current output cell\n",
       "var outputEl = gd.closest('.output');\n",
       "if (outputEl) {{\n",
       "    x.observe(outputEl, {childList: true});\n",
       "}}\n",
       "\n",
       "                        })                };                });            </script>        </div>"
      ]
     },
     "metadata": {},
     "output_type": "display_data"
    }
   ],
   "source": [
    "px.line(results.reset_index(drop=True).reset_index(drop=False).iloc[:200], x='model_rank', y='mean_test_score', error_y='se_test_score',  markers=True, title='Mean test scores and standard errors over model candidates', hover_data=['num_features', 'features'])"
   ]
  },
  {
   "cell_type": "markdown",
   "metadata": {},
   "source": [
    "* All top ranking features sets have the maximum number of features = 3. This indicates that there is likely a benifit in using information from more than than 3 features. \n",
    "* Several features combinations are have similar scores, and so are equivalent choices, possibly due to correlation between features."
   ]
  },
  {
   "cell_type": "code",
   "execution_count": 45,
   "metadata": {},
   "outputs": [],
   "source": [
    "best = results.iloc[0]"
   ]
  },
  {
   "cell_type": "code",
   "execution_count": 46,
   "metadata": {},
   "outputs": [
    {
     "data": {
      "text/plain": [
       "model_rank                                                          0\n",
       "mean_fit_time                                                0.006429\n",
       "std_fit_time                                                 0.000086\n",
       "mean_score_time                                              0.006228\n",
       "std_score_time                                                0.00008\n",
       "param_C                                                      0.725701\n",
       "params                                      {'C': 0.7257005721594281}\n",
       "split0_test_score                                             0.95082\n",
       "split1_test_score                                            0.962963\n",
       "split2_test_score                                            0.953846\n",
       "split3_test_score                                            0.977778\n",
       "split4_test_score                                            0.931034\n",
       "mean_test_score                                              0.955288\n",
       "std_test_score                                                0.01533\n",
       "rank_test_score                                                     1\n",
       "features             [perimeter_worst, symmetry_worst, texture_worst]\n",
       "se_test_score                                                0.006856\n",
       "num_features                                                        3\n",
       "Name: 0, dtype: object"
      ]
     },
     "execution_count": 46,
     "metadata": {},
     "output_type": "execute_result"
    }
   ],
   "source": [
    "best"
   ]
  },
  {
   "cell_type": "code",
   "execution_count": 47,
   "metadata": {},
   "outputs": [
    {
     "data": {
      "application/vnd.plotly.v1+json": {
       "config": {
        "plotlyServerURL": "https://plot.ly"
       },
       "data": [
        {
         "hovertemplate": "diagnosis=1<br>perimeter_worst=%{x}<br>symmetry_worst=%{y}<br>texture_worst=%{z}<extra></extra>",
         "legendgroup": "1",
         "marker": {
          "color": "#636efa",
          "size": 4,
          "symbol": "circle"
         },
         "mode": "markers",
         "name": "1",
         "scene": "scene",
         "showlegend": true,
         "type": "scatter3d",
         "x": [
          0.5217936834068688,
          1.866925966965073,
          0.6410958815051574,
          1.339013740380146,
          2.08465247849445,
          1.5597228068619804,
          1.872891076869988,
          0.16985219901691737,
          0.35477060606926486,
          0.24441607282834776,
          2.072722258684621,
          0.8737351677968206,
          2.6364251446990354,
          -0.09559519175177504,
          0.47705535912001057,
          3.3790813278608822,
          2.4008033034549148,
          1.273397531426087,
          -0.12243818632388973,
          1.285327751235916,
          0.2503811827332623,
          0.4740728041675535,
          -0.2575479256702016,
          1.0646186847540817,
          0.44424725464298137,
          -0.06576964222720287,
          1.6163913509586667,
          0.3309101664496068,
          1.4255078340014056,
          -0.17314162051566248,
          1.5298972573374081,
          0.6470609914100716,
          0.5903924473133847,
          0.6500435463625295,
          0.25932884759063385,
          0.6977644256018447,
          1.6611296752455251,
          0.6649563211248155,
          0.9065432722738499,
          0.769345744460818,
          -0.6682457426235606,
          -0.3568670055870269,
          1.7565714337241565,
          -0.4645372393707324,
          3.6325984988197457,
          2.9287155300398418,
          1.0049675857049374,
          1.3837520646670045,
          1.327083520570317,
          1.1481302234228843,
          2.189041901830453,
          2.072722258684621,
          1.8967515164896454,
          1.6014785761963808,
          1.127252338755684,
          2.7437971229874947,
          0.5486366779789839,
          0.8230317336050474,
          2.1681640171632517,
          1.2286592071392286,
          0.1877475287316605,
          0.9632118163705371,
          1.7685016535339855,
          1.3300660755227742,
          1.646216900483239,
          2.2874662152615404,
          0.9960199208475663,
          0.6440784364576145,
          1.0795314595163679,
          1.0705837946589967,
          1.2137464323769427,
          1.2555022017113437,
          -0.059804532322288356,
          0.21160796835131815,
          0.578462227503556,
          1.3330486304752311,
          0.9453164866557932,
          1.3181358557129452,
          0.7753108543657322,
          1.2465545368539726,
          1.449368273621063,
          0.35477060606926486,
          0.43529958978560934,
          -0.6050155776314675,
          0.3040671718774921,
          1.0318105802770525,
          1.339013740380146,
          1.658147120293068,
          1.3330486304752311,
          2.1204431379239366,
          0.5337239032166978,
          0.032654671203885176,
          0.38459615559383703,
          0.27125906740046246,
          -0.09261263679931757,
          -0.14033351603863328,
          0.8528572831296196,
          1.479193823145635,
          1.136200003613055,
          0.9661943713229941,
          0.7753108543657322,
          1.6342866806734107,
          2.0100886046830198,
          1.0347931352295097,
          0.4144217051184092,
          0.3458229412118929,
          -0.4612564289230295,
          -0.03892664765508776,
          0.12809642968251617,
          1.8967515164896454,
          0.03861978110879969,
          0.757415524650989,
          -0.14928118089600484,
          -0.4696075827899097,
          1.5984960212439236,
          2.937663194897214,
          0.6709214310297296,
          2.415716078217201,
          4.285778033407875,
          0.5724971175986415,
          0.9542641515131651,
          1.1660255531376273,
          0.1668696440644599,
          -0.03296153775017324,
          0.5605668977888125,
          -0.03296153775017324,
          1.0288280253245956,
          1.5298972573374081,
          0.3040671718774921,
          0.7514504147460741,
          1.5656879167668944,
          -0.00015343327314403372,
          2.8302912166087544,
          0.1340615395874307,
          2.1353559126862227,
          1.5597228068619804,
          -0.1582288457533764,
          1.494106597907921,
          0.05949766577600029,
          1.3300660755227742,
          1.3539265151424322,
          0.5009157987396682,
          0.22353818816114718,
          1.130234893708141,
          0.19073008368411798
         ],
         "y": [
          0.518442830147694,
          1.0258741179704554,
          -0.5074852252945864,
          1.8621082340397406,
          2.816901062217148,
          0.5848357089282418,
          0.28764853724388356,
          0.9199616684871992,
          2.9607522995750024,
          1.28038015329589,
          1.1460136129066851,
          1.2930264159207558,
          -0.0869969930177811,
          -0.3004026748124004,
          -0.08541621018967298,
          -0.05063898797129005,
          -0.10438560412697213,
          0.26393679482225924,
          1.7340648249629693,
          1.4400392189348272,
          -0.3241144172340248,
          0.2228364412914438,
          5.927881667934261,
          -0.41896138692052226,
          2.175103234005182,
          0.8203723503163773,
          -1.0275627757422134,
          0.17699373927630319,
          -1.1508638363346602,
          0.5168620473195858,
          0.641743890740141,
          3.1520270217761053,
          2.8279665420139057,
          3.060341617745824,
          1.1112363906883023,
          0.39514176955524777,
          -0.6450133313400074,
          0.3398143705714575,
          0.28290618875955836,
          -0.0727699475648063,
          -1.4385663110503688,
          -2.0914296190590926,
          0.4820848251012029,
          4.5620853044487,
          1.2677338906710234,
          0.42517664328930455,
          -0.05538133645561528,
          0.5974819715531084,
          0.5247659614601273,
          0.22757878977576904,
          0.5279275271163435,
          0.48998873924174435,
          4.220636213577309,
          -0.44109234651403767,
          0.18805921907306175,
          -0.5975898464967586,
          1.746711087587835,
          0.21019017866657713,
          -0.2766909323907761,
          0.659132501849332,
          -0.9580083313054489,
          -0.9406197201962575,
          -0.3146297202653752,
          0.19280156755738612,
          -0.7129869929486639,
          1.108074825032086,
          -0.12019343240805504,
          -0.8204802252600275,
          0.6148705826622995,
          0.5737702291314841,
          -0.07435073039291441,
          0.5642855321628345,
          1.2724762391553486,
          0.6844250270990645,
          -0.18658631118860292,
          1.2756378048115649,
          0.502635001866611,
          0.45521151702336227,
          3.1219921480420476,
          1.8004577037435172,
          1.2661531078429151,
          2.1450683602711242,
          0.6796826786147393,
          0.12008555746440489,
          0.19754391604171134,
          0.4726001281325533,
          1.1096556078601942,
          0.7761104311293449,
          -0.828384139400569,
          -0.11070873543940547,
          -0.034831159690207135,
          -0.3746994677334898,
          -2.0313598715909778,
          -0.006377068784258421,
          1.1728869209845258,
          1.5996982845737644,
          1.0148086381736967,
          0.1817360877606284,
          0.34929906754010714,
          -0.8647421444470597,
          0.34929906754010714,
          0.415691946320655,
          1.193437097749934,
          0.2939716685563169,
          0.8314378301131351,
          -0.06960838190859008,
          -0.09332012433021444,
          2.355312476409527,
          0.7824335624417782,
          0.12640868877683822,
          1.1191403048288437,
          -0.6718866394178484,
          0.16750904230765362,
          2.00121712291327,
          1.2503452795618322,
          0.3398143705714575,
          0.6117090170060833,
          -1.9602246443261044,
          -0.3905072960145727,
          -1.0591784323043794,
          0.06317737565250657,
          -0.7035022959800142,
          1.3451922492483297,
          3.6009693449588585,
          0.986354547267748,
          0.40936881500822164,
          -0.49325817984161163,
          -0.21820196775076875,
          0.8330186129412441,
          2.1845879309738314,
          0.6053858856936499,
          -0.5248738364037774,
          -0.466384871763771,
          -0.12493578089238026,
          0.06475815848061468,
          -0.21978275057887775,
          -0.6497556798243321,
          1.8289117946494666,
          -0.2687870182502346,
          -0.24981762431293458,
          1.6882221229478287,
          0.2070286130103609,
          2.902263334934995,
          0.009430759496824492,
          0.4599538655076875
         ],
         "z": [
          -1.4098520815631361,
          0.4285354268045223,
          -0.2074472787929378,
          -0.68774671791602,
          1.2616065229386955,
          1.7137504776993893,
          0.5113456749291916,
          1.6706891486745616,
          0.42522301687953556,
          0.8525238972028288,
          0.9949575239772599,
          0.981707884277313,
          0.43516024665449565,
          1.4437890688129682,
          -0.21904071353039156,
          1.2086079641389071,
          1.6624081238620951,
          -0.4177853090295977,
          -0.29853855173007415,
          -0.7009963576159668,
          1.0131757785646875,
          0.8823355865277097,
          0.15691781295560692,
          1.2582941130137082,
          1.268231342788669,
          0.7614326242656925,
          0.10226304919332548,
          0.3689120481547605,
          1.1224853060892506,
          2.2834849847971146,
          0.6421858669661689,
          0.37719307296722693,
          0.16685504273056703,
          0.9071786609651108,
          0.7962129284780537,
          -0.07660708675596048,
          0.8624611269777894,
          0.7995253384030404,
          0.2794769801801172,
          -0.5850620102414299,
          -0.35816193037983596,
          -0.058388832168533335,
          1.0777677721019296,
          0.13704335340568613,
          -0.326694036092462,
          0.22813462634282247,
          3.199366329055956,
          0.801181543365534,
          0.26457113551767675,
          -0.07991949668094718,
          -0.25878963263023314,
          1.1804524797765192,
          1.0446436728520616,
          0.13538714844319308,
          0.8906166113401768,
          0.14698058318064683,
          0.7846194937405999,
          -0.23560276315532566,
          3.2888013970305985,
          1.3295109264009237,
          0.41528578710457487,
          0.8955852262276571,
          -0.3945984395546902,
          1.4802255779878224,
          1.958868812148411,
          0.4417850665044691,
          -0.09151293141840093,
          -0.1411990802932026,
          1.0082071636772072,
          0.08404479460589774,
          0.029390030843616296,
          0.3689120481547605,
          0.7183712952408647,
          1.2980430321135497,
          -0.07660708675596048,
          0.3523499985298264,
          0.13373094348069942,
          0.7266523200533318,
          0.57428146350394,
          1.8479030796613538,
          0.9999261388647402,
          -0.22897794330535165,
          -0.41447289910461105,
          1.6210029997997604,
          1.7849672910866048,
          0.6388734570411821,
          0.5130018798916846,
          -0.16272974480561647,
          -1.471131665175391,
          1.7750300613116452,
          0.33413174394239925,
          1.6094095650623066,
          0.4169419920670685,
          0.715058885315878,
          0.22813462634282247,
          0.3970675325171477,
          1.08273638698941,
          0.34738138364234605,
          0.9668020396148727,
          0.2827893901051045,
          -0.10973118600582808,
          2.2536732954722325,
          0.13869955836817977,
          0.10723166408080523,
          -0.6827781030285397,
          0.6554355066661163,
          1.2947306221885624,
          0.8574925120903092,
          1.3112926718134965,
          0.11385648393077863,
          1.069486747289462,
          -0.07329467683097378,
          0.7779946738906266,
          1.2036393492514268,
          1.460351118437901,
          1.4835379879128086,
          -0.08323190660593388,
          -1.173014771926582,
          0.9634896296898859,
          1.4189459943755665,
          0.047608285431043444,
          -1.2823242994511455,
          0.4053485573296148,
          1.9257447128985428,
          3.972814046540367,
          -0.5221262216666814,
          0.8094625681780011,
          -0.35484952045484924,
          -0.8798664935652528,
          0.2827893901051045,
          1.3676036405382723,
          0.047608285431043444,
          0.8574925120903092,
          0.3490375886048397,
          0.6388734570411821,
          0.006203161368708801,
          1.019800598414661,
          1.508381062350209,
          0.879023176602723,
          -0.6148736995663109,
          0.8044939532905208,
          -0.5916868300914033,
          1.5398489566375841,
          -0.10807498104333502,
          0.8690859468277629
         ]
        },
        {
         "hovertemplate": "diagnosis=0<br>perimeter_worst=%{x}<br>symmetry_worst=%{y}<br>texture_worst=%{z}<extra></extra>",
         "legendgroup": "0",
         "marker": {
          "color": "#EF553B",
          "size": 4,
          "symbol": "circle"
         },
         "mode": "markers",
         "name": "0",
         "scene": "scene",
         "showlegend": true,
         "type": "scatter3d",
         "x": [
          -0.47348490422810435,
          -0.43799250029386355,
          -0.577874327564107,
          -0.9969232983843457,
          -0.8415321853613246,
          -0.25367060423200744,
          -1.2456683814192777,
          -0.7967938610744663,
          -0.11349052146651817,
          -1.5812058135707143,
          -0.24889851630807597,
          -0.7401253169777794,
          -0.6252969513081763,
          -0.29333858509968835,
          -1.0863999469580623,
          -1.3315659640500452,
          -0.9372721993352015,
          -1.023169781965969,
          -1.0404686006902208,
          -0.5608737643351006,
          -1.0586621859002099,
          -0.8284089435705129,
          -0.7678630780356314,
          -0.10752541156160364,
          -0.5438732011060946,
          -1.2071934225325793,
          -0.36432339296816996,
          -1.0464337105951353,
          -0.4403785442558293,
          -0.41383380517896007,
          0.029672116251428127,
          -0.6688422536140519,
          -0.5569964428969063,
          -0.600243489707536,
          -0.08963008184686051,
          -0.2486002608128301,
          -0.32107634615754066,
          -0.256354903689219,
          -1.3172497002782506,
          -0.23249446406956137,
          -0.8301984765419872,
          0.11616620987268757,
          -0.5256796158961057,
          -1.1454545350167151,
          -0.5179249730197167,
          -0.6214196298699821,
          0.08634066034811541,
          -0.7314759076156533,
          -0.6873340943192868,
          0.38161360064137956,
          -0.4481331871322178,
          -1.46578093691062,
          -0.7156683663676301,
          -0.4612564289230295,
          -0.36432339296816996,
          -0.8800071442480228,
          -0.456484340999098,
          0.047567445966171254,
          -0.7404235724730249,
          -1.087592968939045,
          -0.8284089435705129,
          -0.3273397115577006,
          -1.115628985492143,
          -1.0523988205000498,
          -0.6285777617558793,
          -0.530749959315283,
          -0.18208928537303404,
          -1.085206924977079,
          -0.5921905913359012,
          -0.4072721842835542,
          -0.36879722539685594,
          -0.7726351659595632,
          0.289154397115206,
          -0.6044190666409762,
          -1.0595569523859472,
          -0.9238507020491439,
          -1.419849590642779,
          -0.551926099477729,
          -0.6169457974412965,
          -0.4976435993430079,
          -0.8716559903811426,
          -0.5775760720688611,
          -0.668543998118806,
          -1.3900240411182068,
          -1.1597707987885095,
          -0.09261263679931757,
          -0.012083653082973067,
          -0.3100408928334488,
          -0.14033351603863328,
          -0.756529369216294,
          -0.30825135986197444,
          -1.154103944378841,
          -0.4889941899808818,
          -0.6906149047669897,
          -0.8466025287805018,
          -0.5734004951354209,
          0.1668696440644599,
          -0.28886475267100276,
          -0.7281950971679504,
          -0.21489738985006368,
          -0.08963008184686051,
          -0.8275141770847756,
          -0.8316897540182158,
          -0.5313464703057743,
          0.22353818816114718,
          -0.3962367309594624,
          -0.19700206013532012,
          -0.4344134343509148,
          -0.5656458522590321,
          -0.6691405091092978,
          -0.015066208035430115,
          -0.620524863384245,
          -1.1564899883408066,
          -0.7380375285110592,
          -1.5167826265976385,
          -1.4741320907775004,
          -1.1379981476355723,
          -0.4624494509040125,
          -0.36611292593964434,
          -0.636630660127514,
          -0.18805439527794857,
          -0.8668839024572111,
          -0.5954714017836042,
          -0.7088084899769788,
          -0.5558034209159233,
          -0.9244472130396352,
          -0.25844269215593885,
          -1.2197201533328998,
          0.19967774854148954,
          -0.7523537922828539,
          -0.6545259898422572,
          -0.9897651664984486,
          -1.1344190816926234,
          -0.6545259898422572,
          -0.6402097260704624,
          0.2026603034939466,
          -0.04787431251245932,
          -0.08664752689440347,
          -0.606805110602942,
          0.1340615395874307,
          -0.877919355781303,
          -0.6124719650126106,
          -0.7410200834635167,
          -0.6244021848224396,
          -0.8424269518470617,
          0.017741896441599094,
          -0.19103695023040604,
          -0.8457077622947646,
          -0.34076120884375816,
          -0.3995175414071653,
          -0.04787431251245932,
          -1.085505180472325,
          -0.576383050087878,
          -1.3184427222592336,
          -1.2057021450563508,
          -1.2596863896958266,
          -0.500626154295465,
          -0.6673509761378235,
          -0.9268332570016009,
          -1.0151168835943347,
          -0.24442468387938998,
          -0.9459216086973271,
          -0.732072418606145,
          -0.5575929538873977,
          -1.355426403669703,
          0.2503811827332623,
          -0.2936368405949342,
          -0.7386340395015509,
          -0.45797561847532653,
          -0.7595119241687511,
          -0.28468917573756264,
          -0.8719542458763885,
          -0.5781725830593524,
          -1.2972665820967872,
          -0.04787431251245932,
          -0.5787690940498441,
          -0.27156593394675055,
          -0.6962817591766584,
          -0.6885271163002695,
          -0.7237212647392648,
          -0.635437638146531,
          -0.551926099477729,
          -0.2724607004324877,
          -0.7108962784436986,
          -0.9283245344778298,
          -0.3977280084356909,
          -0.6378236821084967,
          -0.7273003306822132,
          -0.21787994480252074,
          -0.3225676236337692,
          -1.095944122805925,
          -0.712685811415173,
          -0.9244472130396352,
          -0.34970887370112974,
          -0.6867375833287951,
          -0.9575535730119102,
          -0.5924888468311471,
          0.13704409453988775,
          -0.40399137383585126,
          -0.613963242488839,
          -0.6852463058525665,
          0.06844533063337185,
          -0.7102997674532072,
          -0.47378315972334983,
          -1.0920668013677308,
          -0.7055276795292759,
          -0.6867375833287951,
          -0.23398574154578988,
          -1.1755783400365327,
          -1.009450029184666,
          0.14897431434971678,
          -0.5566981874016604,
          -1.1469458124929437,
          -0.28349615375657955,
          -0.6220161408604734,
          -0.42606228048403455,
          -0.7830741082931633,
          -0.5149424180672597,
          -0.7970921165697121,
          -1.2638619666292668,
          -0.7836706192836546,
          -1.1773678730080073,
          -0.5546103989349406,
          -0.8987972404485032,
          -0.5507330774967459,
          0.08037555044320088,
          0.5844273374084702,
          -0.35865653855850127,
          -0.4809412916092474,
          -0.4904854674571103,
          -0.19700206013532012,
          -0.3404629533485123,
          -1.3405136289074169,
          -0.6560172673184858,
          -0.38967511006405653,
          -0.6837550283763381
         ],
         "y": [
          -0.6323670687151411,
          0.23232113826009337,
          -0.3209528515778077,
          -0.6797905535583899,
          0.5990627543812166,
          -0.02692724554966568,
          -0.20713648795401107,
          -0.47112722024809534,
          -0.5659741899345928,
          -0.1549706546264371,
          0.6875865927552808,
          -1.0749862605854623,
          -0.01270020009669176,
          1.5190783603402418,
          -0.3114681546091581,
          -0.7161485586048805,
          -0.17077848290752,
          -0.2814332808751004,
          -0.7983492656665113,
          -0.31621050309348336,
          -1.5587058059865988,
          0.4963118705541777,
          -1.5602865888147073,
          -0.8204802252600275,
          1.1317865674537104,
          -0.015861765752907993,
          -0.31779128592159145,
          -1.177737144412501,
          0.3350720220871323,
          0.2892293200719917,
          -0.41421903843619706,
          -0.7572489121356959,
          -0.7619912606200206,
          -0.7208909070892053,
          -1.361107952473063,
          -1.0101741646330225,
          -0.8315457050567857,
          -0.8742268414157092,
          -1.9539015130136712,
          -0.8030916141508365,
          -0.0585429021118315,
          0.26077522916604295,
          -0.22294431623509398,
          -0.5311969677162107,
          -0.55016636165351,
          0.4220150776330883,
          0.2750022746190178,
          -0.7193101242610972,
          -1.4243392655973945,
          -0.570716538418918,
          -0.6560788111367655,
          -0.4679656545918791,
          -0.9216503262589579,
          -0.5122275737789107,
          0.5405737897412102,
          -0.7714759575886707,
          -0.6687250737616318,
          0.11692399180818865,
          0.5089581331790444,
          0.347718284711999,
          -1.155606184818985,
          -1.1888026242092589,
          -1.0449513868514047,
          -0.4205421697486304,
          0.23232113826009337,
          -0.42686530106106374,
          -0.2276866647194192,
          -0.327275982890241,
          -0.33359911420267435,
          0.5216043958039102,
          0.6717787644741978,
          -0.9406197201962575,
          -0.7809606545573202,
          -0.7651528262762374,
          0.009430759496824492,
          -1.242549240364941,
          0.5247659614601273,
          -1.0465321696795131,
          -1.035466689882755,
          0.48682717358552813,
          0.08214676958980571,
          -0.36047242228051496,
          0.29555245138442504,
          0.1627666938233284,
          0.3903994210709225,
          -0.8410304020254352,
          -0.05696211928372339,
          -0.30672580612483374,
          0.0015268453562830358,
          -1.0449513868514047,
          1.0448435119077544,
          -1.5081207554871339,
          -0.3588916394524069,
          0.3366528049152404,
          -1.7025570433444532,
          -0.19132865967292814,
          0.4188535119768721,
          0.5421545725693183,
          0.37301080996173147,
          -0.828384139400569,
          -0.6339478515432493,
          0.6528093705368987,
          -0.49325817984161163,
          0.6464862392244654,
          -0.06802759908048196,
          0.3556221988525405,
          -0.5928474980124334,
          -0.396830427327006,
          -0.8204802252600275,
          -0.6971791646675809,
          -0.7746375232448869,
          -1.7468189625314856,
          -0.025346462721557564,
          -1.0070125989768057,
          0.4014649008676802,
          0.6860058099271726,
          -0.2988218919842923,
          -0.3746994677334898,
          -0.10912795261129736,
          -1.8590545433271741,
          -0.257721538453476,
          0.03630406757466597,
          -0.7114062101205557,
          0.20228626452603568,
          -1.1429599221941187,
          -0.4600617404513377,
          -0.603912977809192,
          -0.8094147454632694,
          0.34929906754010714,
          -1.226741412083858,
          -0.6054937606373001,
          -0.6102361091216253,
          -0.06328525059615674,
          0.15012043119846258,
          -0.006377068784258421,
          -0.2608831041096931,
          1.1254634361412772,
          -0.7651528262762374,
          0.6638748503336563,
          -0.31621050309348336,
          -0.23717136168806877,
          -0.09648168998643067,
          -0.48061191721674495,
          -0.13283969503292173,
          0.139054951401704,
          -0.6592403767929822,
          0.27974462310334214,
          0.27184070896280066,
          -0.8568382303065182,
          -0.5659741899345928,
          -0.9959471191800477,
          0.26709836047847635,
          -0.9374581545400409,
          0.15012043119846258,
          0.15960512816711217,
          -0.7177293414329886,
          -1.4227584827692858,
          -0.2830140637032094,
          -0.9469428515086908,
          -0.43160764954538805,
          -0.483773482872962,
          -0.6861136848708228,
          -0.1834247455323867,
          0.7776912139574539,
          0.13273182008927156,
          -0.17394004856373713,
          -0.698759947495689,
          -1.1334752252254692,
          -0.34782615965564917,
          0.08372755241791383,
          0.7887566937542115,
          0.10585851201143008,
          -0.17868239704806146,
          -0.7003407303237976,
          -0.47112722024809534,
          -0.7604104777919126,
          -1.2457108060211577,
          -0.1944902253291444,
          -0.49958131115404497,
          -0.9611698969616652,
          0.8045645220352945,
          0.8962499260655749,
          0.10585851201143008,
          -0.16287456876697856,
          -0.5232930535756694,
          -0.10280482129886401,
          -0.13442047786102984,
          -0.23400979603185165,
          -1.008593381804914,
          -1.0939556545227618,
          -1.0670823464449208,
          -0.24823684148482647,
          -0.447415477826471,
          -0.5849435838718919,
          -0.4569001747951206,
          -0.0316695940339909,
          -0.6766289879021732,
          -0.5596510586221595,
          -1.2346453262243995,
          -0.1691977000794119,
          -0.1992325738134696,
          -0.9295542403994994,
          0.121666340292513,
          0.6038051028655418,
          -0.7177293414329886,
          0.020496239293583057,
          -1.5349940635649744,
          -0.5470047959972937,
          -0.07435073039291441,
          -1.2615186343022406,
          -0.5232930535756694,
          -0.8157378767757028,
          0.2370634867444186,
          -0.3557300737961906,
          -0.6418517656837908,
          0.18647843624495278,
          -0.4489962606545791,
          -0.7098254272924471,
          -0.48535426570107015,
          -0.6924368161832561,
          0.7934990422385368,
          -0.8963578010092255,
          0.4425652543984965,
          -0.20555570512590296,
          -1.1208289626006025,
          0.434661340257955,
          -1.7468189625314856,
          -0.9817200737270729,
          0.9183808856590912,
          -0.9200695434308498,
          -0.5138083566070197,
          0.46785777964822894,
          -1.002270250492481,
          -0.12967812937670462,
          -0.6797905535583899,
          -0.30672580612483374
         ],
         "z": [
          0.24138426604276986,
          -0.2008224589429644,
          -0.41116048917962433,
          -0.12960564555574888,
          0.09729443430584513,
          1.0380188530020882,
          -1.0587366295145382,
          -0.861648238977825,
          -0.6297795442287513,
          1.049612287739542,
          -0.8848351084527325,
          -0.6529664137036588,
          0.2496652908552363,
          -0.8368051645404245,
          -0.5817496003164432,
          -0.08323190660593388,
          -0.7970562454405835,
          -1.0521118096645647,
          -0.4641590479794127,
          -0.7374328667908211,
          -1.4462885907379903,
          -0.782150400778143,
          -0.8848351084527325,
          0.48484639552929737,
          -0.3167568063175013,
          0.9949575239772599,
          0.48153398560431065,
          -1.7775295832366675,
          1.0661743373644754,
          -0.6314357491912449,
          -1.3767279823132685,
          2.069834544635467,
          0.3838178928172009,
          -1.43138274607555,
          -0.5304072464791479,
          -0.13291805548073557,
          0.004546956406215156,
          0.09066961445587172,
          -1.4048834666756558,
          -1.5241302239751793,
          -0.7887752206281164,
          -0.6695284633285923,
          -0.8036810652905569,
          0.006203161368708801,
          0.21819739656786236,
          -0.68774671791602,
          -1.4330389510380435,
          0.02773382588112265,
          -0.4542218182044526,
          0.4169419920670685,
          1.9240885079360497,
          -1.4098520815631361,
          0.43516024665449565,
          -1.5158491991627128,
          -0.5635313457290161,
          -0.2836327070676337,
          0.28775800499258425,
          0.10557545911831218,
          -0.2538210177427528,
          -1.0040818657522568,
          -1.0968293436518861,
          -1.0338935550771375,
          -0.2206969184928852,
          0.21157257671788837,
          0.2364156511552895,
          -0.38797361970471683,
          -0.008702683293731648,
          -0.6264671343037646,
          -1.0372059650021244,
          -0.25050860781776607,
          -0.194197639092991,
          -1.5042557644252592,
          -0.016983708106198692,
          1.288105802338589,
          0.213228781680382,
          -1.6201901117997959,
          -1.6814696954120512,
          -0.013671298181211992,
          -0.7573073263407419,
          -0.23891517308031235,
          -0.43269115369203814,
          -0.02526473291866574,
          0.27450836529263745,
          -0.9080219779276401,
          -0.3565057254173429,
          0.14366817325566011,
          -0.013671298181211992,
          1.6690329437120686,
          -1.5854098075874348,
          -0.767244556115702,
          -0.6181861094912975,
          0.12213750874324568,
          -0.6910591278410068,
          0.03270244076860299,
          -1.3005425540385727,
          0.3755368680047339,
          -1.0620490394395248,
          -0.7490263015282749,
          -1.2972301441135858,
          -0.326694036092462,
          -1.6268149316497693,
          -0.9361774622900279,
          -1.611909086987329,
          -0.41944151399209134,
          -0.008702683293731648,
          -0.11635600585580148,
          0.4070047622921084,
          0.6040931528288209,
          -1.3369790632134269,
          2.04167906027308,
          -0.30185096165506087,
          -1.5572543232250475,
          0.9419589651774715,
          0.004546956406215156,
          -0.5155014018167074,
          0.6902158108784769,
          -0.3714115700797833,
          -0.8450861893528915,
          -0.40122325940466425,
          -0.012015093218718348,
          -0.6579350285911392,
          2.6875989956455006,
          0.09895063926833819,
          -1.587066012549928,
          -0.7606197362657287,
          -0.452565613241959,
          -0.3233816261674747,
          0.40369235236712114,
          -1.2624498399012247,
          1.9224323029735555,
          -0.40950428421713125,
          -0.4244101288795717,
          -1.2442315853137975,
          0.32088210424245184,
          2.195706121784965,
          -1.0438307848520978,
          -0.46581525294190634,
          -0.42275392391707806,
          0.39872373747964135,
          -1.2144198959889165,
          -1.2177323059139034,
          -1.64172077631221,
          0.1999791419804352,
          -0.6562788236286454,
          0.5577194138790066,
          0.46994055086685693,
          -1.3949462369006955,
          -0.4177853090295977,
          -0.39128602962970355,
          -1.0769548841019654,
          0.28444559506759753,
          -0.15444871999314944,
          0.57428146350394,
          -1.1763271818515686,
          -0.38631741474222375,
          -1.3005425540385727,
          -0.7440576866407951,
          -0.22897794330535165,
          0.15857401791810058,
          -0.9527395119149614,
          -0.19585384405548406,
          -0.08820052149341423,
          -1.3899776220132152,
          -0.9312088474025475,
          0.2463528809302496,
          -0.9891760210898163,
          0.7432143696782653,
          -0.546969296104082,
          0.4649719359793766,
          -0.6049364697913507,
          -0.9792387913148556,
          -0.5337196564041352,
          -1.4297265411130562,
          -0.45587802316694565,
          -1.1962016414014895,
          1.7303125273243234,
          -1.250856405163771,
          -1.2243571257638768,
          -0.689402922878513,
          -1.5224740190126862,
          0.2562901107052103,
          0.5510945940290326,
          -0.6314357491912449,
          -0.6993401526534737,
          0.14532437821815317,
          -1.4280703361505633,
          1.099298436614343,
          -0.5121889918917207,
          1.2616065229386955,
          2.6594435112831127,
          -0.16769835969309682,
          -0.962676741689922,
          -0.05673262720603969,
          -0.33497506090492846,
          0.7962129284780537,
          -0.17929179443055057,
          -0.8964285431901863,
          0.2827893901051045,
          -1.3502287029133744,
          -1.6201901117997959,
          1.0943298217268627,
          -1.290605324263612,
          1.0744553621769424,
          -0.5635313457290161,
          -1.0057380707147499,
          -0.8583358290528383,
          -0.9676453565774018,
          -0.9245840275525741,
          -0.773869375965676,
          -2.241266972734816,
          -1.8802142909112576,
          1.6872511982994955,
          -1.5191616090876996,
          0.13041853355571273,
          -0.9875198161273226,
          -1.0272687352271637,
          -1.3171046036635061,
          -0.546969296104082,
          -1.0272687352271637,
          -1.638408366387223,
          -2.100489550922878,
          1.8826833838737151,
          0.10888786904329888,
          -1.086892113876926,
          -0.3399436757924088,
          0.9933013190147668,
          -1.1812957967390485,
          -1.4264141311880696,
          -1.2823242994511455,
          1.0479560827770482,
          -0.015327503143705049,
          -0.8384613695029182,
          -1.6367521614247298,
          0.6140303826037816,
          -0.8119620901030239,
          1.206951759176414
         ]
        }
       ],
       "layout": {
        "height": 800,
        "legend": {
         "title": {
          "text": "diagnosis"
         },
         "tracegroupgap": 0
        },
        "scene": {
         "domain": {
          "x": [
           0,
           1
          ],
          "y": [
           0,
           1
          ]
         },
         "xaxis": {
          "title": {
           "text": "perimeter_worst"
          }
         },
         "yaxis": {
          "title": {
           "text": "symmetry_worst"
          }
         },
         "zaxis": {
          "title": {
           "text": "texture_worst"
          }
         }
        },
        "template": {
         "data": {
          "bar": [
           {
            "error_x": {
             "color": "#2a3f5f"
            },
            "error_y": {
             "color": "#2a3f5f"
            },
            "marker": {
             "line": {
              "color": "#E5ECF6",
              "width": 0.5
             },
             "pattern": {
              "fillmode": "overlay",
              "size": 10,
              "solidity": 0.2
             }
            },
            "type": "bar"
           }
          ],
          "barpolar": [
           {
            "marker": {
             "line": {
              "color": "#E5ECF6",
              "width": 0.5
             },
             "pattern": {
              "fillmode": "overlay",
              "size": 10,
              "solidity": 0.2
             }
            },
            "type": "barpolar"
           }
          ],
          "carpet": [
           {
            "aaxis": {
             "endlinecolor": "#2a3f5f",
             "gridcolor": "white",
             "linecolor": "white",
             "minorgridcolor": "white",
             "startlinecolor": "#2a3f5f"
            },
            "baxis": {
             "endlinecolor": "#2a3f5f",
             "gridcolor": "white",
             "linecolor": "white",
             "minorgridcolor": "white",
             "startlinecolor": "#2a3f5f"
            },
            "type": "carpet"
           }
          ],
          "choropleth": [
           {
            "colorbar": {
             "outlinewidth": 0,
             "ticks": ""
            },
            "type": "choropleth"
           }
          ],
          "contour": [
           {
            "colorbar": {
             "outlinewidth": 0,
             "ticks": ""
            },
            "colorscale": [
             [
              0,
              "#0d0887"
             ],
             [
              0.1111111111111111,
              "#46039f"
             ],
             [
              0.2222222222222222,
              "#7201a8"
             ],
             [
              0.3333333333333333,
              "#9c179e"
             ],
             [
              0.4444444444444444,
              "#bd3786"
             ],
             [
              0.5555555555555556,
              "#d8576b"
             ],
             [
              0.6666666666666666,
              "#ed7953"
             ],
             [
              0.7777777777777778,
              "#fb9f3a"
             ],
             [
              0.8888888888888888,
              "#fdca26"
             ],
             [
              1,
              "#f0f921"
             ]
            ],
            "type": "contour"
           }
          ],
          "contourcarpet": [
           {
            "colorbar": {
             "outlinewidth": 0,
             "ticks": ""
            },
            "type": "contourcarpet"
           }
          ],
          "heatmap": [
           {
            "colorbar": {
             "outlinewidth": 0,
             "ticks": ""
            },
            "colorscale": [
             [
              0,
              "#0d0887"
             ],
             [
              0.1111111111111111,
              "#46039f"
             ],
             [
              0.2222222222222222,
              "#7201a8"
             ],
             [
              0.3333333333333333,
              "#9c179e"
             ],
             [
              0.4444444444444444,
              "#bd3786"
             ],
             [
              0.5555555555555556,
              "#d8576b"
             ],
             [
              0.6666666666666666,
              "#ed7953"
             ],
             [
              0.7777777777777778,
              "#fb9f3a"
             ],
             [
              0.8888888888888888,
              "#fdca26"
             ],
             [
              1,
              "#f0f921"
             ]
            ],
            "type": "heatmap"
           }
          ],
          "heatmapgl": [
           {
            "colorbar": {
             "outlinewidth": 0,
             "ticks": ""
            },
            "colorscale": [
             [
              0,
              "#0d0887"
             ],
             [
              0.1111111111111111,
              "#46039f"
             ],
             [
              0.2222222222222222,
              "#7201a8"
             ],
             [
              0.3333333333333333,
              "#9c179e"
             ],
             [
              0.4444444444444444,
              "#bd3786"
             ],
             [
              0.5555555555555556,
              "#d8576b"
             ],
             [
              0.6666666666666666,
              "#ed7953"
             ],
             [
              0.7777777777777778,
              "#fb9f3a"
             ],
             [
              0.8888888888888888,
              "#fdca26"
             ],
             [
              1,
              "#f0f921"
             ]
            ],
            "type": "heatmapgl"
           }
          ],
          "histogram": [
           {
            "marker": {
             "pattern": {
              "fillmode": "overlay",
              "size": 10,
              "solidity": 0.2
             }
            },
            "type": "histogram"
           }
          ],
          "histogram2d": [
           {
            "colorbar": {
             "outlinewidth": 0,
             "ticks": ""
            },
            "colorscale": [
             [
              0,
              "#0d0887"
             ],
             [
              0.1111111111111111,
              "#46039f"
             ],
             [
              0.2222222222222222,
              "#7201a8"
             ],
             [
              0.3333333333333333,
              "#9c179e"
             ],
             [
              0.4444444444444444,
              "#bd3786"
             ],
             [
              0.5555555555555556,
              "#d8576b"
             ],
             [
              0.6666666666666666,
              "#ed7953"
             ],
             [
              0.7777777777777778,
              "#fb9f3a"
             ],
             [
              0.8888888888888888,
              "#fdca26"
             ],
             [
              1,
              "#f0f921"
             ]
            ],
            "type": "histogram2d"
           }
          ],
          "histogram2dcontour": [
           {
            "colorbar": {
             "outlinewidth": 0,
             "ticks": ""
            },
            "colorscale": [
             [
              0,
              "#0d0887"
             ],
             [
              0.1111111111111111,
              "#46039f"
             ],
             [
              0.2222222222222222,
              "#7201a8"
             ],
             [
              0.3333333333333333,
              "#9c179e"
             ],
             [
              0.4444444444444444,
              "#bd3786"
             ],
             [
              0.5555555555555556,
              "#d8576b"
             ],
             [
              0.6666666666666666,
              "#ed7953"
             ],
             [
              0.7777777777777778,
              "#fb9f3a"
             ],
             [
              0.8888888888888888,
              "#fdca26"
             ],
             [
              1,
              "#f0f921"
             ]
            ],
            "type": "histogram2dcontour"
           }
          ],
          "mesh3d": [
           {
            "colorbar": {
             "outlinewidth": 0,
             "ticks": ""
            },
            "type": "mesh3d"
           }
          ],
          "parcoords": [
           {
            "line": {
             "colorbar": {
              "outlinewidth": 0,
              "ticks": ""
             }
            },
            "type": "parcoords"
           }
          ],
          "pie": [
           {
            "automargin": true,
            "type": "pie"
           }
          ],
          "scatter": [
           {
            "fillpattern": {
             "fillmode": "overlay",
             "size": 10,
             "solidity": 0.2
            },
            "type": "scatter"
           }
          ],
          "scatter3d": [
           {
            "line": {
             "colorbar": {
              "outlinewidth": 0,
              "ticks": ""
             }
            },
            "marker": {
             "colorbar": {
              "outlinewidth": 0,
              "ticks": ""
             }
            },
            "type": "scatter3d"
           }
          ],
          "scattercarpet": [
           {
            "marker": {
             "colorbar": {
              "outlinewidth": 0,
              "ticks": ""
             }
            },
            "type": "scattercarpet"
           }
          ],
          "scattergeo": [
           {
            "marker": {
             "colorbar": {
              "outlinewidth": 0,
              "ticks": ""
             }
            },
            "type": "scattergeo"
           }
          ],
          "scattergl": [
           {
            "marker": {
             "colorbar": {
              "outlinewidth": 0,
              "ticks": ""
             }
            },
            "type": "scattergl"
           }
          ],
          "scattermapbox": [
           {
            "marker": {
             "colorbar": {
              "outlinewidth": 0,
              "ticks": ""
             }
            },
            "type": "scattermapbox"
           }
          ],
          "scatterpolar": [
           {
            "marker": {
             "colorbar": {
              "outlinewidth": 0,
              "ticks": ""
             }
            },
            "type": "scatterpolar"
           }
          ],
          "scatterpolargl": [
           {
            "marker": {
             "colorbar": {
              "outlinewidth": 0,
              "ticks": ""
             }
            },
            "type": "scatterpolargl"
           }
          ],
          "scatterternary": [
           {
            "marker": {
             "colorbar": {
              "outlinewidth": 0,
              "ticks": ""
             }
            },
            "type": "scatterternary"
           }
          ],
          "surface": [
           {
            "colorbar": {
             "outlinewidth": 0,
             "ticks": ""
            },
            "colorscale": [
             [
              0,
              "#0d0887"
             ],
             [
              0.1111111111111111,
              "#46039f"
             ],
             [
              0.2222222222222222,
              "#7201a8"
             ],
             [
              0.3333333333333333,
              "#9c179e"
             ],
             [
              0.4444444444444444,
              "#bd3786"
             ],
             [
              0.5555555555555556,
              "#d8576b"
             ],
             [
              0.6666666666666666,
              "#ed7953"
             ],
             [
              0.7777777777777778,
              "#fb9f3a"
             ],
             [
              0.8888888888888888,
              "#fdca26"
             ],
             [
              1,
              "#f0f921"
             ]
            ],
            "type": "surface"
           }
          ],
          "table": [
           {
            "cells": {
             "fill": {
              "color": "#EBF0F8"
             },
             "line": {
              "color": "white"
             }
            },
            "header": {
             "fill": {
              "color": "#C8D4E3"
             },
             "line": {
              "color": "white"
             }
            },
            "type": "table"
           }
          ]
         },
         "layout": {
          "annotationdefaults": {
           "arrowcolor": "#2a3f5f",
           "arrowhead": 0,
           "arrowwidth": 1
          },
          "autotypenumbers": "strict",
          "coloraxis": {
           "colorbar": {
            "outlinewidth": 0,
            "ticks": ""
           }
          },
          "colorscale": {
           "diverging": [
            [
             0,
             "#8e0152"
            ],
            [
             0.1,
             "#c51b7d"
            ],
            [
             0.2,
             "#de77ae"
            ],
            [
             0.3,
             "#f1b6da"
            ],
            [
             0.4,
             "#fde0ef"
            ],
            [
             0.5,
             "#f7f7f7"
            ],
            [
             0.6,
             "#e6f5d0"
            ],
            [
             0.7,
             "#b8e186"
            ],
            [
             0.8,
             "#7fbc41"
            ],
            [
             0.9,
             "#4d9221"
            ],
            [
             1,
             "#276419"
            ]
           ],
           "sequential": [
            [
             0,
             "#0d0887"
            ],
            [
             0.1111111111111111,
             "#46039f"
            ],
            [
             0.2222222222222222,
             "#7201a8"
            ],
            [
             0.3333333333333333,
             "#9c179e"
            ],
            [
             0.4444444444444444,
             "#bd3786"
            ],
            [
             0.5555555555555556,
             "#d8576b"
            ],
            [
             0.6666666666666666,
             "#ed7953"
            ],
            [
             0.7777777777777778,
             "#fb9f3a"
            ],
            [
             0.8888888888888888,
             "#fdca26"
            ],
            [
             1,
             "#f0f921"
            ]
           ],
           "sequentialminus": [
            [
             0,
             "#0d0887"
            ],
            [
             0.1111111111111111,
             "#46039f"
            ],
            [
             0.2222222222222222,
             "#7201a8"
            ],
            [
             0.3333333333333333,
             "#9c179e"
            ],
            [
             0.4444444444444444,
             "#bd3786"
            ],
            [
             0.5555555555555556,
             "#d8576b"
            ],
            [
             0.6666666666666666,
             "#ed7953"
            ],
            [
             0.7777777777777778,
             "#fb9f3a"
            ],
            [
             0.8888888888888888,
             "#fdca26"
            ],
            [
             1,
             "#f0f921"
            ]
           ]
          },
          "colorway": [
           "#636efa",
           "#EF553B",
           "#00cc96",
           "#ab63fa",
           "#FFA15A",
           "#19d3f3",
           "#FF6692",
           "#B6E880",
           "#FF97FF",
           "#FECB52"
          ],
          "font": {
           "color": "#2a3f5f"
          },
          "geo": {
           "bgcolor": "white",
           "lakecolor": "white",
           "landcolor": "#E5ECF6",
           "showlakes": true,
           "showland": true,
           "subunitcolor": "white"
          },
          "hoverlabel": {
           "align": "left"
          },
          "hovermode": "closest",
          "mapbox": {
           "style": "light"
          },
          "paper_bgcolor": "white",
          "plot_bgcolor": "#E5ECF6",
          "polar": {
           "angularaxis": {
            "gridcolor": "white",
            "linecolor": "white",
            "ticks": ""
           },
           "bgcolor": "#E5ECF6",
           "radialaxis": {
            "gridcolor": "white",
            "linecolor": "white",
            "ticks": ""
           }
          },
          "scene": {
           "xaxis": {
            "backgroundcolor": "#E5ECF6",
            "gridcolor": "white",
            "gridwidth": 2,
            "linecolor": "white",
            "showbackground": true,
            "ticks": "",
            "zerolinecolor": "white"
           },
           "yaxis": {
            "backgroundcolor": "#E5ECF6",
            "gridcolor": "white",
            "gridwidth": 2,
            "linecolor": "white",
            "showbackground": true,
            "ticks": "",
            "zerolinecolor": "white"
           },
           "zaxis": {
            "backgroundcolor": "#E5ECF6",
            "gridcolor": "white",
            "gridwidth": 2,
            "linecolor": "white",
            "showbackground": true,
            "ticks": "",
            "zerolinecolor": "white"
           }
          },
          "shapedefaults": {
           "line": {
            "color": "#2a3f5f"
           }
          },
          "ternary": {
           "aaxis": {
            "gridcolor": "white",
            "linecolor": "white",
            "ticks": ""
           },
           "baxis": {
            "gridcolor": "white",
            "linecolor": "white",
            "ticks": ""
           },
           "bgcolor": "#E5ECF6",
           "caxis": {
            "gridcolor": "white",
            "linecolor": "white",
            "ticks": ""
           }
          },
          "title": {
           "x": 0.05
          },
          "xaxis": {
           "automargin": true,
           "gridcolor": "white",
           "linecolor": "white",
           "ticks": "",
           "title": {
            "standoff": 15
           },
           "zerolinecolor": "white",
           "zerolinewidth": 2
          },
          "yaxis": {
           "automargin": true,
           "gridcolor": "white",
           "linecolor": "white",
           "ticks": "",
           "title": {
            "standoff": 15
           },
           "zerolinecolor": "white",
           "zerolinewidth": 2
          }
         }
        },
        "title": {
         "text": "Labeled data for selected features"
        },
        "width": 800
       }
      },
      "image/png": "[encoded data removed]",
      "text/html": [
       "<div>                            <div id=\"b48a5a42-b1f4-419e-96ea-e0c7c50503af\" class=\"plotly-graph-div\" style=\"height:800px; width:800px;\"></div>            <script type=\"text/javascript\">                require([\"plotly\"], function(Plotly) {                    window.PLOTLYENV=window.PLOTLYENV || {};                                    if (document.getElementById(\"b48a5a42-b1f4-419e-96ea-e0c7c50503af\")) {                    Plotly.newPlot(                        \"b48a5a42-b1f4-419e-96ea-e0c7c50503af\",                        [{\"hovertemplate\":\"diagnosis=1\\u003cbr\\u003eperimeter_worst=%{x}\\u003cbr\\u003esymmetry_worst=%{y}\\u003cbr\\u003etexture_worst=%{z}\\u003cextra\\u003e\\u003c\\u002fextra\\u003e\",\"legendgroup\":\"1\",\"marker\":{\"color\":\"#636efa\",\"symbol\":\"circle\",\"size\":4},\"mode\":\"markers\",\"name\":\"1\",\"scene\":\"scene\",\"showlegend\":true,\"x\":[0.5217936834068688,1.866925966965073,0.6410958815051574,1.339013740380146,2.08465247849445,1.5597228068619804,1.872891076869988,0.16985219901691737,0.35477060606926486,0.24441607282834776,2.072722258684621,0.8737351677968206,2.6364251446990354,-0.09559519175177504,0.47705535912001057,3.3790813278608822,2.4008033034549148,1.273397531426087,-0.12243818632388973,1.285327751235916,0.2503811827332623,0.4740728041675535,-0.2575479256702016,1.0646186847540817,0.44424725464298137,-0.06576964222720287,1.6163913509586667,0.3309101664496068,1.4255078340014056,-0.17314162051566248,1.5298972573374081,0.6470609914100716,0.5903924473133847,0.6500435463625295,0.25932884759063385,0.6977644256018447,1.6611296752455251,0.6649563211248155,0.9065432722738499,0.769345744460818,-0.6682457426235606,-0.3568670055870269,1.7565714337241565,-0.4645372393707324,3.6325984988197457,2.9287155300398418,1.0049675857049374,1.3837520646670045,1.327083520570317,1.1481302234228843,2.189041901830453,2.072722258684621,1.8967515164896454,1.6014785761963808,1.127252338755684,2.7437971229874947,0.5486366779789839,0.8230317336050474,2.1681640171632517,1.2286592071392286,0.1877475287316605,0.9632118163705371,1.7685016535339855,1.3300660755227742,1.646216900483239,2.2874662152615404,0.9960199208475663,0.6440784364576145,1.0795314595163679,1.0705837946589967,1.2137464323769427,1.2555022017113437,-0.059804532322288356,0.21160796835131815,0.578462227503556,1.3330486304752311,0.9453164866557932,1.3181358557129452,0.7753108543657322,1.2465545368539726,1.449368273621063,0.35477060606926486,0.43529958978560934,-0.6050155776314675,0.3040671718774921,1.0318105802770525,1.339013740380146,1.658147120293068,1.3330486304752311,2.1204431379239366,0.5337239032166978,0.032654671203885176,0.38459615559383703,0.27125906740046246,-0.09261263679931757,-0.14033351603863328,0.8528572831296196,1.479193823145635,1.136200003613055,0.9661943713229941,0.7753108543657322,1.6342866806734107,2.0100886046830198,1.0347931352295097,0.4144217051184092,0.3458229412118929,-0.4612564289230295,-0.03892664765508776,0.12809642968251617,1.8967515164896454,0.03861978110879969,0.757415524650989,-0.14928118089600484,-0.4696075827899097,1.5984960212439236,2.937663194897214,0.6709214310297296,2.415716078217201,4.285778033407875,0.5724971175986415,0.9542641515131651,1.1660255531376273,0.1668696440644599,-0.03296153775017324,0.5605668977888125,-0.03296153775017324,1.0288280253245956,1.5298972573374081,0.3040671718774921,0.7514504147460741,1.5656879167668944,-0.00015343327314403372,2.8302912166087544,0.1340615395874307,2.1353559126862227,1.5597228068619804,-0.1582288457533764,1.494106597907921,0.05949766577600029,1.3300660755227742,1.3539265151424322,0.5009157987396682,0.22353818816114718,1.130234893708141,0.19073008368411798],\"y\":[0.518442830147694,1.0258741179704554,-0.5074852252945864,1.8621082340397406,2.816901062217148,0.5848357089282418,0.28764853724388356,0.9199616684871992,2.9607522995750024,1.28038015329589,1.1460136129066851,1.2930264159207558,-0.0869969930177811,-0.3004026748124004,-0.08541621018967298,-0.05063898797129005,-0.10438560412697213,0.26393679482225924,1.7340648249629693,1.4400392189348272,-0.3241144172340248,0.2228364412914438,5.927881667934261,-0.41896138692052226,2.175103234005182,0.8203723503163773,-1.0275627757422134,0.17699373927630319,-1.1508638363346602,0.5168620473195858,0.641743890740141,3.1520270217761053,2.8279665420139057,3.060341617745824,1.1112363906883023,0.39514176955524777,-0.6450133313400074,0.3398143705714575,0.28290618875955836,-0.0727699475648063,-1.4385663110503688,-2.0914296190590926,0.4820848251012029,4.5620853044487,1.2677338906710234,0.42517664328930455,-0.05538133645561528,0.5974819715531084,0.5247659614601273,0.22757878977576904,0.5279275271163435,0.48998873924174435,4.220636213577309,-0.44109234651403767,0.18805921907306175,-0.5975898464967586,1.746711087587835,0.21019017866657713,-0.2766909323907761,0.659132501849332,-0.9580083313054489,-0.9406197201962575,-0.3146297202653752,0.19280156755738612,-0.7129869929486639,1.108074825032086,-0.12019343240805504,-0.8204802252600275,0.6148705826622995,0.5737702291314841,-0.07435073039291441,0.5642855321628345,1.2724762391553486,0.6844250270990645,-0.18658631118860292,1.2756378048115649,0.502635001866611,0.45521151702336227,3.1219921480420476,1.8004577037435172,1.2661531078429151,2.1450683602711242,0.6796826786147393,0.12008555746440489,0.19754391604171134,0.4726001281325533,1.1096556078601942,0.7761104311293449,-0.828384139400569,-0.11070873543940547,-0.034831159690207135,-0.3746994677334898,-2.0313598715909778,-0.006377068784258421,1.1728869209845258,1.5996982845737644,1.0148086381736967,0.1817360877606284,0.34929906754010714,-0.8647421444470597,0.34929906754010714,0.415691946320655,1.193437097749934,0.2939716685563169,0.8314378301131351,-0.06960838190859008,-0.09332012433021444,2.355312476409527,0.7824335624417782,0.12640868877683822,1.1191403048288437,-0.6718866394178484,0.16750904230765362,2.00121712291327,1.2503452795618322,0.3398143705714575,0.6117090170060833,-1.9602246443261044,-0.3905072960145727,-1.0591784323043794,0.06317737565250657,-0.7035022959800142,1.3451922492483297,3.6009693449588585,0.986354547267748,0.40936881500822164,-0.49325817984161163,-0.21820196775076875,0.8330186129412441,2.1845879309738314,0.6053858856936499,-0.5248738364037774,-0.466384871763771,-0.12493578089238026,0.06475815848061468,-0.21978275057887775,-0.6497556798243321,1.8289117946494666,-0.2687870182502346,-0.24981762431293458,1.6882221229478287,0.2070286130103609,2.902263334934995,0.009430759496824492,0.4599538655076875],\"z\":[-1.4098520815631361,0.4285354268045223,-0.2074472787929378,-0.68774671791602,1.2616065229386955,1.7137504776993893,0.5113456749291916,1.6706891486745616,0.42522301687953556,0.8525238972028288,0.9949575239772599,0.981707884277313,0.43516024665449565,1.4437890688129682,-0.21904071353039156,1.2086079641389071,1.6624081238620951,-0.4177853090295977,-0.29853855173007415,-0.7009963576159668,1.0131757785646875,0.8823355865277097,0.15691781295560692,1.2582941130137082,1.268231342788669,0.7614326242656925,0.10226304919332548,0.3689120481547605,1.1224853060892506,2.2834849847971146,0.6421858669661689,0.37719307296722693,0.16685504273056703,0.9071786609651108,0.7962129284780537,-0.07660708675596048,0.8624611269777894,0.7995253384030404,0.2794769801801172,-0.5850620102414299,-0.35816193037983596,-0.058388832168533335,1.0777677721019296,0.13704335340568613,-0.326694036092462,0.22813462634282247,3.199366329055956,0.801181543365534,0.26457113551767675,-0.07991949668094718,-0.25878963263023314,1.1804524797765192,1.0446436728520616,0.13538714844319308,0.8906166113401768,0.14698058318064683,0.7846194937405999,-0.23560276315532566,3.2888013970305985,1.3295109264009237,0.41528578710457487,0.8955852262276571,-0.3945984395546902,1.4802255779878224,1.958868812148411,0.4417850665044691,-0.09151293141840093,-0.1411990802932026,1.0082071636772072,0.08404479460589774,0.029390030843616296,0.3689120481547605,0.7183712952408647,1.2980430321135497,-0.07660708675596048,0.3523499985298264,0.13373094348069942,0.7266523200533318,0.57428146350394,1.8479030796613538,0.9999261388647402,-0.22897794330535165,-0.41447289910461105,1.6210029997997604,1.7849672910866048,0.6388734570411821,0.5130018798916846,-0.16272974480561647,-1.471131665175391,1.7750300613116452,0.33413174394239925,1.6094095650623066,0.4169419920670685,0.715058885315878,0.22813462634282247,0.3970675325171477,1.08273638698941,0.34738138364234605,0.9668020396148727,0.2827893901051045,-0.10973118600582808,2.2536732954722325,0.13869955836817977,0.10723166408080523,-0.6827781030285397,0.6554355066661163,1.2947306221885624,0.8574925120903092,1.3112926718134965,0.11385648393077863,1.069486747289462,-0.07329467683097378,0.7779946738906266,1.2036393492514268,1.460351118437901,1.4835379879128086,-0.08323190660593388,-1.173014771926582,0.9634896296898859,1.4189459943755665,0.047608285431043444,-1.2823242994511455,0.4053485573296148,1.9257447128985428,3.972814046540367,-0.5221262216666814,0.8094625681780011,-0.35484952045484924,-0.8798664935652528,0.2827893901051045,1.3676036405382723,0.047608285431043444,0.8574925120903092,0.3490375886048397,0.6388734570411821,0.006203161368708801,1.019800598414661,1.508381062350209,0.879023176602723,-0.6148736995663109,0.8044939532905208,-0.5916868300914033,1.5398489566375841,-0.10807498104333502,0.8690859468277629],\"type\":\"scatter3d\"},{\"hovertemplate\":\"diagnosis=0\\u003cbr\\u003eperimeter_worst=%{x}\\u003cbr\\u003esymmetry_worst=%{y}\\u003cbr\\u003etexture_worst=%{z}\\u003cextra\\u003e\\u003c\\u002fextra\\u003e\",\"legendgroup\":\"0\",\"marker\":{\"color\":\"#EF553B\",\"symbol\":\"circle\",\"size\":4},\"mode\":\"markers\",\"name\":\"0\",\"scene\":\"scene\",\"showlegend\":true,\"x\":[-0.47348490422810435,-0.43799250029386355,-0.577874327564107,-0.9969232983843457,-0.8415321853613246,-0.25367060423200744,-1.2456683814192777,-0.7967938610744663,-0.11349052146651817,-1.5812058135707143,-0.24889851630807597,-0.7401253169777794,-0.6252969513081763,-0.29333858509968835,-1.0863999469580623,-1.3315659640500452,-0.9372721993352015,-1.023169781965969,-1.0404686006902208,-0.5608737643351006,-1.0586621859002099,-0.8284089435705129,-0.7678630780356314,-0.10752541156160364,-0.5438732011060946,-1.2071934225325793,-0.36432339296816996,-1.0464337105951353,-0.4403785442558293,-0.41383380517896007,0.029672116251428127,-0.6688422536140519,-0.5569964428969063,-0.600243489707536,-0.08963008184686051,-0.2486002608128301,-0.32107634615754066,-0.256354903689219,-1.3172497002782506,-0.23249446406956137,-0.8301984765419872,0.11616620987268757,-0.5256796158961057,-1.1454545350167151,-0.5179249730197167,-0.6214196298699821,0.08634066034811541,-0.7314759076156533,-0.6873340943192868,0.38161360064137956,-0.4481331871322178,-1.46578093691062,-0.7156683663676301,-0.4612564289230295,-0.36432339296816996,-0.8800071442480228,-0.456484340999098,0.047567445966171254,-0.7404235724730249,-1.087592968939045,-0.8284089435705129,-0.3273397115577006,-1.115628985492143,-1.0523988205000498,-0.6285777617558793,-0.530749959315283,-0.18208928537303404,-1.085206924977079,-0.5921905913359012,-0.4072721842835542,-0.36879722539685594,-0.7726351659595632,0.289154397115206,-0.6044190666409762,-1.0595569523859472,-0.9238507020491439,-1.419849590642779,-0.551926099477729,-0.6169457974412965,-0.4976435993430079,-0.8716559903811426,-0.5775760720688611,-0.668543998118806,-1.3900240411182068,-1.1597707987885095,-0.09261263679931757,-0.012083653082973067,-0.3100408928334488,-0.14033351603863328,-0.756529369216294,-0.30825135986197444,-1.154103944378841,-0.4889941899808818,-0.6906149047669897,-0.8466025287805018,-0.5734004951354209,0.1668696440644599,-0.28886475267100276,-0.7281950971679504,-0.21489738985006368,-0.08963008184686051,-0.8275141770847756,-0.8316897540182158,-0.5313464703057743,0.22353818816114718,-0.3962367309594624,-0.19700206013532012,-0.4344134343509148,-0.5656458522590321,-0.6691405091092978,-0.015066208035430115,-0.620524863384245,-1.1564899883408066,-0.7380375285110592,-1.5167826265976385,-1.4741320907775004,-1.1379981476355723,-0.4624494509040125,-0.36611292593964434,-0.636630660127514,-0.18805439527794857,-0.8668839024572111,-0.5954714017836042,-0.7088084899769788,-0.5558034209159233,-0.9244472130396352,-0.25844269215593885,-1.2197201533328998,0.19967774854148954,-0.7523537922828539,-0.6545259898422572,-0.9897651664984486,-1.1344190816926234,-0.6545259898422572,-0.6402097260704624,0.2026603034939466,-0.04787431251245932,-0.08664752689440347,-0.606805110602942,0.1340615395874307,-0.877919355781303,-0.6124719650126106,-0.7410200834635167,-0.6244021848224396,-0.8424269518470617,0.017741896441599094,-0.19103695023040604,-0.8457077622947646,-0.34076120884375816,-0.3995175414071653,-0.04787431251245932,-1.085505180472325,-0.576383050087878,-1.3184427222592336,-1.2057021450563508,-1.2596863896958266,-0.500626154295465,-0.6673509761378235,-0.9268332570016009,-1.0151168835943347,-0.24442468387938998,-0.9459216086973271,-0.732072418606145,-0.5575929538873977,-1.355426403669703,0.2503811827332623,-0.2936368405949342,-0.7386340395015509,-0.45797561847532653,-0.7595119241687511,-0.28468917573756264,-0.8719542458763885,-0.5781725830593524,-1.2972665820967872,-0.04787431251245932,-0.5787690940498441,-0.27156593394675055,-0.6962817591766584,-0.6885271163002695,-0.7237212647392648,-0.635437638146531,-0.551926099477729,-0.2724607004324877,-0.7108962784436986,-0.9283245344778298,-0.3977280084356909,-0.6378236821084967,-0.7273003306822132,-0.21787994480252074,-0.3225676236337692,-1.095944122805925,-0.712685811415173,-0.9244472130396352,-0.34970887370112974,-0.6867375833287951,-0.9575535730119102,-0.5924888468311471,0.13704409453988775,-0.40399137383585126,-0.613963242488839,-0.6852463058525665,0.06844533063337185,-0.7102997674532072,-0.47378315972334983,-1.0920668013677308,-0.7055276795292759,-0.6867375833287951,-0.23398574154578988,-1.1755783400365327,-1.009450029184666,0.14897431434971678,-0.5566981874016604,-1.1469458124929437,-0.28349615375657955,-0.6220161408604734,-0.42606228048403455,-0.7830741082931633,-0.5149424180672597,-0.7970921165697121,-1.2638619666292668,-0.7836706192836546,-1.1773678730080073,-0.5546103989349406,-0.8987972404485032,-0.5507330774967459,0.08037555044320088,0.5844273374084702,-0.35865653855850127,-0.4809412916092474,-0.4904854674571103,-0.19700206013532012,-0.3404629533485123,-1.3405136289074169,-0.6560172673184858,-0.38967511006405653,-0.6837550283763381],\"y\":[-0.6323670687151411,0.23232113826009337,-0.3209528515778077,-0.6797905535583899,0.5990627543812166,-0.02692724554966568,-0.20713648795401107,-0.47112722024809534,-0.5659741899345928,-0.1549706546264371,0.6875865927552808,-1.0749862605854623,-0.01270020009669176,1.5190783603402418,-0.3114681546091581,-0.7161485586048805,-0.17077848290752,-0.2814332808751004,-0.7983492656665113,-0.31621050309348336,-1.5587058059865988,0.4963118705541777,-1.5602865888147073,-0.8204802252600275,1.1317865674537104,-0.015861765752907993,-0.31779128592159145,-1.177737144412501,0.3350720220871323,0.2892293200719917,-0.41421903843619706,-0.7572489121356959,-0.7619912606200206,-0.7208909070892053,-1.361107952473063,-1.0101741646330225,-0.8315457050567857,-0.8742268414157092,-1.9539015130136712,-0.8030916141508365,-0.0585429021118315,0.26077522916604295,-0.22294431623509398,-0.5311969677162107,-0.55016636165351,0.4220150776330883,0.2750022746190178,-0.7193101242610972,-1.4243392655973945,-0.570716538418918,-0.6560788111367655,-0.4679656545918791,-0.9216503262589579,-0.5122275737789107,0.5405737897412102,-0.7714759575886707,-0.6687250737616318,0.11692399180818865,0.5089581331790444,0.347718284711999,-1.155606184818985,-1.1888026242092589,-1.0449513868514047,-0.4205421697486304,0.23232113826009337,-0.42686530106106374,-0.2276866647194192,-0.327275982890241,-0.33359911420267435,0.5216043958039102,0.6717787644741978,-0.9406197201962575,-0.7809606545573202,-0.7651528262762374,0.009430759496824492,-1.242549240364941,0.5247659614601273,-1.0465321696795131,-1.035466689882755,0.48682717358552813,0.08214676958980571,-0.36047242228051496,0.29555245138442504,0.1627666938233284,0.3903994210709225,-0.8410304020254352,-0.05696211928372339,-0.30672580612483374,0.0015268453562830358,-1.0449513868514047,1.0448435119077544,-1.5081207554871339,-0.3588916394524069,0.3366528049152404,-1.7025570433444532,-0.19132865967292814,0.4188535119768721,0.5421545725693183,0.37301080996173147,-0.828384139400569,-0.6339478515432493,0.6528093705368987,-0.49325817984161163,0.6464862392244654,-0.06802759908048196,0.3556221988525405,-0.5928474980124334,-0.396830427327006,-0.8204802252600275,-0.6971791646675809,-0.7746375232448869,-1.7468189625314856,-0.025346462721557564,-1.0070125989768057,0.4014649008676802,0.6860058099271726,-0.2988218919842923,-0.3746994677334898,-0.10912795261129736,-1.8590545433271741,-0.257721538453476,0.03630406757466597,-0.7114062101205557,0.20228626452603568,-1.1429599221941187,-0.4600617404513377,-0.603912977809192,-0.8094147454632694,0.34929906754010714,-1.226741412083858,-0.6054937606373001,-0.6102361091216253,-0.06328525059615674,0.15012043119846258,-0.006377068784258421,-0.2608831041096931,1.1254634361412772,-0.7651528262762374,0.6638748503336563,-0.31621050309348336,-0.23717136168806877,-0.09648168998643067,-0.48061191721674495,-0.13283969503292173,0.139054951401704,-0.6592403767929822,0.27974462310334214,0.27184070896280066,-0.8568382303065182,-0.5659741899345928,-0.9959471191800477,0.26709836047847635,-0.9374581545400409,0.15012043119846258,0.15960512816711217,-0.7177293414329886,-1.4227584827692858,-0.2830140637032094,-0.9469428515086908,-0.43160764954538805,-0.483773482872962,-0.6861136848708228,-0.1834247455323867,0.7776912139574539,0.13273182008927156,-0.17394004856373713,-0.698759947495689,-1.1334752252254692,-0.34782615965564917,0.08372755241791383,0.7887566937542115,0.10585851201143008,-0.17868239704806146,-0.7003407303237976,-0.47112722024809534,-0.7604104777919126,-1.2457108060211577,-0.1944902253291444,-0.49958131115404497,-0.9611698969616652,0.8045645220352945,0.8962499260655749,0.10585851201143008,-0.16287456876697856,-0.5232930535756694,-0.10280482129886401,-0.13442047786102984,-0.23400979603185165,-1.008593381804914,-1.0939556545227618,-1.0670823464449208,-0.24823684148482647,-0.447415477826471,-0.5849435838718919,-0.4569001747951206,-0.0316695940339909,-0.6766289879021732,-0.5596510586221595,-1.2346453262243995,-0.1691977000794119,-0.1992325738134696,-0.9295542403994994,0.121666340292513,0.6038051028655418,-0.7177293414329886,0.020496239293583057,-1.5349940635649744,-0.5470047959972937,-0.07435073039291441,-1.2615186343022406,-0.5232930535756694,-0.8157378767757028,0.2370634867444186,-0.3557300737961906,-0.6418517656837908,0.18647843624495278,-0.4489962606545791,-0.7098254272924471,-0.48535426570107015,-0.6924368161832561,0.7934990422385368,-0.8963578010092255,0.4425652543984965,-0.20555570512590296,-1.1208289626006025,0.434661340257955,-1.7468189625314856,-0.9817200737270729,0.9183808856590912,-0.9200695434308498,-0.5138083566070197,0.46785777964822894,-1.002270250492481,-0.12967812937670462,-0.6797905535583899,-0.30672580612483374],\"z\":[0.24138426604276986,-0.2008224589429644,-0.41116048917962433,-0.12960564555574888,0.09729443430584513,1.0380188530020882,-1.0587366295145382,-0.861648238977825,-0.6297795442287513,1.049612287739542,-0.8848351084527325,-0.6529664137036588,0.2496652908552363,-0.8368051645404245,-0.5817496003164432,-0.08323190660593388,-0.7970562454405835,-1.0521118096645647,-0.4641590479794127,-0.7374328667908211,-1.4462885907379903,-0.782150400778143,-0.8848351084527325,0.48484639552929737,-0.3167568063175013,0.9949575239772599,0.48153398560431065,-1.7775295832366675,1.0661743373644754,-0.6314357491912449,-1.3767279823132685,2.069834544635467,0.3838178928172009,-1.43138274607555,-0.5304072464791479,-0.13291805548073557,0.004546956406215156,0.09066961445587172,-1.4048834666756558,-1.5241302239751793,-0.7887752206281164,-0.6695284633285923,-0.8036810652905569,0.006203161368708801,0.21819739656786236,-0.68774671791602,-1.4330389510380435,0.02773382588112265,-0.4542218182044526,0.4169419920670685,1.9240885079360497,-1.4098520815631361,0.43516024665449565,-1.5158491991627128,-0.5635313457290161,-0.2836327070676337,0.28775800499258425,0.10557545911831218,-0.2538210177427528,-1.0040818657522568,-1.0968293436518861,-1.0338935550771375,-0.2206969184928852,0.21157257671788837,0.2364156511552895,-0.38797361970471683,-0.008702683293731648,-0.6264671343037646,-1.0372059650021244,-0.25050860781776607,-0.194197639092991,-1.5042557644252592,-0.016983708106198692,1.288105802338589,0.213228781680382,-1.6201901117997959,-1.6814696954120512,-0.013671298181211992,-0.7573073263407419,-0.23891517308031235,-0.43269115369203814,-0.02526473291866574,0.27450836529263745,-0.9080219779276401,-0.3565057254173429,0.14366817325566011,-0.013671298181211992,1.6690329437120686,-1.5854098075874348,-0.767244556115702,-0.6181861094912975,0.12213750874324568,-0.6910591278410068,0.03270244076860299,-1.3005425540385727,0.3755368680047339,-1.0620490394395248,-0.7490263015282749,-1.2972301441135858,-0.326694036092462,-1.6268149316497693,-0.9361774622900279,-1.611909086987329,-0.41944151399209134,-0.008702683293731648,-0.11635600585580148,0.4070047622921084,0.6040931528288209,-1.3369790632134269,2.04167906027308,-0.30185096165506087,-1.5572543232250475,0.9419589651774715,0.004546956406215156,-0.5155014018167074,0.6902158108784769,-0.3714115700797833,-0.8450861893528915,-0.40122325940466425,-0.012015093218718348,-0.6579350285911392,2.6875989956455006,0.09895063926833819,-1.587066012549928,-0.7606197362657287,-0.452565613241959,-0.3233816261674747,0.40369235236712114,-1.2624498399012247,1.9224323029735555,-0.40950428421713125,-0.4244101288795717,-1.2442315853137975,0.32088210424245184,2.195706121784965,-1.0438307848520978,-0.46581525294190634,-0.42275392391707806,0.39872373747964135,-1.2144198959889165,-1.2177323059139034,-1.64172077631221,0.1999791419804352,-0.6562788236286454,0.5577194138790066,0.46994055086685693,-1.3949462369006955,-0.4177853090295977,-0.39128602962970355,-1.0769548841019654,0.28444559506759753,-0.15444871999314944,0.57428146350394,-1.1763271818515686,-0.38631741474222375,-1.3005425540385727,-0.7440576866407951,-0.22897794330535165,0.15857401791810058,-0.9527395119149614,-0.19585384405548406,-0.08820052149341423,-1.3899776220132152,-0.9312088474025475,0.2463528809302496,-0.9891760210898163,0.7432143696782653,-0.546969296104082,0.4649719359793766,-0.6049364697913507,-0.9792387913148556,-0.5337196564041352,-1.4297265411130562,-0.45587802316694565,-1.1962016414014895,1.7303125273243234,-1.250856405163771,-1.2243571257638768,-0.689402922878513,-1.5224740190126862,0.2562901107052103,0.5510945940290326,-0.6314357491912449,-0.6993401526534737,0.14532437821815317,-1.4280703361505633,1.099298436614343,-0.5121889918917207,1.2616065229386955,2.6594435112831127,-0.16769835969309682,-0.962676741689922,-0.05673262720603969,-0.33497506090492846,0.7962129284780537,-0.17929179443055057,-0.8964285431901863,0.2827893901051045,-1.3502287029133744,-1.6201901117997959,1.0943298217268627,-1.290605324263612,1.0744553621769424,-0.5635313457290161,-1.0057380707147499,-0.8583358290528383,-0.9676453565774018,-0.9245840275525741,-0.773869375965676,-2.241266972734816,-1.8802142909112576,1.6872511982994955,-1.5191616090876996,0.13041853355571273,-0.9875198161273226,-1.0272687352271637,-1.3171046036635061,-0.546969296104082,-1.0272687352271637,-1.638408366387223,-2.100489550922878,1.8826833838737151,0.10888786904329888,-1.086892113876926,-0.3399436757924088,0.9933013190147668,-1.1812957967390485,-1.4264141311880696,-1.2823242994511455,1.0479560827770482,-0.015327503143705049,-0.8384613695029182,-1.6367521614247298,0.6140303826037816,-0.8119620901030239,1.206951759176414],\"type\":\"scatter3d\"}],                        {\"template\":{\"data\":{\"histogram2dcontour\":[{\"type\":\"histogram2dcontour\",\"colorbar\":{\"outlinewidth\":0,\"ticks\":\"\"},\"colorscale\":[[0.0,\"#0d0887\"],[0.1111111111111111,\"#46039f\"],[0.2222222222222222,\"#7201a8\"],[0.3333333333333333,\"#9c179e\"],[0.4444444444444444,\"#bd3786\"],[0.5555555555555556,\"#d8576b\"],[0.6666666666666666,\"#ed7953\"],[0.7777777777777778,\"#fb9f3a\"],[0.8888888888888888,\"#fdca26\"],[1.0,\"#f0f921\"]]}],\"choropleth\":[{\"type\":\"choropleth\",\"colorbar\":{\"outlinewidth\":0,\"ticks\":\"\"}}],\"histogram2d\":[{\"type\":\"histogram2d\",\"colorbar\":{\"outlinewidth\":0,\"ticks\":\"\"},\"colorscale\":[[0.0,\"#0d0887\"],[0.1111111111111111,\"#46039f\"],[0.2222222222222222,\"#7201a8\"],[0.3333333333333333,\"#9c179e\"],[0.4444444444444444,\"#bd3786\"],[0.5555555555555556,\"#d8576b\"],[0.6666666666666666,\"#ed7953\"],[0.7777777777777778,\"#fb9f3a\"],[0.8888888888888888,\"#fdca26\"],[1.0,\"#f0f921\"]]}],\"heatmap\":[{\"type\":\"heatmap\",\"colorbar\":{\"outlinewidth\":0,\"ticks\":\"\"},\"colorscale\":[[0.0,\"#0d0887\"],[0.1111111111111111,\"#46039f\"],[0.2222222222222222,\"#7201a8\"],[0.3333333333333333,\"#9c179e\"],[0.4444444444444444,\"#bd3786\"],[0.5555555555555556,\"#d8576b\"],[0.6666666666666666,\"#ed7953\"],[0.7777777777777778,\"#fb9f3a\"],[0.8888888888888888,\"#fdca26\"],[1.0,\"#f0f921\"]]}],\"heatmapgl\":[{\"type\":\"heatmapgl\",\"colorbar\":{\"outlinewidth\":0,\"ticks\":\"\"},\"colorscale\":[[0.0,\"#0d0887\"],[0.1111111111111111,\"#46039f\"],[0.2222222222222222,\"#7201a8\"],[0.3333333333333333,\"#9c179e\"],[0.4444444444444444,\"#bd3786\"],[0.5555555555555556,\"#d8576b\"],[0.6666666666666666,\"#ed7953\"],[0.7777777777777778,\"#fb9f3a\"],[0.8888888888888888,\"#fdca26\"],[1.0,\"#f0f921\"]]}],\"contourcarpet\":[{\"type\":\"contourcarpet\",\"colorbar\":{\"outlinewidth\":0,\"ticks\":\"\"}}],\"contour\":[{\"type\":\"contour\",\"colorbar\":{\"outlinewidth\":0,\"ticks\":\"\"},\"colorscale\":[[0.0,\"#0d0887\"],[0.1111111111111111,\"#46039f\"],[0.2222222222222222,\"#7201a8\"],[0.3333333333333333,\"#9c179e\"],[0.4444444444444444,\"#bd3786\"],[0.5555555555555556,\"#d8576b\"],[0.6666666666666666,\"#ed7953\"],[0.7777777777777778,\"#fb9f3a\"],[0.8888888888888888,\"#fdca26\"],[1.0,\"#f0f921\"]]}],\"surface\":[{\"type\":\"surface\",\"colorbar\":{\"outlinewidth\":0,\"ticks\":\"\"},\"colorscale\":[[0.0,\"#0d0887\"],[0.1111111111111111,\"#46039f\"],[0.2222222222222222,\"#7201a8\"],[0.3333333333333333,\"#9c179e\"],[0.4444444444444444,\"#bd3786\"],[0.5555555555555556,\"#d8576b\"],[0.6666666666666666,\"#ed7953\"],[0.7777777777777778,\"#fb9f3a\"],[0.8888888888888888,\"#fdca26\"],[1.0,\"#f0f921\"]]}],\"mesh3d\":[{\"type\":\"mesh3d\",\"colorbar\":{\"outlinewidth\":0,\"ticks\":\"\"}}],\"scatter\":[{\"fillpattern\":{\"fillmode\":\"overlay\",\"size\":10,\"solidity\":0.2},\"type\":\"scatter\"}],\"parcoords\":[{\"type\":\"parcoords\",\"line\":{\"colorbar\":{\"outlinewidth\":0,\"ticks\":\"\"}}}],\"scatterpolargl\":[{\"type\":\"scatterpolargl\",\"marker\":{\"colorbar\":{\"outlinewidth\":0,\"ticks\":\"\"}}}],\"bar\":[{\"error_x\":{\"color\":\"#2a3f5f\"},\"error_y\":{\"color\":\"#2a3f5f\"},\"marker\":{\"line\":{\"color\":\"#E5ECF6\",\"width\":0.5},\"pattern\":{\"fillmode\":\"overlay\",\"size\":10,\"solidity\":0.2}},\"type\":\"bar\"}],\"scattergeo\":[{\"type\":\"scattergeo\",\"marker\":{\"colorbar\":{\"outlinewidth\":0,\"ticks\":\"\"}}}],\"scatterpolar\":[{\"type\":\"scatterpolar\",\"marker\":{\"colorbar\":{\"outlinewidth\":0,\"ticks\":\"\"}}}],\"histogram\":[{\"marker\":{\"pattern\":{\"fillmode\":\"overlay\",\"size\":10,\"solidity\":0.2}},\"type\":\"histogram\"}],\"scattergl\":[{\"type\":\"scattergl\",\"marker\":{\"colorbar\":{\"outlinewidth\":0,\"ticks\":\"\"}}}],\"scatter3d\":[{\"type\":\"scatter3d\",\"line\":{\"colorbar\":{\"outlinewidth\":0,\"ticks\":\"\"}},\"marker\":{\"colorbar\":{\"outlinewidth\":0,\"ticks\":\"\"}}}],\"scattermapbox\":[{\"type\":\"scattermapbox\",\"marker\":{\"colorbar\":{\"outlinewidth\":0,\"ticks\":\"\"}}}],\"scatterternary\":[{\"type\":\"scatterternary\",\"marker\":{\"colorbar\":{\"outlinewidth\":0,\"ticks\":\"\"}}}],\"scattercarpet\":[{\"type\":\"scattercarpet\",\"marker\":{\"colorbar\":{\"outlinewidth\":0,\"ticks\":\"\"}}}],\"carpet\":[{\"aaxis\":{\"endlinecolor\":\"#2a3f5f\",\"gridcolor\":\"white\",\"linecolor\":\"white\",\"minorgridcolor\":\"white\",\"startlinecolor\":\"#2a3f5f\"},\"baxis\":{\"endlinecolor\":\"#2a3f5f\",\"gridcolor\":\"white\",\"linecolor\":\"white\",\"minorgridcolor\":\"white\",\"startlinecolor\":\"#2a3f5f\"},\"type\":\"carpet\"}],\"table\":[{\"cells\":{\"fill\":{\"color\":\"#EBF0F8\"},\"line\":{\"color\":\"white\"}},\"header\":{\"fill\":{\"color\":\"#C8D4E3\"},\"line\":{\"color\":\"white\"}},\"type\":\"table\"}],\"barpolar\":[{\"marker\":{\"line\":{\"color\":\"#E5ECF6\",\"width\":0.5},\"pattern\":{\"fillmode\":\"overlay\",\"size\":10,\"solidity\":0.2}},\"type\":\"barpolar\"}],\"pie\":[{\"automargin\":true,\"type\":\"pie\"}]},\"layout\":{\"autotypenumbers\":\"strict\",\"colorway\":[\"#636efa\",\"#EF553B\",\"#00cc96\",\"#ab63fa\",\"#FFA15A\",\"#19d3f3\",\"#FF6692\",\"#B6E880\",\"#FF97FF\",\"#FECB52\"],\"font\":{\"color\":\"#2a3f5f\"},\"hovermode\":\"closest\",\"hoverlabel\":{\"align\":\"left\"},\"paper_bgcolor\":\"white\",\"plot_bgcolor\":\"#E5ECF6\",\"polar\":{\"bgcolor\":\"#E5ECF6\",\"angularaxis\":{\"gridcolor\":\"white\",\"linecolor\":\"white\",\"ticks\":\"\"},\"radialaxis\":{\"gridcolor\":\"white\",\"linecolor\":\"white\",\"ticks\":\"\"}},\"ternary\":{\"bgcolor\":\"#E5ECF6\",\"aaxis\":{\"gridcolor\":\"white\",\"linecolor\":\"white\",\"ticks\":\"\"},\"baxis\":{\"gridcolor\":\"white\",\"linecolor\":\"white\",\"ticks\":\"\"},\"caxis\":{\"gridcolor\":\"white\",\"linecolor\":\"white\",\"ticks\":\"\"}},\"coloraxis\":{\"colorbar\":{\"outlinewidth\":0,\"ticks\":\"\"}},\"colorscale\":{\"sequential\":[[0.0,\"#0d0887\"],[0.1111111111111111,\"#46039f\"],[0.2222222222222222,\"#7201a8\"],[0.3333333333333333,\"#9c179e\"],[0.4444444444444444,\"#bd3786\"],[0.5555555555555556,\"#d8576b\"],[0.6666666666666666,\"#ed7953\"],[0.7777777777777778,\"#fb9f3a\"],[0.8888888888888888,\"#fdca26\"],[1.0,\"#f0f921\"]],\"sequentialminus\":[[0.0,\"#0d0887\"],[0.1111111111111111,\"#46039f\"],[0.2222222222222222,\"#7201a8\"],[0.3333333333333333,\"#9c179e\"],[0.4444444444444444,\"#bd3786\"],[0.5555555555555556,\"#d8576b\"],[0.6666666666666666,\"#ed7953\"],[0.7777777777777778,\"#fb9f3a\"],[0.8888888888888888,\"#fdca26\"],[1.0,\"#f0f921\"]],\"diverging\":[[0,\"#8e0152\"],[0.1,\"#c51b7d\"],[0.2,\"#de77ae\"],[0.3,\"#f1b6da\"],[0.4,\"#fde0ef\"],[0.5,\"#f7f7f7\"],[0.6,\"#e6f5d0\"],[0.7,\"#b8e186\"],[0.8,\"#7fbc41\"],[0.9,\"#4d9221\"],[1,\"#276419\"]]},\"xaxis\":{\"gridcolor\":\"white\",\"linecolor\":\"white\",\"ticks\":\"\",\"title\":{\"standoff\":15},\"zerolinecolor\":\"white\",\"automargin\":true,\"zerolinewidth\":2},\"yaxis\":{\"gridcolor\":\"white\",\"linecolor\":\"white\",\"ticks\":\"\",\"title\":{\"standoff\":15},\"zerolinecolor\":\"white\",\"automargin\":true,\"zerolinewidth\":2},\"scene\":{\"xaxis\":{\"backgroundcolor\":\"#E5ECF6\",\"gridcolor\":\"white\",\"linecolor\":\"white\",\"showbackground\":true,\"ticks\":\"\",\"zerolinecolor\":\"white\",\"gridwidth\":2},\"yaxis\":{\"backgroundcolor\":\"#E5ECF6\",\"gridcolor\":\"white\",\"linecolor\":\"white\",\"showbackground\":true,\"ticks\":\"\",\"zerolinecolor\":\"white\",\"gridwidth\":2},\"zaxis\":{\"backgroundcolor\":\"#E5ECF6\",\"gridcolor\":\"white\",\"linecolor\":\"white\",\"showbackground\":true,\"ticks\":\"\",\"zerolinecolor\":\"white\",\"gridwidth\":2}},\"shapedefaults\":{\"line\":{\"color\":\"#2a3f5f\"}},\"annotationdefaults\":{\"arrowcolor\":\"#2a3f5f\",\"arrowhead\":0,\"arrowwidth\":1},\"geo\":{\"bgcolor\":\"white\",\"landcolor\":\"#E5ECF6\",\"subunitcolor\":\"white\",\"showland\":true,\"showlakes\":true,\"lakecolor\":\"white\"},\"title\":{\"x\":0.05},\"mapbox\":{\"style\":\"light\"}}},\"scene\":{\"domain\":{\"x\":[0.0,1.0],\"y\":[0.0,1.0]},\"xaxis\":{\"title\":{\"text\":\"perimeter_worst\"}},\"yaxis\":{\"title\":{\"text\":\"symmetry_worst\"}},\"zaxis\":{\"title\":{\"text\":\"texture_worst\"}}},\"legend\":{\"title\":{\"text\":\"diagnosis\"},\"tracegroupgap\":0},\"title\":{\"text\":\"Labeled data for selected features\"},\"width\":800,\"height\":800},                        {\"responsive\": true}                    ).then(function(){\n",
       "                            \n",
       "var gd = document.getElementById('b48a5a42-b1f4-419e-96ea-e0c7c50503af');\n",
       "var x = new MutationObserver(function (mutations, observer) {{\n",
       "        var display = window.getComputedStyle(gd).display;\n",
       "        if (!display || display === 'none') {{\n",
       "            console.log([gd, 'removed!']);\n",
       "            Plotly.purge(gd);\n",
       "            observer.disconnect();\n",
       "        }}\n",
       "}});\n",
       "\n",
       "// Listen for the removal of the full notebook cells\n",
       "var notebookContainer = gd.closest('#notebook-container');\n",
       "if (notebookContainer) {{\n",
       "    x.observe(notebookContainer, {childList: true});\n",
       "}}\n",
       "\n",
       "// Listen for the clearing of the current output cell\n",
       "var outputEl = gd.closest('.output');\n",
       "if (outputEl) {{\n",
       "    x.observe(outputEl, {childList: true});\n",
       "}}\n",
       "\n",
       "                        })                };                });            </script>        </div>"
      ]
     },
     "metadata": {},
     "output_type": "display_data"
    }
   ],
   "source": [
    "# Eyeball that it makes sense\n",
    "fig = px.scatter_3d(pd.concat([X_train, y_train], axis=1).astype({'diagnosis': str}), x=best.features[0], y=best.features[1], z=best.features[2], color=yname, title='Labeled data for selected features')\n",
    "fig.update_traces(marker=dict(size=4))\n",
    "\n",
    "fig.update_layout(\n",
    "    width=800,\n",
    "    height=800,\n",
    ")"
   ]
  },
  {
   "cell_type": "markdown",
   "metadata": {},
   "source": [
    "# Threshold tuning\n",
    "We now have a model for predicting probabilities of malignant/benign. We still have the freedom to choose the probabilty threshold that should separate malignant benign. In this case we can assume that the most important metric is recall, i.e. finding all malignant, and sacrificing some precision as long as the precision is above some minimum tolerance level. This could be replaced by any business metric defining the tradeoff between the error types.\n",
    "\n",
    "Below I do this tuning again using cross-validation. There is scikitlearn functionality for this, see https://scikit-learn.org/stable/modules/classification_threshold.htmll which we could consider using instead in a next iteration."
   ]
  },
  {
   "cell_type": "code",
   "execution_count": 54,
   "metadata": {},
   "outputs": [],
   "source": [
    "def threshold_scores(ytrue, yhat, precision_min=0.8):\n",
    "    # Calcualte precision, recall and a scoring for all thresholds\n",
    "    precision, recall, thresholds = precision_recall_curve(ytrue, yhat)\n",
    "    thresholds = [*thresholds, 1.0]\n",
    "    scores = np.where(precision > precision_min, recall, precision)\n",
    "    return scores, thresholds"
   ]
  },
  {
   "cell_type": "code",
   "execution_count": 49,
   "metadata": {},
   "outputs": [
    {
     "data": {
      "text/plain": [
       "model_rank                                                          0\n",
       "mean_fit_time                                                0.006429\n",
       "std_fit_time                                                 0.000086\n",
       "mean_score_time                                              0.006228\n",
       "std_score_time                                                0.00008\n",
       "param_C                                                      0.725701\n",
       "params                                      {'C': 0.7257005721594281}\n",
       "split0_test_score                                             0.95082\n",
       "split1_test_score                                            0.962963\n",
       "split2_test_score                                            0.953846\n",
       "split3_test_score                                            0.977778\n",
       "split4_test_score                                            0.931034\n",
       "mean_test_score                                              0.955288\n",
       "std_test_score                                                0.01533\n",
       "rank_test_score                                                     1\n",
       "features             [perimeter_worst, symmetry_worst, texture_worst]\n",
       "se_test_score                                                0.006856\n",
       "num_features                                                        3\n",
       "Name: 0, dtype: object"
      ]
     },
     "execution_count": 49,
     "metadata": {},
     "output_type": "execute_result"
    }
   ],
   "source": [
    "best"
   ]
  },
  {
   "cell_type": "code",
   "execution_count": 50,
   "metadata": {},
   "outputs": [],
   "source": [
    "clf = LogisticRegression(**model_params_fixed, **best.params)\n",
    "\n",
    "# The selected features\n",
    "X_train_best = X_train[best.features]"
   ]
  },
  {
   "cell_type": "code",
   "execution_count": 51,
   "metadata": {},
   "outputs": [],
   "source": [
    "cv_splitter = KFold(n_splits=5, shuffle=True, random_state=0)"
   ]
  },
  {
   "cell_type": "code",
   "execution_count": 55,
   "metadata": {},
   "outputs": [
    {
     "name": "stdout",
     "output_type": "stream",
     "text": [
      "0.2118894484377702\n"
     ]
    }
   ],
   "source": [
    "topts = []\n",
    "for i, (train_index, test_index) in enumerate(cv_splitter.split(X_train_best)):\n",
    "    # Fit on the train set\n",
    "    clf_ = clf.fit(X_train_best.iloc[train_index, :], y_train.iloc[train_index])\n",
    "    probs = clf_.predict_proba(X_train_best.iloc[test_index, :])[:, 1]    \n",
    "    # Score on the test set\n",
    "    scores, thresholds = threshold_scores(y_train.iloc[test_index], probs)\n",
    "    # Maximize score to get optimal threshold\n",
    "    topt = thresholds[ np.argmax(scores)]          \n",
    "    topts.append(topt)\n",
    "\n",
    "# Optimal threshold \n",
    "topt = np.mean(topts)\n",
    "print(topt)"
   ]
  },
  {
   "cell_type": "code",
   "execution_count": 56,
   "metadata": {},
   "outputs": [],
   "source": [
    "# Tuned classifier, fit on entire train dataset\n",
    "clf_opt = FixedThresholdClassifier(clf, threshold=topt).fit(X_train_best, y_train)"
   ]
  },
  {
   "cell_type": "code",
   "execution_count": 57,
   "metadata": {},
   "outputs": [
    {
     "data": {
      "text/html": [
       "<style>#sk-container-id-1 {\n",
       "  /* Definition of color scheme common for light and dark mode */\n",
       "  --sklearn-color-text: #000;\n",
       "  --sklearn-color-text-muted: #666;\n",
       "  --sklearn-color-line: gray;\n",
       "  /* Definition of color scheme for unfitted estimators */\n",
       "  --sklearn-color-unfitted-level-0: #fff5e6;\n",
       "  --sklearn-color-unfitted-level-1: #f6e4d2;\n",
       "  --sklearn-color-unfitted-level-2: #ffe0b3;\n",
       "  --sklearn-color-unfitted-level-3: chocolate;\n",
       "  /* Definition of color scheme for fitted estimators */\n",
       "  --sklearn-color-fitted-level-0: #f0f8ff;\n",
       "  --sklearn-color-fitted-level-1: #d4ebff;\n",
       "  --sklearn-color-fitted-level-2: #b3dbfd;\n",
       "  --sklearn-color-fitted-level-3: cornflowerblue;\n",
       "\n",
       "  /* Specific color for light theme */\n",
       "  --sklearn-color-text-on-default-background: var(--sg-text-color, var(--theme-code-foreground, var(--jp-content-font-color1, black)));\n",
       "  --sklearn-color-background: var(--sg-background-color, var(--theme-background, var(--jp-layout-color0, white)));\n",
       "  --sklearn-color-border-box: var(--sg-text-color, var(--theme-code-foreground, var(--jp-content-font-color1, black)));\n",
       "  --sklearn-color-icon: #696969;\n",
       "\n",
       "  @media (prefers-color-scheme: dark) {\n",
       "    /* Redefinition of color scheme for dark theme */\n",
       "    --sklearn-color-text-on-default-background: var(--sg-text-color, var(--theme-code-foreground, var(--jp-content-font-color1, white)));\n",
       "    --sklearn-color-background: var(--sg-background-color, var(--theme-background, var(--jp-layout-color0, #111)));\n",
       "    --sklearn-color-border-box: var(--sg-text-color, var(--theme-code-foreground, var(--jp-content-font-color1, white)));\n",
       "    --sklearn-color-icon: #878787;\n",
       "  }\n",
       "}\n",
       "\n",
       "#sk-container-id-1 {\n",
       "  color: var(--sklearn-color-text);\n",
       "}\n",
       "\n",
       "#sk-container-id-1 pre {\n",
       "  padding: 0;\n",
       "}\n",
       "\n",
       "#sk-container-id-1 input.sk-hidden--visually {\n",
       "  border: 0;\n",
       "  clip: rect(1px 1px 1px 1px);\n",
       "  clip: rect(1px, 1px, 1px, 1px);\n",
       "  height: 1px;\n",
       "  margin: -1px;\n",
       "  overflow: hidden;\n",
       "  padding: 0;\n",
       "  position: absolute;\n",
       "  width: 1px;\n",
       "}\n",
       "\n",
       "#sk-container-id-1 div.sk-dashed-wrapped {\n",
       "  border: 1px dashed var(--sklearn-color-line);\n",
       "  margin: 0 0.4em 0.5em 0.4em;\n",
       "  box-sizing: border-box;\n",
       "  padding-bottom: 0.4em;\n",
       "  background-color: var(--sklearn-color-background);\n",
       "}\n",
       "\n",
       "#sk-container-id-1 div.sk-container {\n",
       "  /* jupyter's `normalize.less` sets `[hidden] { display: none; }`\n",
       "     but bootstrap.min.css set `[hidden] { display: none !important; }`\n",
       "     so we also need the `!important` here to be able to override the\n",
       "     default hidden behavior on the sphinx rendered scikit-learn.org.\n",
       "     See: https://github.com/scikit-learn/scikit-learn/issues/21755 */\n",
       "  display: inline-block !important;\n",
       "  position: relative;\n",
       "}\n",
       "\n",
       "#sk-container-id-1 div.sk-text-repr-fallback {\n",
       "  display: none;\n",
       "}\n",
       "\n",
       "div.sk-parallel-item,\n",
       "div.sk-serial,\n",
       "div.sk-item {\n",
       "  /* draw centered vertical line to link estimators */\n",
       "  background-image: linear-gradient(var(--sklearn-color-text-on-default-background), var(--sklearn-color-text-on-default-background));\n",
       "  background-size: 2px 100%;\n",
       "  background-repeat: no-repeat;\n",
       "  background-position: center center;\n",
       "}\n",
       "\n",
       "/* Parallel-specific style estimator block */\n",
       "\n",
       "#sk-container-id-1 div.sk-parallel-item::after {\n",
       "  content: \"\";\n",
       "  width: 100%;\n",
       "  border-bottom: 2px solid var(--sklearn-color-text-on-default-background);\n",
       "  flex-grow: 1;\n",
       "}\n",
       "\n",
       "#sk-container-id-1 div.sk-parallel {\n",
       "  display: flex;\n",
       "  align-items: stretch;\n",
       "  justify-content: center;\n",
       "  background-color: var(--sklearn-color-background);\n",
       "  position: relative;\n",
       "}\n",
       "\n",
       "#sk-container-id-1 div.sk-parallel-item {\n",
       "  display: flex;\n",
       "  flex-direction: column;\n",
       "}\n",
       "\n",
       "#sk-container-id-1 div.sk-parallel-item:first-child::after {\n",
       "  align-self: flex-end;\n",
       "  width: 50%;\n",
       "}\n",
       "\n",
       "#sk-container-id-1 div.sk-parallel-item:last-child::after {\n",
       "  align-self: flex-start;\n",
       "  width: 50%;\n",
       "}\n",
       "\n",
       "#sk-container-id-1 div.sk-parallel-item:only-child::after {\n",
       "  width: 0;\n",
       "}\n",
       "\n",
       "/* Serial-specific style estimator block */\n",
       "\n",
       "#sk-container-id-1 div.sk-serial {\n",
       "  display: flex;\n",
       "  flex-direction: column;\n",
       "  align-items: center;\n",
       "  background-color: var(--sklearn-color-background);\n",
       "  padding-right: 1em;\n",
       "  padding-left: 1em;\n",
       "}\n",
       "\n",
       "\n",
       "/* Toggleable style: style used for estimator/Pipeline/ColumnTransformer box that is\n",
       "clickable and can be expanded/collapsed.\n",
       "- Pipeline and ColumnTransformer use this feature and define the default style\n",
       "- Estimators will overwrite some part of the style using the `sk-estimator` class\n",
       "*/\n",
       "\n",
       "/* Pipeline and ColumnTransformer style (default) */\n",
       "\n",
       "#sk-container-id-1 div.sk-toggleable {\n",
       "  /* Default theme specific background. It is overwritten whether we have a\n",
       "  specific estimator or a Pipeline/ColumnTransformer */\n",
       "  background-color: var(--sklearn-color-background);\n",
       "}\n",
       "\n",
       "/* Toggleable label */\n",
       "#sk-container-id-1 label.sk-toggleable__label {\n",
       "  cursor: pointer;\n",
       "  display: flex;\n",
       "  width: 100%;\n",
       "  margin-bottom: 0;\n",
       "  padding: 0.5em;\n",
       "  box-sizing: border-box;\n",
       "  text-align: center;\n",
       "  align-items: start;\n",
       "  justify-content: space-between;\n",
       "  gap: 0.5em;\n",
       "}\n",
       "\n",
       "#sk-container-id-1 label.sk-toggleable__label .caption {\n",
       "  font-size: 0.6rem;\n",
       "  font-weight: lighter;\n",
       "  color: var(--sklearn-color-text-muted);\n",
       "}\n",
       "\n",
       "#sk-container-id-1 label.sk-toggleable__label-arrow:before {\n",
       "  /* Arrow on the left of the label */\n",
       "  content: \"▸\";\n",
       "  float: left;\n",
       "  margin-right: 0.25em;\n",
       "  color: var(--sklearn-color-icon);\n",
       "}\n",
       "\n",
       "#sk-container-id-1 label.sk-toggleable__label-arrow:hover:before {\n",
       "  color: var(--sklearn-color-text);\n",
       "}\n",
       "\n",
       "/* Toggleable content - dropdown */\n",
       "\n",
       "#sk-container-id-1 div.sk-toggleable__content {\n",
       "  max-height: 0;\n",
       "  max-width: 0;\n",
       "  overflow: hidden;\n",
       "  text-align: left;\n",
       "  /* unfitted */\n",
       "  background-color: var(--sklearn-color-unfitted-level-0);\n",
       "}\n",
       "\n",
       "#sk-container-id-1 div.sk-toggleable__content.fitted {\n",
       "  /* fitted */\n",
       "  background-color: var(--sklearn-color-fitted-level-0);\n",
       "}\n",
       "\n",
       "#sk-container-id-1 div.sk-toggleable__content pre {\n",
       "  margin: 0.2em;\n",
       "  border-radius: 0.25em;\n",
       "  color: var(--sklearn-color-text);\n",
       "  /* unfitted */\n",
       "  background-color: var(--sklearn-color-unfitted-level-0);\n",
       "}\n",
       "\n",
       "#sk-container-id-1 div.sk-toggleable__content.fitted pre {\n",
       "  /* unfitted */\n",
       "  background-color: var(--sklearn-color-fitted-level-0);\n",
       "}\n",
       "\n",
       "#sk-container-id-1 input.sk-toggleable__control:checked~div.sk-toggleable__content {\n",
       "  /* Expand drop-down */\n",
       "  max-height: 200px;\n",
       "  max-width: 100%;\n",
       "  overflow: auto;\n",
       "}\n",
       "\n",
       "#sk-container-id-1 input.sk-toggleable__control:checked~label.sk-toggleable__label-arrow:before {\n",
       "  content: \"▾\";\n",
       "}\n",
       "\n",
       "/* Pipeline/ColumnTransformer-specific style */\n",
       "\n",
       "#sk-container-id-1 div.sk-label input.sk-toggleable__control:checked~label.sk-toggleable__label {\n",
       "  color: var(--sklearn-color-text);\n",
       "  background-color: var(--sklearn-color-unfitted-level-2);\n",
       "}\n",
       "\n",
       "#sk-container-id-1 div.sk-label.fitted input.sk-toggleable__control:checked~label.sk-toggleable__label {\n",
       "  background-color: var(--sklearn-color-fitted-level-2);\n",
       "}\n",
       "\n",
       "/* Estimator-specific style */\n",
       "\n",
       "/* Colorize estimator box */\n",
       "#sk-container-id-1 div.sk-estimator input.sk-toggleable__control:checked~label.sk-toggleable__label {\n",
       "  /* unfitted */\n",
       "  background-color: var(--sklearn-color-unfitted-level-2);\n",
       "}\n",
       "\n",
       "#sk-container-id-1 div.sk-estimator.fitted input.sk-toggleable__control:checked~label.sk-toggleable__label {\n",
       "  /* fitted */\n",
       "  background-color: var(--sklearn-color-fitted-level-2);\n",
       "}\n",
       "\n",
       "#sk-container-id-1 div.sk-label label.sk-toggleable__label,\n",
       "#sk-container-id-1 div.sk-label label {\n",
       "  /* The background is the default theme color */\n",
       "  color: var(--sklearn-color-text-on-default-background);\n",
       "}\n",
       "\n",
       "/* On hover, darken the color of the background */\n",
       "#sk-container-id-1 div.sk-label:hover label.sk-toggleable__label {\n",
       "  color: var(--sklearn-color-text);\n",
       "  background-color: var(--sklearn-color-unfitted-level-2);\n",
       "}\n",
       "\n",
       "/* Label box, darken color on hover, fitted */\n",
       "#sk-container-id-1 div.sk-label.fitted:hover label.sk-toggleable__label.fitted {\n",
       "  color: var(--sklearn-color-text);\n",
       "  background-color: var(--sklearn-color-fitted-level-2);\n",
       "}\n",
       "\n",
       "/* Estimator label */\n",
       "\n",
       "#sk-container-id-1 div.sk-label label {\n",
       "  font-family: monospace;\n",
       "  font-weight: bold;\n",
       "  display: inline-block;\n",
       "  line-height: 1.2em;\n",
       "}\n",
       "\n",
       "#sk-container-id-1 div.sk-label-container {\n",
       "  text-align: center;\n",
       "}\n",
       "\n",
       "/* Estimator-specific */\n",
       "#sk-container-id-1 div.sk-estimator {\n",
       "  font-family: monospace;\n",
       "  border: 1px dotted var(--sklearn-color-border-box);\n",
       "  border-radius: 0.25em;\n",
       "  box-sizing: border-box;\n",
       "  margin-bottom: 0.5em;\n",
       "  /* unfitted */\n",
       "  background-color: var(--sklearn-color-unfitted-level-0);\n",
       "}\n",
       "\n",
       "#sk-container-id-1 div.sk-estimator.fitted {\n",
       "  /* fitted */\n",
       "  background-color: var(--sklearn-color-fitted-level-0);\n",
       "}\n",
       "\n",
       "/* on hover */\n",
       "#sk-container-id-1 div.sk-estimator:hover {\n",
       "  /* unfitted */\n",
       "  background-color: var(--sklearn-color-unfitted-level-2);\n",
       "}\n",
       "\n",
       "#sk-container-id-1 div.sk-estimator.fitted:hover {\n",
       "  /* fitted */\n",
       "  background-color: var(--sklearn-color-fitted-level-2);\n",
       "}\n",
       "\n",
       "/* Specification for estimator info (e.g. \"i\" and \"?\") */\n",
       "\n",
       "/* Common style for \"i\" and \"?\" */\n",
       "\n",
       ".sk-estimator-doc-link,\n",
       "a:link.sk-estimator-doc-link,\n",
       "a:visited.sk-estimator-doc-link {\n",
       "  float: right;\n",
       "  font-size: smaller;\n",
       "  line-height: 1em;\n",
       "  font-family: monospace;\n",
       "  background-color: var(--sklearn-color-background);\n",
       "  border-radius: 1em;\n",
       "  height: 1em;\n",
       "  width: 1em;\n",
       "  text-decoration: none !important;\n",
       "  margin-left: 0.5em;\n",
       "  text-align: center;\n",
       "  /* unfitted */\n",
       "  border: var(--sklearn-color-unfitted-level-1) 1pt solid;\n",
       "  color: var(--sklearn-color-unfitted-level-1);\n",
       "}\n",
       "\n",
       ".sk-estimator-doc-link.fitted,\n",
       "a:link.sk-estimator-doc-link.fitted,\n",
       "a:visited.sk-estimator-doc-link.fitted {\n",
       "  /* fitted */\n",
       "  border: var(--sklearn-color-fitted-level-1) 1pt solid;\n",
       "  color: var(--sklearn-color-fitted-level-1);\n",
       "}\n",
       "\n",
       "/* On hover */\n",
       "div.sk-estimator:hover .sk-estimator-doc-link:hover,\n",
       ".sk-estimator-doc-link:hover,\n",
       "div.sk-label-container:hover .sk-estimator-doc-link:hover,\n",
       ".sk-estimator-doc-link:hover {\n",
       "  /* unfitted */\n",
       "  background-color: var(--sklearn-color-unfitted-level-3);\n",
       "  color: var(--sklearn-color-background);\n",
       "  text-decoration: none;\n",
       "}\n",
       "\n",
       "div.sk-estimator.fitted:hover .sk-estimator-doc-link.fitted:hover,\n",
       ".sk-estimator-doc-link.fitted:hover,\n",
       "div.sk-label-container:hover .sk-estimator-doc-link.fitted:hover,\n",
       ".sk-estimator-doc-link.fitted:hover {\n",
       "  /* fitted */\n",
       "  background-color: var(--sklearn-color-fitted-level-3);\n",
       "  color: var(--sklearn-color-background);\n",
       "  text-decoration: none;\n",
       "}\n",
       "\n",
       "/* Span, style for the box shown on hovering the info icon */\n",
       ".sk-estimator-doc-link span {\n",
       "  display: none;\n",
       "  z-index: 9999;\n",
       "  position: relative;\n",
       "  font-weight: normal;\n",
       "  right: .2ex;\n",
       "  padding: .5ex;\n",
       "  margin: .5ex;\n",
       "  width: min-content;\n",
       "  min-width: 20ex;\n",
       "  max-width: 50ex;\n",
       "  color: var(--sklearn-color-text);\n",
       "  box-shadow: 2pt 2pt 4pt #999;\n",
       "  /* unfitted */\n",
       "  background: var(--sklearn-color-unfitted-level-0);\n",
       "  border: .5pt solid var(--sklearn-color-unfitted-level-3);\n",
       "}\n",
       "\n",
       ".sk-estimator-doc-link.fitted span {\n",
       "  /* fitted */\n",
       "  background: var(--sklearn-color-fitted-level-0);\n",
       "  border: var(--sklearn-color-fitted-level-3);\n",
       "}\n",
       "\n",
       ".sk-estimator-doc-link:hover span {\n",
       "  display: block;\n",
       "}\n",
       "\n",
       "/* \"?\"-specific style due to the `<a>` HTML tag */\n",
       "\n",
       "#sk-container-id-1 a.estimator_doc_link {\n",
       "  float: right;\n",
       "  font-size: 1rem;\n",
       "  line-height: 1em;\n",
       "  font-family: monospace;\n",
       "  background-color: var(--sklearn-color-background);\n",
       "  border-radius: 1rem;\n",
       "  height: 1rem;\n",
       "  width: 1rem;\n",
       "  text-decoration: none;\n",
       "  /* unfitted */\n",
       "  color: var(--sklearn-color-unfitted-level-1);\n",
       "  border: var(--sklearn-color-unfitted-level-1) 1pt solid;\n",
       "}\n",
       "\n",
       "#sk-container-id-1 a.estimator_doc_link.fitted {\n",
       "  /* fitted */\n",
       "  border: var(--sklearn-color-fitted-level-1) 1pt solid;\n",
       "  color: var(--sklearn-color-fitted-level-1);\n",
       "}\n",
       "\n",
       "/* On hover */\n",
       "#sk-container-id-1 a.estimator_doc_link:hover {\n",
       "  /* unfitted */\n",
       "  background-color: var(--sklearn-color-unfitted-level-3);\n",
       "  color: var(--sklearn-color-background);\n",
       "  text-decoration: none;\n",
       "}\n",
       "\n",
       "#sk-container-id-1 a.estimator_doc_link.fitted:hover {\n",
       "  /* fitted */\n",
       "  background-color: var(--sklearn-color-fitted-level-3);\n",
       "}\n",
       "</style><div id=\"sk-container-id-1\" class=\"sk-top-container\"><div class=\"sk-text-repr-fallback\"><pre>FixedThresholdClassifier(estimator=LogisticRegression(C=np.float64(0.7257005721594281),\n",
       "                                                      random_state=0),\n",
       "                         threshold=np.float64(0.2118894484377702))</pre><b>In a Jupyter environment, please rerun this cell to show the HTML representation or trust the notebook. <br />On GitHub, the HTML representation is unable to render, please try loading this page with nbviewer.org.</b></div><div class=\"sk-container\" hidden><div class=\"sk-item sk-dashed-wrapped\"><div class=\"sk-label-container\"><div class=\"sk-label fitted sk-toggleable\"><input class=\"sk-toggleable__control sk-hidden--visually\" id=\"sk-estimator-id-1\" type=\"checkbox\" ><label for=\"sk-estimator-id-1\" class=\"sk-toggleable__label fitted sk-toggleable__label-arrow\"><div><div>FixedThresholdClassifier</div></div><div><a class=\"sk-estimator-doc-link fitted\" rel=\"noreferrer\" target=\"_blank\" href=\"https://scikit-learn.org/1.6/modules/generated/sklearn.model_selection.FixedThresholdClassifier.html\">?<span>Documentation for FixedThresholdClassifier</span></a><span class=\"sk-estimator-doc-link fitted\">i<span>Fitted</span></span></div></label><div class=\"sk-toggleable__content fitted\"><pre>FixedThresholdClassifier(estimator=LogisticRegression(C=np.float64(0.7257005721594281),\n",
       "                                                      random_state=0),\n",
       "                         threshold=np.float64(0.2118894484377702))</pre></div> </div></div><div class=\"sk-parallel\"><div class=\"sk-parallel-item\"><div class=\"sk-item\"><div class=\"sk-label-container\"><div class=\"sk-label fitted sk-toggleable\"><input class=\"sk-toggleable__control sk-hidden--visually\" id=\"sk-estimator-id-2\" type=\"checkbox\" ><label for=\"sk-estimator-id-2\" class=\"sk-toggleable__label fitted sk-toggleable__label-arrow\"><div><div>estimator: LogisticRegression</div></div></label><div class=\"sk-toggleable__content fitted\"><pre>LogisticRegression(C=np.float64(0.7257005721594281), random_state=0)</pre></div> </div></div><div class=\"sk-serial\"><div class=\"sk-item\"><div class=\"sk-estimator fitted sk-toggleable\"><input class=\"sk-toggleable__control sk-hidden--visually\" id=\"sk-estimator-id-3\" type=\"checkbox\" ><label for=\"sk-estimator-id-3\" class=\"sk-toggleable__label fitted sk-toggleable__label-arrow\"><div><div>LogisticRegression</div></div><div><a class=\"sk-estimator-doc-link fitted\" rel=\"noreferrer\" target=\"_blank\" href=\"https://scikit-learn.org/1.6/modules/generated/sklearn.linear_model.LogisticRegression.html\">?<span>Documentation for LogisticRegression</span></a></div></label><div class=\"sk-toggleable__content fitted\"><pre>LogisticRegression(C=np.float64(0.7257005721594281), random_state=0)</pre></div> </div></div></div></div></div></div></div></div></div>"
      ],
      "text/plain": [
       "FixedThresholdClassifier(estimator=LogisticRegression(C=np.float64(0.7257005721594281),\n",
       "                                                      random_state=0),\n",
       "                         threshold=np.float64(0.2118894484377702))"
      ]
     },
     "execution_count": 57,
     "metadata": {},
     "output_type": "execute_result"
    }
   ],
   "source": [
    "clf_opt"
   ]
  },
  {
   "cell_type": "markdown",
   "metadata": {},
   "source": [
    "# Evaluate on test set\n",
    "Finally, estimate some model metrics on the test set."
   ]
  },
  {
   "cell_type": "code",
   "execution_count": 58,
   "metadata": {},
   "outputs": [],
   "source": [
    "def get_confusion_matrix(ytrue, ypred, **kwargs):\n",
    "    cm = confusion_matrix(ytrue, ypred, **kwargs)\n",
    "    cm = pd.DataFrame(cm)\n",
    "    cm.axes[0].name = \"True\"\n",
    "    cm.axes[1].name = \"Predicted\"    \n",
    "    return cm\n",
    "    "
   ]
  },
  {
   "cell_type": "code",
   "execution_count": 59,
   "metadata": {},
   "outputs": [],
   "source": [
    "# Make predictions on test set using final model\n",
    "X_test_best = X_test[best.features]\n",
    "ypred = clf_opt.predict(X_test_best)\n",
    "probs = clf_opt.predict_proba(X_test_best)[:,1]"
   ]
  },
  {
   "cell_type": "code",
   "execution_count": 60,
   "metadata": {},
   "outputs": [
    {
     "data": {
      "text/html": [
       "<div>\n",
       "<style scoped>\n",
       "    .dataframe tbody tr th:only-of-type {\n",
       "        vertical-align: middle;\n",
       "    }\n",
       "\n",
       "    .dataframe tbody tr th {\n",
       "        vertical-align: top;\n",
       "    }\n",
       "\n",
       "    .dataframe thead th {\n",
       "        text-align: right;\n",
       "    }\n",
       "</style>\n",
       "<table border=\"1\" class=\"dataframe\">\n",
       "  <thead>\n",
       "    <tr style=\"text-align: right;\">\n",
       "      <th>Predicted</th>\n",
       "      <th>0</th>\n",
       "      <th>1</th>\n",
       "    </tr>\n",
       "    <tr>\n",
       "      <th>True</th>\n",
       "      <th></th>\n",
       "      <th></th>\n",
       "    </tr>\n",
       "  </thead>\n",
       "  <tbody>\n",
       "    <tr>\n",
       "      <th>0</th>\n",
       "      <td>110</td>\n",
       "      <td>11</td>\n",
       "    </tr>\n",
       "    <tr>\n",
       "      <th>1</th>\n",
       "      <td>1</td>\n",
       "      <td>66</td>\n",
       "    </tr>\n",
       "  </tbody>\n",
       "</table>\n",
       "</div>"
      ],
      "text/plain": [
       "Predicted    0   1\n",
       "True              \n",
       "0          110  11\n",
       "1            1  66"
      ]
     },
     "metadata": {},
     "output_type": "display_data"
    },
    {
     "name": "stdout",
     "output_type": "stream",
     "text": [
      "Metrics on test set:\n",
      "recall=0.985\n",
      "precision=0.857\n",
      "accuracy=0.936\n"
     ]
    }
   ],
   "source": [
    "# Confusion matrics and other metrics\n",
    "cm = get_confusion_matrix(y_test, ypred)\n",
    "display(cm)\n",
    "\n",
    "print(\"Metrics on test set:\\n\"\n",
    "      f\"recall={recall_score(y_test, ypred):.3f}\\n\"\n",
    "      f\"precision={precision_score(y_test, ypred):.3f}\\n\"\n",
    "      f\"accuracy={accuracy_score(y_test, ypred):.3f}\"\n",
    "     )"
   ]
  },
  {
   "cell_type": "markdown",
   "metadata": {},
   "source": [
    "* Recall is very high, precision lower (but still above the minimum tolerance level = 0.8)"
   ]
  },
  {
   "cell_type": "code",
   "execution_count": 62,
   "metadata": {},
   "outputs": [
    {
     "data": {
      "application/vnd.plotly.v1+json": {
       "config": {
        "plotlyServerURL": "https://plot.ly"
       },
       "data": [
        {
         "customdata": [
          [
           0.0002401215604645839
          ],
          [
           0.00024025629048705476
          ],
          [
           0.0007492802618964563
          ],
          [
           0.0010944105735471435
          ],
          [
           0.0011787161488127041
          ],
          [
           0.0012374556904164702
          ],
          [
           0.0016673686256750443
          ],
          [
           0.0018714512529837614
          ],
          [
           0.002040534212105168
          ],
          [
           0.0020590812246714493
          ],
          [
           0.0021630617474003837
          ],
          [
           0.0022947379900539527
          ],
          [
           0.0023605771314994454
          ],
          [
           0.002392990779646962
          ],
          [
           0.002566713059679208
          ],
          [
           0.0026496860053510846
          ],
          [
           0.0026874857239407163
          ],
          [
           0.0031428372939635266
          ],
          [
           0.0041753067863664175
          ],
          [
           0.004315687483420493
          ],
          [
           0.004467761098688463
          ],
          [
           0.004949398313016689
          ],
          [
           0.005016841254515957
          ],
          [
           0.0052477914585191115
          ],
          [
           0.0052691267378125175
          ],
          [
           0.005316841313915367
          ],
          [
           0.005503954134508483
          ],
          [
           0.005602855662796426
          ],
          [
           0.005909442183449286
          ],
          [
           0.00629489276292668
          ],
          [
           0.006352853715046439
          ],
          [
           0.00646151678554141
          ],
          [
           0.006521746756168759
          ],
          [
           0.007166900470924247
          ],
          [
           0.0073191954802051965
          ],
          [
           0.0074940907220744524
          ],
          [
           0.007574046558841861
          ],
          [
           0.007786339912617581
          ],
          [
           0.0084945139368732
          ],
          [
           0.010040311775481271
          ],
          [
           0.011417668273293012
          ],
          [
           0.011586547804496248
          ],
          [
           0.012454606841805223
          ],
          [
           0.012482334495049296
          ],
          [
           0.013135871969463647
          ],
          [
           0.013363458207903639
          ],
          [
           0.014542903410713176
          ],
          [
           0.015775531097884356
          ],
          [
           0.01816440930084631
          ],
          [
           0.01873582028755882
          ],
          [
           0.019745857812409066
          ],
          [
           0.02046261589043825
          ],
          [
           0.02135433531631808
          ],
          [
           0.023045799057286584
          ],
          [
           0.02460420130076702
          ],
          [
           0.024643857945287305
          ],
          [
           0.02788672964704846
          ],
          [
           0.028483993796788808
          ],
          [
           0.028699383344508174
          ],
          [
           0.028742169133728426
          ],
          [
           0.029037717098169373
          ],
          [
           0.02960329579795728
          ],
          [
           0.03125265545717351
          ],
          [
           0.03249228938193002
          ],
          [
           0.03516141208482244
          ],
          [
           0.036456860937697316
          ],
          [
           0.03783928988078563
          ],
          [
           0.03885222294126511
          ],
          [
           0.039283911842781565
          ],
          [
           0.04067520339030388
          ],
          [
           0.04362635244880595
          ],
          [
           0.04490875897056452
          ],
          [
           0.045761522625121745
          ],
          [
           0.050470834872870886
          ],
          [
           0.051220539640240516
          ],
          [
           0.056633045735472294
          ],
          [
           0.057717211268712154
          ],
          [
           0.057889914842474945
          ],
          [
           0.058569229652388845
          ],
          [
           0.05951435171603994
          ],
          [
           0.0681833582897937
          ],
          [
           0.06830799925930355
          ],
          [
           0.07003341451766719
          ],
          [
           0.07030371717665548
          ],
          [
           0.07194383417164024
          ],
          [
           0.07800663855347861
          ],
          [
           0.07863515692438736
          ],
          [
           0.08215025763661181
          ],
          [
           0.08230288168853667
          ],
          [
           0.09179606549823478
          ],
          [
           0.11250672087904072
          ],
          [
           0.1156720241054625
          ],
          [
           0.11896130278776426
          ],
          [
           0.12401165819340261
          ],
          [
           0.12663986813539527
          ],
          [
           0.1306228439961082
          ],
          [
           0.13080950401698468
          ],
          [
           0.13226922678377612
          ],
          [
           0.15841756553946423
          ],
          [
           0.16234136414021652
          ],
          [
           0.162589374735441
          ],
          [
           0.16374390263765443
          ],
          [
           0.16442013596829383
          ],
          [
           0.16928470362296583
          ],
          [
           0.1765922639817969
          ],
          [
           0.17762107992701767
          ],
          [
           0.18593914788982213
          ],
          [
           0.1871304183771095
          ],
          [
           0.20210718270892652
          ],
          [
           0.20699851266016292
          ],
          [
           0.21085887316272756
          ],
          [
           0.2135807775477995
          ],
          [
           0.23728377364896558
          ],
          [
           0.2413974752349008
          ],
          [
           0.24392026365276379
          ],
          [
           0.24843533590451847
          ],
          [
           0.2797924292086316
          ],
          [
           0.28334599583849446
          ],
          [
           0.32774608566835256
          ],
          [
           0.40535349285835304
          ],
          [
           0.44109545263818484
          ],
          [
           0.49181438452074017
          ],
          [
           0.5795758157475126
          ],
          [
           0.5852161073019321
          ],
          [
           0.661951089366601
          ],
          [
           0.6949962673556604
          ],
          [
           0.7291662008006153
          ],
          [
           0.7387704406856134
          ],
          [
           0.7693025583665724
          ],
          [
           0.7793892838418305
          ],
          [
           0.7913023017282604
          ],
          [
           0.7975152527279288
          ],
          [
           0.8376786703698885
          ],
          [
           0.8402590649899309
          ],
          [
           0.8446153629206704
          ],
          [
           0.8513259353250618
          ],
          [
           0.8677799189884753
          ],
          [
           0.8797413844562204
          ],
          [
           0.8812847323348005
          ],
          [
           0.8867467386453611
          ],
          [
           0.8966399896001866
          ],
          [
           0.9086741965783638
          ],
          [
           0.9413316753312891
          ],
          [
           0.9467739659750593
          ],
          [
           0.9525739122692125
          ],
          [
           0.955255620927592
          ],
          [
           0.9588162640446319
          ],
          [
           0.9619537928676725
          ],
          [
           0.9656909709937092
          ],
          [
           0.9709785905334527
          ],
          [
           0.9713110504364729
          ],
          [
           0.9744493044479062
          ],
          [
           0.9756865981620974
          ],
          [
           0.9819467785558065
          ],
          [
           0.9835868081113488
          ],
          [
           0.9871926468552885
          ],
          [
           0.9878629154363734
          ],
          [
           0.9882072974913034
          ],
          [
           0.9886101642794912
          ],
          [
           0.9906767483471747
          ],
          [
           0.9926905559775651
          ],
          [
           0.9933544874378522
          ],
          [
           0.9951522790424405
          ],
          [
           0.9960107265415217
          ],
          [
           0.9966898260953463
          ],
          [
           0.9967191726284301
          ],
          [
           0.9968464571649011
          ],
          [
           0.9969580693862897
          ],
          [
           0.9981495724812609
          ],
          [
           0.9986819529085522
          ],
          [
           0.9987389954627968
          ],
          [
           0.9987802059424193
          ],
          [
           0.998796346289535
          ],
          [
           0.9989933357979442
          ],
          [
           0.999286079317962
          ],
          [
           0.9996061267627765
          ],
          [
           0.9996478053281934
          ],
          [
           0.9998659301408677
          ],
          [
           0.9999112629896749
          ],
          [
           0.9999139703565754
          ],
          [
           0.9999241746746298
          ],
          [
           0.9999784390770579
          ],
          [
           0.9999856736507405
          ],
          [
           0.9999926142373661
          ],
          [
           0.9999944997368236
          ],
          [
           0.9999971537046487
          ],
          [
           0.9999981208708884
          ],
          [
           0.9999998476311786
          ],
          [
           1
          ]
         ],
         "hovertemplate": "recall=%{x}<br>precision=%{y}<br>threshold=%{customdata[0]}<extra></extra>",
         "legendgroup": "",
         "line": {
          "color": "#636efa",
          "dash": "solid"
         },
         "marker": {
          "symbol": "circle"
         },
         "mode": "lines",
         "name": "",
         "orientation": "v",
         "showlegend": false,
         "type": "scatter",
         "x": [
          1,
          1,
          1,
          1,
          1,
          1,
          1,
          1,
          1,
          1,
          1,
          1,
          1,
          1,
          1,
          1,
          1,
          1,
          1,
          1,
          1,
          1,
          1,
          1,
          1,
          1,
          1,
          1,
          1,
          1,
          1,
          1,
          1,
          1,
          1,
          1,
          1,
          1,
          1,
          1,
          1,
          1,
          1,
          1,
          1,
          1,
          1,
          1,
          1,
          1,
          1,
          1,
          1,
          1,
          1,
          1,
          1,
          1,
          1,
          1,
          1,
          1,
          1,
          1,
          1,
          1,
          1,
          1,
          1,
          1,
          1,
          1,
          1,
          1,
          1,
          1,
          1,
          1,
          1,
          1,
          1,
          1,
          1,
          1,
          1,
          1,
          1,
          1,
          1,
          1,
          1,
          1,
          1,
          1,
          1,
          1,
          1,
          1,
          1,
          0.9850746268656716,
          0.9850746268656716,
          0.9850746268656716,
          0.9850746268656716,
          0.9850746268656716,
          0.9850746268656716,
          0.9850746268656716,
          0.9850746268656716,
          0.9850746268656716,
          0.9850746268656716,
          0.9850746268656716,
          0.9850746268656716,
          0.9850746268656716,
          0.9850746268656716,
          0.9850746268656716,
          0.9850746268656716,
          0.9850746268656716,
          0.9850746268656716,
          0.9701492537313433,
          0.9701492537313433,
          0.9552238805970149,
          0.9552238805970149,
          0.9402985074626866,
          0.9402985074626866,
          0.9402985074626866,
          0.9253731343283582,
          0.9104477611940298,
          0.8955223880597015,
          0.8805970149253731,
          0.8805970149253731,
          0.8656716417910447,
          0.8507462686567164,
          0.835820895522388,
          0.8208955223880597,
          0.8059701492537313,
          0.8059701492537313,
          0.7910447761194029,
          0.7761194029850746,
          0.7611940298507462,
          0.746268656716418,
          0.7313432835820896,
          0.7164179104477612,
          0.7014925373134329,
          0.6865671641791045,
          0.6716417910447762,
          0.6567164179104478,
          0.6417910447761194,
          0.6268656716417911,
          0.6119402985074627,
          0.5970149253731343,
          0.582089552238806,
          0.5671641791044776,
          0.5522388059701493,
          0.5373134328358209,
          0.5223880597014925,
          0.5074626865671642,
          0.4925373134328358,
          0.47761194029850745,
          0.4626865671641791,
          0.44776119402985076,
          0.43283582089552236,
          0.417910447761194,
          0.40298507462686567,
          0.3880597014925373,
          0.373134328358209,
          0.3582089552238806,
          0.34328358208955223,
          0.3283582089552239,
          0.31343283582089554,
          0.29850746268656714,
          0.2835820895522388,
          0.26865671641791045,
          0.2537313432835821,
          0.23880597014925373,
          0.22388059701492538,
          0.208955223880597,
          0.19402985074626866,
          0.1791044776119403,
          0.16417910447761194,
          0.14925373134328357,
          0.13432835820895522,
          0.11940298507462686,
          0.1044776119402985,
          0.08955223880597014,
          0.07462686567164178,
          0.05970149253731343,
          0.04477611940298507,
          0.029850746268656716,
          0.014925373134328358,
          0
         ],
         "xaxis": "x",
         "y": [
          0.35638297872340424,
          0.3582887700534759,
          0.3602150537634409,
          0.3621621621621622,
          0.3641304347826087,
          0.366120218579235,
          0.36813186813186816,
          0.3701657458563536,
          0.37222222222222223,
          0.3743016759776536,
          0.37640449438202245,
          0.3785310734463277,
          0.3806818181818182,
          0.38285714285714284,
          0.3850574712643678,
          0.3872832369942196,
          0.38953488372093026,
          0.391812865497076,
          0.3941176470588235,
          0.39644970414201186,
          0.39880952380952384,
          0.40119760479041916,
          0.4036144578313253,
          0.40606060606060607,
          0.40853658536585363,
          0.4110429447852761,
          0.41358024691358025,
          0.4161490683229814,
          0.41875,
          0.42138364779874216,
          0.4240506329113924,
          0.4267515923566879,
          0.42948717948717946,
          0.432258064516129,
          0.43506493506493504,
          0.43790849673202614,
          0.4407894736842105,
          0.44370860927152317,
          0.44666666666666666,
          0.44966442953020136,
          0.4527027027027027,
          0.4557823129251701,
          0.4589041095890411,
          0.46206896551724136,
          0.4652777777777778,
          0.46853146853146854,
          0.47183098591549294,
          0.475177304964539,
          0.4785714285714286,
          0.48201438848920863,
          0.4855072463768116,
          0.48905109489051096,
          0.49264705882352944,
          0.4962962962962963,
          0.5,
          0.5037593984962406,
          0.5075757575757576,
          0.5114503816793893,
          0.5153846153846153,
          0.5193798449612403,
          0.5234375,
          0.5275590551181102,
          0.5317460317460317,
          0.536,
          0.5403225806451613,
          0.5447154471544715,
          0.5491803278688525,
          0.5537190082644629,
          0.5583333333333333,
          0.5630252100840336,
          0.5677966101694916,
          0.5726495726495726,
          0.5775862068965517,
          0.5826086956521739,
          0.5877192982456141,
          0.5929203539823009,
          0.5982142857142857,
          0.6036036036036037,
          0.6090909090909091,
          0.6146788990825688,
          0.6203703703703703,
          0.6261682242990654,
          0.6320754716981132,
          0.638095238095238,
          0.6442307692307693,
          0.6504854368932039,
          0.6568627450980392,
          0.6633663366336634,
          0.67,
          0.6767676767676768,
          0.6836734693877551,
          0.6907216494845361,
          0.6979166666666666,
          0.7052631578947368,
          0.7127659574468085,
          0.7204301075268817,
          0.7282608695652174,
          0.7362637362637363,
          0.7444444444444445,
          0.7415730337078652,
          0.75,
          0.7586206896551724,
          0.7674418604651163,
          0.7764705882352941,
          0.7857142857142857,
          0.7951807228915663,
          0.8048780487804879,
          0.8148148148148148,
          0.825,
          0.8354430379746836,
          0.8461538461538461,
          0.8571428571428571,
          0.868421052631579,
          0.88,
          0.8918918918918919,
          0.9041095890410958,
          0.9166666666666666,
          0.9154929577464789,
          0.9285714285714286,
          0.927536231884058,
          0.9411764705882353,
          0.9402985074626866,
          0.9545454545454546,
          0.9692307692307692,
          0.96875,
          0.9682539682539683,
          0.967741935483871,
          0.9672131147540983,
          0.9833333333333333,
          0.9830508474576272,
          0.9827586206896551,
          0.9824561403508771,
          0.9821428571428571,
          0.9818181818181818,
          1,
          1,
          1,
          1,
          1,
          1,
          1,
          1,
          1,
          1,
          1,
          1,
          1,
          1,
          1,
          1,
          1,
          1,
          1,
          1,
          1,
          1,
          1,
          1,
          1,
          1,
          1,
          1,
          1,
          1,
          1,
          1,
          1,
          1,
          1,
          1,
          1,
          1,
          1,
          1,
          1,
          1,
          1,
          1,
          1,
          1,
          1,
          1,
          1,
          1,
          1,
          1,
          1,
          1,
          1
         ],
         "yaxis": "y"
        },
        {
         "mode": "markers",
         "name": "tuned threshold (0.212)",
         "type": "scatter",
         "x": [
          0.9850746268656716
         ],
         "y": [
          0.8461538461538461
         ]
        },
        {
         "mode": "markers",
         "name": "default threshold (0.5)",
         "type": "scatter",
         "x": [
          0.9402985074626866
         ],
         "y": [
          0.9402985074626866
         ]
        }
       ],
       "layout": {
        "legend": {
         "tracegroupgap": 0
        },
        "template": {
         "data": {
          "bar": [
           {
            "error_x": {
             "color": "#2a3f5f"
            },
            "error_y": {
             "color": "#2a3f5f"
            },
            "marker": {
             "line": {
              "color": "#E5ECF6",
              "width": 0.5
             },
             "pattern": {
              "fillmode": "overlay",
              "size": 10,
              "solidity": 0.2
             }
            },
            "type": "bar"
           }
          ],
          "barpolar": [
           {
            "marker": {
             "line": {
              "color": "#E5ECF6",
              "width": 0.5
             },
             "pattern": {
              "fillmode": "overlay",
              "size": 10,
              "solidity": 0.2
             }
            },
            "type": "barpolar"
           }
          ],
          "carpet": [
           {
            "aaxis": {
             "endlinecolor": "#2a3f5f",
             "gridcolor": "white",
             "linecolor": "white",
             "minorgridcolor": "white",
             "startlinecolor": "#2a3f5f"
            },
            "baxis": {
             "endlinecolor": "#2a3f5f",
             "gridcolor": "white",
             "linecolor": "white",
             "minorgridcolor": "white",
             "startlinecolor": "#2a3f5f"
            },
            "type": "carpet"
           }
          ],
          "choropleth": [
           {
            "colorbar": {
             "outlinewidth": 0,
             "ticks": ""
            },
            "type": "choropleth"
           }
          ],
          "contour": [
           {
            "colorbar": {
             "outlinewidth": 0,
             "ticks": ""
            },
            "colorscale": [
             [
              0,
              "#0d0887"
             ],
             [
              0.1111111111111111,
              "#46039f"
             ],
             [
              0.2222222222222222,
              "#7201a8"
             ],
             [
              0.3333333333333333,
              "#9c179e"
             ],
             [
              0.4444444444444444,
              "#bd3786"
             ],
             [
              0.5555555555555556,
              "#d8576b"
             ],
             [
              0.6666666666666666,
              "#ed7953"
             ],
             [
              0.7777777777777778,
              "#fb9f3a"
             ],
             [
              0.8888888888888888,
              "#fdca26"
             ],
             [
              1,
              "#f0f921"
             ]
            ],
            "type": "contour"
           }
          ],
          "contourcarpet": [
           {
            "colorbar": {
             "outlinewidth": 0,
             "ticks": ""
            },
            "type": "contourcarpet"
           }
          ],
          "heatmap": [
           {
            "colorbar": {
             "outlinewidth": 0,
             "ticks": ""
            },
            "colorscale": [
             [
              0,
              "#0d0887"
             ],
             [
              0.1111111111111111,
              "#46039f"
             ],
             [
              0.2222222222222222,
              "#7201a8"
             ],
             [
              0.3333333333333333,
              "#9c179e"
             ],
             [
              0.4444444444444444,
              "#bd3786"
             ],
             [
              0.5555555555555556,
              "#d8576b"
             ],
             [
              0.6666666666666666,
              "#ed7953"
             ],
             [
              0.7777777777777778,
              "#fb9f3a"
             ],
             [
              0.8888888888888888,
              "#fdca26"
             ],
             [
              1,
              "#f0f921"
             ]
            ],
            "type": "heatmap"
           }
          ],
          "heatmapgl": [
           {
            "colorbar": {
             "outlinewidth": 0,
             "ticks": ""
            },
            "colorscale": [
             [
              0,
              "#0d0887"
             ],
             [
              0.1111111111111111,
              "#46039f"
             ],
             [
              0.2222222222222222,
              "#7201a8"
             ],
             [
              0.3333333333333333,
              "#9c179e"
             ],
             [
              0.4444444444444444,
              "#bd3786"
             ],
             [
              0.5555555555555556,
              "#d8576b"
             ],
             [
              0.6666666666666666,
              "#ed7953"
             ],
             [
              0.7777777777777778,
              "#fb9f3a"
             ],
             [
              0.8888888888888888,
              "#fdca26"
             ],
             [
              1,
              "#f0f921"
             ]
            ],
            "type": "heatmapgl"
           }
          ],
          "histogram": [
           {
            "marker": {
             "pattern": {
              "fillmode": "overlay",
              "size": 10,
              "solidity": 0.2
             }
            },
            "type": "histogram"
           }
          ],
          "histogram2d": [
           {
            "colorbar": {
             "outlinewidth": 0,
             "ticks": ""
            },
            "colorscale": [
             [
              0,
              "#0d0887"
             ],
             [
              0.1111111111111111,
              "#46039f"
             ],
             [
              0.2222222222222222,
              "#7201a8"
             ],
             [
              0.3333333333333333,
              "#9c179e"
             ],
             [
              0.4444444444444444,
              "#bd3786"
             ],
             [
              0.5555555555555556,
              "#d8576b"
             ],
             [
              0.6666666666666666,
              "#ed7953"
             ],
             [
              0.7777777777777778,
              "#fb9f3a"
             ],
             [
              0.8888888888888888,
              "#fdca26"
             ],
             [
              1,
              "#f0f921"
             ]
            ],
            "type": "histogram2d"
           }
          ],
          "histogram2dcontour": [
           {
            "colorbar": {
             "outlinewidth": 0,
             "ticks": ""
            },
            "colorscale": [
             [
              0,
              "#0d0887"
             ],
             [
              0.1111111111111111,
              "#46039f"
             ],
             [
              0.2222222222222222,
              "#7201a8"
             ],
             [
              0.3333333333333333,
              "#9c179e"
             ],
             [
              0.4444444444444444,
              "#bd3786"
             ],
             [
              0.5555555555555556,
              "#d8576b"
             ],
             [
              0.6666666666666666,
              "#ed7953"
             ],
             [
              0.7777777777777778,
              "#fb9f3a"
             ],
             [
              0.8888888888888888,
              "#fdca26"
             ],
             [
              1,
              "#f0f921"
             ]
            ],
            "type": "histogram2dcontour"
           }
          ],
          "mesh3d": [
           {
            "colorbar": {
             "outlinewidth": 0,
             "ticks": ""
            },
            "type": "mesh3d"
           }
          ],
          "parcoords": [
           {
            "line": {
             "colorbar": {
              "outlinewidth": 0,
              "ticks": ""
             }
            },
            "type": "parcoords"
           }
          ],
          "pie": [
           {
            "automargin": true,
            "type": "pie"
           }
          ],
          "scatter": [
           {
            "fillpattern": {
             "fillmode": "overlay",
             "size": 10,
             "solidity": 0.2
            },
            "type": "scatter"
           }
          ],
          "scatter3d": [
           {
            "line": {
             "colorbar": {
              "outlinewidth": 0,
              "ticks": ""
             }
            },
            "marker": {
             "colorbar": {
              "outlinewidth": 0,
              "ticks": ""
             }
            },
            "type": "scatter3d"
           }
          ],
          "scattercarpet": [
           {
            "marker": {
             "colorbar": {
              "outlinewidth": 0,
              "ticks": ""
             }
            },
            "type": "scattercarpet"
           }
          ],
          "scattergeo": [
           {
            "marker": {
             "colorbar": {
              "outlinewidth": 0,
              "ticks": ""
             }
            },
            "type": "scattergeo"
           }
          ],
          "scattergl": [
           {
            "marker": {
             "colorbar": {
              "outlinewidth": 0,
              "ticks": ""
             }
            },
            "type": "scattergl"
           }
          ],
          "scattermapbox": [
           {
            "marker": {
             "colorbar": {
              "outlinewidth": 0,
              "ticks": ""
             }
            },
            "type": "scattermapbox"
           }
          ],
          "scatterpolar": [
           {
            "marker": {
             "colorbar": {
              "outlinewidth": 0,
              "ticks": ""
             }
            },
            "type": "scatterpolar"
           }
          ],
          "scatterpolargl": [
           {
            "marker": {
             "colorbar": {
              "outlinewidth": 0,
              "ticks": ""
             }
            },
            "type": "scatterpolargl"
           }
          ],
          "scatterternary": [
           {
            "marker": {
             "colorbar": {
              "outlinewidth": 0,
              "ticks": ""
             }
            },
            "type": "scatterternary"
           }
          ],
          "surface": [
           {
            "colorbar": {
             "outlinewidth": 0,
             "ticks": ""
            },
            "colorscale": [
             [
              0,
              "#0d0887"
             ],
             [
              0.1111111111111111,
              "#46039f"
             ],
             [
              0.2222222222222222,
              "#7201a8"
             ],
             [
              0.3333333333333333,
              "#9c179e"
             ],
             [
              0.4444444444444444,
              "#bd3786"
             ],
             [
              0.5555555555555556,
              "#d8576b"
             ],
             [
              0.6666666666666666,
              "#ed7953"
             ],
             [
              0.7777777777777778,
              "#fb9f3a"
             ],
             [
              0.8888888888888888,
              "#fdca26"
             ],
             [
              1,
              "#f0f921"
             ]
            ],
            "type": "surface"
           }
          ],
          "table": [
           {
            "cells": {
             "fill": {
              "color": "#EBF0F8"
             },
             "line": {
              "color": "white"
             }
            },
            "header": {
             "fill": {
              "color": "#C8D4E3"
             },
             "line": {
              "color": "white"
             }
            },
            "type": "table"
           }
          ]
         },
         "layout": {
          "annotationdefaults": {
           "arrowcolor": "#2a3f5f",
           "arrowhead": 0,
           "arrowwidth": 1
          },
          "autotypenumbers": "strict",
          "coloraxis": {
           "colorbar": {
            "outlinewidth": 0,
            "ticks": ""
           }
          },
          "colorscale": {
           "diverging": [
            [
             0,
             "#8e0152"
            ],
            [
             0.1,
             "#c51b7d"
            ],
            [
             0.2,
             "#de77ae"
            ],
            [
             0.3,
             "#f1b6da"
            ],
            [
             0.4,
             "#fde0ef"
            ],
            [
             0.5,
             "#f7f7f7"
            ],
            [
             0.6,
             "#e6f5d0"
            ],
            [
             0.7,
             "#b8e186"
            ],
            [
             0.8,
             "#7fbc41"
            ],
            [
             0.9,
             "#4d9221"
            ],
            [
             1,
             "#276419"
            ]
           ],
           "sequential": [
            [
             0,
             "#0d0887"
            ],
            [
             0.1111111111111111,
             "#46039f"
            ],
            [
             0.2222222222222222,
             "#7201a8"
            ],
            [
             0.3333333333333333,
             "#9c179e"
            ],
            [
             0.4444444444444444,
             "#bd3786"
            ],
            [
             0.5555555555555556,
             "#d8576b"
            ],
            [
             0.6666666666666666,
             "#ed7953"
            ],
            [
             0.7777777777777778,
             "#fb9f3a"
            ],
            [
             0.8888888888888888,
             "#fdca26"
            ],
            [
             1,
             "#f0f921"
            ]
           ],
           "sequentialminus": [
            [
             0,
             "#0d0887"
            ],
            [
             0.1111111111111111,
             "#46039f"
            ],
            [
             0.2222222222222222,
             "#7201a8"
            ],
            [
             0.3333333333333333,
             "#9c179e"
            ],
            [
             0.4444444444444444,
             "#bd3786"
            ],
            [
             0.5555555555555556,
             "#d8576b"
            ],
            [
             0.6666666666666666,
             "#ed7953"
            ],
            [
             0.7777777777777778,
             "#fb9f3a"
            ],
            [
             0.8888888888888888,
             "#fdca26"
            ],
            [
             1,
             "#f0f921"
            ]
           ]
          },
          "colorway": [
           "#636efa",
           "#EF553B",
           "#00cc96",
           "#ab63fa",
           "#FFA15A",
           "#19d3f3",
           "#FF6692",
           "#B6E880",
           "#FF97FF",
           "#FECB52"
          ],
          "font": {
           "color": "#2a3f5f"
          },
          "geo": {
           "bgcolor": "white",
           "lakecolor": "white",
           "landcolor": "#E5ECF6",
           "showlakes": true,
           "showland": true,
           "subunitcolor": "white"
          },
          "hoverlabel": {
           "align": "left"
          },
          "hovermode": "closest",
          "mapbox": {
           "style": "light"
          },
          "paper_bgcolor": "white",
          "plot_bgcolor": "#E5ECF6",
          "polar": {
           "angularaxis": {
            "gridcolor": "white",
            "linecolor": "white",
            "ticks": ""
           },
           "bgcolor": "#E5ECF6",
           "radialaxis": {
            "gridcolor": "white",
            "linecolor": "white",
            "ticks": ""
           }
          },
          "scene": {
           "xaxis": {
            "backgroundcolor": "#E5ECF6",
            "gridcolor": "white",
            "gridwidth": 2,
            "linecolor": "white",
            "showbackground": true,
            "ticks": "",
            "zerolinecolor": "white"
           },
           "yaxis": {
            "backgroundcolor": "#E5ECF6",
            "gridcolor": "white",
            "gridwidth": 2,
            "linecolor": "white",
            "showbackground": true,
            "ticks": "",
            "zerolinecolor": "white"
           },
           "zaxis": {
            "backgroundcolor": "#E5ECF6",
            "gridcolor": "white",
            "gridwidth": 2,
            "linecolor": "white",
            "showbackground": true,
            "ticks": "",
            "zerolinecolor": "white"
           }
          },
          "shapedefaults": {
           "line": {
            "color": "#2a3f5f"
           }
          },
          "ternary": {
           "aaxis": {
            "gridcolor": "white",
            "linecolor": "white",
            "ticks": ""
           },
           "baxis": {
            "gridcolor": "white",
            "linecolor": "white",
            "ticks": ""
           },
           "bgcolor": "#E5ECF6",
           "caxis": {
            "gridcolor": "white",
            "linecolor": "white",
            "ticks": ""
           }
          },
          "title": {
           "x": 0.05
          },
          "xaxis": {
           "automargin": true,
           "gridcolor": "white",
           "linecolor": "white",
           "ticks": "",
           "title": {
            "standoff": 15
           },
           "zerolinecolor": "white",
           "zerolinewidth": 2
          },
          "yaxis": {
           "automargin": true,
           "gridcolor": "white",
           "linecolor": "white",
           "ticks": "",
           "title": {
            "standoff": 15
           },
           "zerolinecolor": "white",
           "zerolinewidth": 2
          }
         }
        },
        "title": {
         "text": "Precision vs recall"
        },
        "xaxis": {
         "anchor": "y",
         "domain": [
          0,
          1
         ],
         "title": {
          "text": "recall"
         }
        },
        "yaxis": {
         "anchor": "x",
         "domain": [
          0,
          1
         ],
         "title": {
          "text": "precision"
         }
        }
       }
      },
      "image/png": "[encoded data removed]",
      "text/html": [
       "<div>                            <div id=\"ea3f7d46-0afe-4113-be76-815ad899bf8a\" class=\"plotly-graph-div\" style=\"height:525px; width:100%;\"></div>            <script type=\"text/javascript\">                require([\"plotly\"], function(Plotly) {                    window.PLOTLYENV=window.PLOTLYENV || {};                                    if (document.getElementById(\"ea3f7d46-0afe-4113-be76-815ad899bf8a\")) {                    Plotly.newPlot(                        \"ea3f7d46-0afe-4113-be76-815ad899bf8a\",                        [{\"customdata\":[[0.0002401215604645839],[0.00024025629048705476],[0.0007492802618964563],[0.0010944105735471435],[0.0011787161488127041],[0.0012374556904164702],[0.0016673686256750443],[0.0018714512529837614],[0.002040534212105168],[0.0020590812246714493],[0.0021630617474003837],[0.0022947379900539527],[0.0023605771314994454],[0.002392990779646962],[0.002566713059679208],[0.0026496860053510846],[0.0026874857239407163],[0.0031428372939635266],[0.0041753067863664175],[0.004315687483420493],[0.004467761098688463],[0.004949398313016689],[0.005016841254515957],[0.0052477914585191115],[0.0052691267378125175],[0.005316841313915367],[0.005503954134508483],[0.005602855662796426],[0.005909442183449286],[0.00629489276292668],[0.006352853715046439],[0.00646151678554141],[0.006521746756168759],[0.007166900470924247],[0.0073191954802051965],[0.0074940907220744524],[0.007574046558841861],[0.007786339912617581],[0.0084945139368732],[0.010040311775481271],[0.011417668273293012],[0.011586547804496248],[0.012454606841805223],[0.012482334495049296],[0.013135871969463647],[0.013363458207903639],[0.014542903410713176],[0.015775531097884356],[0.01816440930084631],[0.01873582028755882],[0.019745857812409066],[0.02046261589043825],[0.02135433531631808],[0.023045799057286584],[0.02460420130076702],[0.024643857945287305],[0.02788672964704846],[0.028483993796788808],[0.028699383344508174],[0.028742169133728426],[0.029037717098169373],[0.02960329579795728],[0.03125265545717351],[0.03249228938193002],[0.03516141208482244],[0.036456860937697316],[0.03783928988078563],[0.03885222294126511],[0.039283911842781565],[0.04067520339030388],[0.04362635244880595],[0.04490875897056452],[0.045761522625121745],[0.050470834872870886],[0.051220539640240516],[0.056633045735472294],[0.057717211268712154],[0.057889914842474945],[0.058569229652388845],[0.05951435171603994],[0.0681833582897937],[0.06830799925930355],[0.07003341451766719],[0.07030371717665548],[0.07194383417164024],[0.07800663855347861],[0.07863515692438736],[0.08215025763661181],[0.08230288168853667],[0.09179606549823478],[0.11250672087904072],[0.1156720241054625],[0.11896130278776426],[0.12401165819340261],[0.12663986813539527],[0.1306228439961082],[0.13080950401698468],[0.13226922678377612],[0.15841756553946423],[0.16234136414021652],[0.162589374735441],[0.16374390263765443],[0.16442013596829383],[0.16928470362296583],[0.1765922639817969],[0.17762107992701767],[0.18593914788982213],[0.1871304183771095],[0.20210718270892652],[0.20699851266016292],[0.21085887316272756],[0.2135807775477995],[0.23728377364896558],[0.2413974752349008],[0.24392026365276379],[0.24843533590451847],[0.2797924292086316],[0.28334599583849446],[0.32774608566835256],[0.40535349285835304],[0.44109545263818484],[0.49181438452074017],[0.5795758157475126],[0.5852161073019321],[0.661951089366601],[0.6949962673556604],[0.7291662008006153],[0.7387704406856134],[0.7693025583665724],[0.7793892838418305],[0.7913023017282604],[0.7975152527279288],[0.8376786703698885],[0.8402590649899309],[0.8446153629206704],[0.8513259353250618],[0.8677799189884753],[0.8797413844562204],[0.8812847323348005],[0.8867467386453611],[0.8966399896001866],[0.9086741965783638],[0.9413316753312891],[0.9467739659750593],[0.9525739122692125],[0.955255620927592],[0.9588162640446319],[0.9619537928676725],[0.9656909709937092],[0.9709785905334527],[0.9713110504364729],[0.9744493044479062],[0.9756865981620974],[0.9819467785558065],[0.9835868081113488],[0.9871926468552885],[0.9878629154363734],[0.9882072974913034],[0.9886101642794912],[0.9906767483471747],[0.9926905559775651],[0.9933544874378522],[0.9951522790424405],[0.9960107265415217],[0.9966898260953463],[0.9967191726284301],[0.9968464571649011],[0.9969580693862897],[0.9981495724812609],[0.9986819529085522],[0.9987389954627968],[0.9987802059424193],[0.998796346289535],[0.9989933357979442],[0.999286079317962],[0.9996061267627765],[0.9996478053281934],[0.9998659301408677],[0.9999112629896749],[0.9999139703565754],[0.9999241746746298],[0.9999784390770579],[0.9999856736507405],[0.9999926142373661],[0.9999944997368236],[0.9999971537046487],[0.9999981208708884],[0.9999998476311786],[1.0]],\"hovertemplate\":\"recall=%{x}\\u003cbr\\u003eprecision=%{y}\\u003cbr\\u003ethreshold=%{customdata[0]}\\u003cextra\\u003e\\u003c\\u002fextra\\u003e\",\"legendgroup\":\"\",\"line\":{\"color\":\"#636efa\",\"dash\":\"solid\"},\"marker\":{\"symbol\":\"circle\"},\"mode\":\"lines\",\"name\":\"\",\"orientation\":\"v\",\"showlegend\":false,\"x\":[1.0,1.0,1.0,1.0,1.0,1.0,1.0,1.0,1.0,1.0,1.0,1.0,1.0,1.0,1.0,1.0,1.0,1.0,1.0,1.0,1.0,1.0,1.0,1.0,1.0,1.0,1.0,1.0,1.0,1.0,1.0,1.0,1.0,1.0,1.0,1.0,1.0,1.0,1.0,1.0,1.0,1.0,1.0,1.0,1.0,1.0,1.0,1.0,1.0,1.0,1.0,1.0,1.0,1.0,1.0,1.0,1.0,1.0,1.0,1.0,1.0,1.0,1.0,1.0,1.0,1.0,1.0,1.0,1.0,1.0,1.0,1.0,1.0,1.0,1.0,1.0,1.0,1.0,1.0,1.0,1.0,1.0,1.0,1.0,1.0,1.0,1.0,1.0,1.0,1.0,1.0,1.0,1.0,1.0,1.0,1.0,1.0,1.0,1.0,0.9850746268656716,0.9850746268656716,0.9850746268656716,0.9850746268656716,0.9850746268656716,0.9850746268656716,0.9850746268656716,0.9850746268656716,0.9850746268656716,0.9850746268656716,0.9850746268656716,0.9850746268656716,0.9850746268656716,0.9850746268656716,0.9850746268656716,0.9850746268656716,0.9850746268656716,0.9850746268656716,0.9701492537313433,0.9701492537313433,0.9552238805970149,0.9552238805970149,0.9402985074626866,0.9402985074626866,0.9402985074626866,0.9253731343283582,0.9104477611940298,0.8955223880597015,0.8805970149253731,0.8805970149253731,0.8656716417910447,0.8507462686567164,0.835820895522388,0.8208955223880597,0.8059701492537313,0.8059701492537313,0.7910447761194029,0.7761194029850746,0.7611940298507462,0.746268656716418,0.7313432835820896,0.7164179104477612,0.7014925373134329,0.6865671641791045,0.6716417910447762,0.6567164179104478,0.6417910447761194,0.6268656716417911,0.6119402985074627,0.5970149253731343,0.582089552238806,0.5671641791044776,0.5522388059701493,0.5373134328358209,0.5223880597014925,0.5074626865671642,0.4925373134328358,0.47761194029850745,0.4626865671641791,0.44776119402985076,0.43283582089552236,0.417910447761194,0.40298507462686567,0.3880597014925373,0.373134328358209,0.3582089552238806,0.34328358208955223,0.3283582089552239,0.31343283582089554,0.29850746268656714,0.2835820895522388,0.26865671641791045,0.2537313432835821,0.23880597014925373,0.22388059701492538,0.208955223880597,0.19402985074626866,0.1791044776119403,0.16417910447761194,0.14925373134328357,0.13432835820895522,0.11940298507462686,0.1044776119402985,0.08955223880597014,0.07462686567164178,0.05970149253731343,0.04477611940298507,0.029850746268656716,0.014925373134328358,0.0],\"xaxis\":\"x\",\"y\":[0.35638297872340424,0.3582887700534759,0.3602150537634409,0.3621621621621622,0.3641304347826087,0.366120218579235,0.36813186813186816,0.3701657458563536,0.37222222222222223,0.3743016759776536,0.37640449438202245,0.3785310734463277,0.3806818181818182,0.38285714285714284,0.3850574712643678,0.3872832369942196,0.38953488372093026,0.391812865497076,0.3941176470588235,0.39644970414201186,0.39880952380952384,0.40119760479041916,0.4036144578313253,0.40606060606060607,0.40853658536585363,0.4110429447852761,0.41358024691358025,0.4161490683229814,0.41875,0.42138364779874216,0.4240506329113924,0.4267515923566879,0.42948717948717946,0.432258064516129,0.43506493506493504,0.43790849673202614,0.4407894736842105,0.44370860927152317,0.44666666666666666,0.44966442953020136,0.4527027027027027,0.4557823129251701,0.4589041095890411,0.46206896551724136,0.4652777777777778,0.46853146853146854,0.47183098591549294,0.475177304964539,0.4785714285714286,0.48201438848920863,0.4855072463768116,0.48905109489051096,0.49264705882352944,0.4962962962962963,0.5,0.5037593984962406,0.5075757575757576,0.5114503816793893,0.5153846153846153,0.5193798449612403,0.5234375,0.5275590551181102,0.5317460317460317,0.536,0.5403225806451613,0.5447154471544715,0.5491803278688525,0.5537190082644629,0.5583333333333333,0.5630252100840336,0.5677966101694916,0.5726495726495726,0.5775862068965517,0.5826086956521739,0.5877192982456141,0.5929203539823009,0.5982142857142857,0.6036036036036037,0.6090909090909091,0.6146788990825688,0.6203703703703703,0.6261682242990654,0.6320754716981132,0.638095238095238,0.6442307692307693,0.6504854368932039,0.6568627450980392,0.6633663366336634,0.67,0.6767676767676768,0.6836734693877551,0.6907216494845361,0.6979166666666666,0.7052631578947368,0.7127659574468085,0.7204301075268817,0.7282608695652174,0.7362637362637363,0.7444444444444445,0.7415730337078652,0.75,0.7586206896551724,0.7674418604651163,0.7764705882352941,0.7857142857142857,0.7951807228915663,0.8048780487804879,0.8148148148148148,0.825,0.8354430379746836,0.8461538461538461,0.8571428571428571,0.868421052631579,0.88,0.8918918918918919,0.9041095890410958,0.9166666666666666,0.9154929577464789,0.9285714285714286,0.927536231884058,0.9411764705882353,0.9402985074626866,0.9545454545454546,0.9692307692307692,0.96875,0.9682539682539683,0.967741935483871,0.9672131147540983,0.9833333333333333,0.9830508474576272,0.9827586206896551,0.9824561403508771,0.9821428571428571,0.9818181818181818,1.0,1.0,1.0,1.0,1.0,1.0,1.0,1.0,1.0,1.0,1.0,1.0,1.0,1.0,1.0,1.0,1.0,1.0,1.0,1.0,1.0,1.0,1.0,1.0,1.0,1.0,1.0,1.0,1.0,1.0,1.0,1.0,1.0,1.0,1.0,1.0,1.0,1.0,1.0,1.0,1.0,1.0,1.0,1.0,1.0,1.0,1.0,1.0,1.0,1.0,1.0,1.0,1.0,1.0,1.0],\"yaxis\":\"y\",\"type\":\"scatter\"},{\"mode\":\"markers\",\"name\":\"tuned threshold (0.212)\",\"x\":[0.9850746268656716],\"y\":[0.8461538461538461],\"type\":\"scatter\"},{\"mode\":\"markers\",\"name\":\"default threshold (0.5)\",\"x\":[0.9402985074626866],\"y\":[0.9402985074626866],\"type\":\"scatter\"}],                        {\"template\":{\"data\":{\"histogram2dcontour\":[{\"type\":\"histogram2dcontour\",\"colorbar\":{\"outlinewidth\":0,\"ticks\":\"\"},\"colorscale\":[[0.0,\"#0d0887\"],[0.1111111111111111,\"#46039f\"],[0.2222222222222222,\"#7201a8\"],[0.3333333333333333,\"#9c179e\"],[0.4444444444444444,\"#bd3786\"],[0.5555555555555556,\"#d8576b\"],[0.6666666666666666,\"#ed7953\"],[0.7777777777777778,\"#fb9f3a\"],[0.8888888888888888,\"#fdca26\"],[1.0,\"#f0f921\"]]}],\"choropleth\":[{\"type\":\"choropleth\",\"colorbar\":{\"outlinewidth\":0,\"ticks\":\"\"}}],\"histogram2d\":[{\"type\":\"histogram2d\",\"colorbar\":{\"outlinewidth\":0,\"ticks\":\"\"},\"colorscale\":[[0.0,\"#0d0887\"],[0.1111111111111111,\"#46039f\"],[0.2222222222222222,\"#7201a8\"],[0.3333333333333333,\"#9c179e\"],[0.4444444444444444,\"#bd3786\"],[0.5555555555555556,\"#d8576b\"],[0.6666666666666666,\"#ed7953\"],[0.7777777777777778,\"#fb9f3a\"],[0.8888888888888888,\"#fdca26\"],[1.0,\"#f0f921\"]]}],\"heatmap\":[{\"type\":\"heatmap\",\"colorbar\":{\"outlinewidth\":0,\"ticks\":\"\"},\"colorscale\":[[0.0,\"#0d0887\"],[0.1111111111111111,\"#46039f\"],[0.2222222222222222,\"#7201a8\"],[0.3333333333333333,\"#9c179e\"],[0.4444444444444444,\"#bd3786\"],[0.5555555555555556,\"#d8576b\"],[0.6666666666666666,\"#ed7953\"],[0.7777777777777778,\"#fb9f3a\"],[0.8888888888888888,\"#fdca26\"],[1.0,\"#f0f921\"]]}],\"heatmapgl\":[{\"type\":\"heatmapgl\",\"colorbar\":{\"outlinewidth\":0,\"ticks\":\"\"},\"colorscale\":[[0.0,\"#0d0887\"],[0.1111111111111111,\"#46039f\"],[0.2222222222222222,\"#7201a8\"],[0.3333333333333333,\"#9c179e\"],[0.4444444444444444,\"#bd3786\"],[0.5555555555555556,\"#d8576b\"],[0.6666666666666666,\"#ed7953\"],[0.7777777777777778,\"#fb9f3a\"],[0.8888888888888888,\"#fdca26\"],[1.0,\"#f0f921\"]]}],\"contourcarpet\":[{\"type\":\"contourcarpet\",\"colorbar\":{\"outlinewidth\":0,\"ticks\":\"\"}}],\"contour\":[{\"type\":\"contour\",\"colorbar\":{\"outlinewidth\":0,\"ticks\":\"\"},\"colorscale\":[[0.0,\"#0d0887\"],[0.1111111111111111,\"#46039f\"],[0.2222222222222222,\"#7201a8\"],[0.3333333333333333,\"#9c179e\"],[0.4444444444444444,\"#bd3786\"],[0.5555555555555556,\"#d8576b\"],[0.6666666666666666,\"#ed7953\"],[0.7777777777777778,\"#fb9f3a\"],[0.8888888888888888,\"#fdca26\"],[1.0,\"#f0f921\"]]}],\"surface\":[{\"type\":\"surface\",\"colorbar\":{\"outlinewidth\":0,\"ticks\":\"\"},\"colorscale\":[[0.0,\"#0d0887\"],[0.1111111111111111,\"#46039f\"],[0.2222222222222222,\"#7201a8\"],[0.3333333333333333,\"#9c179e\"],[0.4444444444444444,\"#bd3786\"],[0.5555555555555556,\"#d8576b\"],[0.6666666666666666,\"#ed7953\"],[0.7777777777777778,\"#fb9f3a\"],[0.8888888888888888,\"#fdca26\"],[1.0,\"#f0f921\"]]}],\"mesh3d\":[{\"type\":\"mesh3d\",\"colorbar\":{\"outlinewidth\":0,\"ticks\":\"\"}}],\"scatter\":[{\"fillpattern\":{\"fillmode\":\"overlay\",\"size\":10,\"solidity\":0.2},\"type\":\"scatter\"}],\"parcoords\":[{\"type\":\"parcoords\",\"line\":{\"colorbar\":{\"outlinewidth\":0,\"ticks\":\"\"}}}],\"scatterpolargl\":[{\"type\":\"scatterpolargl\",\"marker\":{\"colorbar\":{\"outlinewidth\":0,\"ticks\":\"\"}}}],\"bar\":[{\"error_x\":{\"color\":\"#2a3f5f\"},\"error_y\":{\"color\":\"#2a3f5f\"},\"marker\":{\"line\":{\"color\":\"#E5ECF6\",\"width\":0.5},\"pattern\":{\"fillmode\":\"overlay\",\"size\":10,\"solidity\":0.2}},\"type\":\"bar\"}],\"scattergeo\":[{\"type\":\"scattergeo\",\"marker\":{\"colorbar\":{\"outlinewidth\":0,\"ticks\":\"\"}}}],\"scatterpolar\":[{\"type\":\"scatterpolar\",\"marker\":{\"colorbar\":{\"outlinewidth\":0,\"ticks\":\"\"}}}],\"histogram\":[{\"marker\":{\"pattern\":{\"fillmode\":\"overlay\",\"size\":10,\"solidity\":0.2}},\"type\":\"histogram\"}],\"scattergl\":[{\"type\":\"scattergl\",\"marker\":{\"colorbar\":{\"outlinewidth\":0,\"ticks\":\"\"}}}],\"scatter3d\":[{\"type\":\"scatter3d\",\"line\":{\"colorbar\":{\"outlinewidth\":0,\"ticks\":\"\"}},\"marker\":{\"colorbar\":{\"outlinewidth\":0,\"ticks\":\"\"}}}],\"scattermapbox\":[{\"type\":\"scattermapbox\",\"marker\":{\"colorbar\":{\"outlinewidth\":0,\"ticks\":\"\"}}}],\"scatterternary\":[{\"type\":\"scatterternary\",\"marker\":{\"colorbar\":{\"outlinewidth\":0,\"ticks\":\"\"}}}],\"scattercarpet\":[{\"type\":\"scattercarpet\",\"marker\":{\"colorbar\":{\"outlinewidth\":0,\"ticks\":\"\"}}}],\"carpet\":[{\"aaxis\":{\"endlinecolor\":\"#2a3f5f\",\"gridcolor\":\"white\",\"linecolor\":\"white\",\"minorgridcolor\":\"white\",\"startlinecolor\":\"#2a3f5f\"},\"baxis\":{\"endlinecolor\":\"#2a3f5f\",\"gridcolor\":\"white\",\"linecolor\":\"white\",\"minorgridcolor\":\"white\",\"startlinecolor\":\"#2a3f5f\"},\"type\":\"carpet\"}],\"table\":[{\"cells\":{\"fill\":{\"color\":\"#EBF0F8\"},\"line\":{\"color\":\"white\"}},\"header\":{\"fill\":{\"color\":\"#C8D4E3\"},\"line\":{\"color\":\"white\"}},\"type\":\"table\"}],\"barpolar\":[{\"marker\":{\"line\":{\"color\":\"#E5ECF6\",\"width\":0.5},\"pattern\":{\"fillmode\":\"overlay\",\"size\":10,\"solidity\":0.2}},\"type\":\"barpolar\"}],\"pie\":[{\"automargin\":true,\"type\":\"pie\"}]},\"layout\":{\"autotypenumbers\":\"strict\",\"colorway\":[\"#636efa\",\"#EF553B\",\"#00cc96\",\"#ab63fa\",\"#FFA15A\",\"#19d3f3\",\"#FF6692\",\"#B6E880\",\"#FF97FF\",\"#FECB52\"],\"font\":{\"color\":\"#2a3f5f\"},\"hovermode\":\"closest\",\"hoverlabel\":{\"align\":\"left\"},\"paper_bgcolor\":\"white\",\"plot_bgcolor\":\"#E5ECF6\",\"polar\":{\"bgcolor\":\"#E5ECF6\",\"angularaxis\":{\"gridcolor\":\"white\",\"linecolor\":\"white\",\"ticks\":\"\"},\"radialaxis\":{\"gridcolor\":\"white\",\"linecolor\":\"white\",\"ticks\":\"\"}},\"ternary\":{\"bgcolor\":\"#E5ECF6\",\"aaxis\":{\"gridcolor\":\"white\",\"linecolor\":\"white\",\"ticks\":\"\"},\"baxis\":{\"gridcolor\":\"white\",\"linecolor\":\"white\",\"ticks\":\"\"},\"caxis\":{\"gridcolor\":\"white\",\"linecolor\":\"white\",\"ticks\":\"\"}},\"coloraxis\":{\"colorbar\":{\"outlinewidth\":0,\"ticks\":\"\"}},\"colorscale\":{\"sequential\":[[0.0,\"#0d0887\"],[0.1111111111111111,\"#46039f\"],[0.2222222222222222,\"#7201a8\"],[0.3333333333333333,\"#9c179e\"],[0.4444444444444444,\"#bd3786\"],[0.5555555555555556,\"#d8576b\"],[0.6666666666666666,\"#ed7953\"],[0.7777777777777778,\"#fb9f3a\"],[0.8888888888888888,\"#fdca26\"],[1.0,\"#f0f921\"]],\"sequentialminus\":[[0.0,\"#0d0887\"],[0.1111111111111111,\"#46039f\"],[0.2222222222222222,\"#7201a8\"],[0.3333333333333333,\"#9c179e\"],[0.4444444444444444,\"#bd3786\"],[0.5555555555555556,\"#d8576b\"],[0.6666666666666666,\"#ed7953\"],[0.7777777777777778,\"#fb9f3a\"],[0.8888888888888888,\"#fdca26\"],[1.0,\"#f0f921\"]],\"diverging\":[[0,\"#8e0152\"],[0.1,\"#c51b7d\"],[0.2,\"#de77ae\"],[0.3,\"#f1b6da\"],[0.4,\"#fde0ef\"],[0.5,\"#f7f7f7\"],[0.6,\"#e6f5d0\"],[0.7,\"#b8e186\"],[0.8,\"#7fbc41\"],[0.9,\"#4d9221\"],[1,\"#276419\"]]},\"xaxis\":{\"gridcolor\":\"white\",\"linecolor\":\"white\",\"ticks\":\"\",\"title\":{\"standoff\":15},\"zerolinecolor\":\"white\",\"automargin\":true,\"zerolinewidth\":2},\"yaxis\":{\"gridcolor\":\"white\",\"linecolor\":\"white\",\"ticks\":\"\",\"title\":{\"standoff\":15},\"zerolinecolor\":\"white\",\"automargin\":true,\"zerolinewidth\":2},\"scene\":{\"xaxis\":{\"backgroundcolor\":\"#E5ECF6\",\"gridcolor\":\"white\",\"linecolor\":\"white\",\"showbackground\":true,\"ticks\":\"\",\"zerolinecolor\":\"white\",\"gridwidth\":2},\"yaxis\":{\"backgroundcolor\":\"#E5ECF6\",\"gridcolor\":\"white\",\"linecolor\":\"white\",\"showbackground\":true,\"ticks\":\"\",\"zerolinecolor\":\"white\",\"gridwidth\":2},\"zaxis\":{\"backgroundcolor\":\"#E5ECF6\",\"gridcolor\":\"white\",\"linecolor\":\"white\",\"showbackground\":true,\"ticks\":\"\",\"zerolinecolor\":\"white\",\"gridwidth\":2}},\"shapedefaults\":{\"line\":{\"color\":\"#2a3f5f\"}},\"annotationdefaults\":{\"arrowcolor\":\"#2a3f5f\",\"arrowhead\":0,\"arrowwidth\":1},\"geo\":{\"bgcolor\":\"white\",\"landcolor\":\"#E5ECF6\",\"subunitcolor\":\"white\",\"showland\":true,\"showlakes\":true,\"lakecolor\":\"white\"},\"title\":{\"x\":0.05},\"mapbox\":{\"style\":\"light\"}}},\"xaxis\":{\"anchor\":\"y\",\"domain\":[0.0,1.0],\"title\":{\"text\":\"recall\"}},\"yaxis\":{\"anchor\":\"x\",\"domain\":[0.0,1.0],\"title\":{\"text\":\"precision\"}},\"legend\":{\"tracegroupgap\":0},\"title\":{\"text\":\"Precision vs recall\"}},                        {\"responsive\": true}                    ).then(function(){\n",
       "                            \n",
       "var gd = document.getElementById('ea3f7d46-0afe-4113-be76-815ad899bf8a');\n",
       "var x = new MutationObserver(function (mutations, observer) {{\n",
       "        var display = window.getComputedStyle(gd).display;\n",
       "        if (!display || display === 'none') {{\n",
       "            console.log([gd, 'removed!']);\n",
       "            Plotly.purge(gd);\n",
       "            observer.disconnect();\n",
       "        }}\n",
       "}});\n",
       "\n",
       "// Listen for the removal of the full notebook cells\n",
       "var notebookContainer = gd.closest('#notebook-container');\n",
       "if (notebookContainer) {{\n",
       "    x.observe(notebookContainer, {childList: true});\n",
       "}}\n",
       "\n",
       "// Listen for the clearing of the current output cell\n",
       "var outputEl = gd.closest('.output');\n",
       "if (outputEl) {{\n",
       "    x.observe(outputEl, {childList: true});\n",
       "}}\n",
       "\n",
       "                        })                };                });            </script>        </div>"
      ]
     },
     "metadata": {},
     "output_type": "display_data"
    }
   ],
   "source": [
    "# Precision recall curve\n",
    "precision, recall, thresholds = precision_recall_curve(y_test, probs)\n",
    "thresholds = [*thresholds, 1.0]\n",
    "df_pr = pd.DataFrame({'precision': precision, 'recall': recall, 'threshold': thresholds})\n",
    "\n",
    "# Plot precision-recall curve with tuned and default threhsholds points marked out\n",
    "fig = px.line(df_pr, x='recall', y='precision',  markers=False,  hover_data='threshold', title=\"Precision vs recall\")#width=500, height=500,)\n",
    "\n",
    "iopt = np.argmin((np.array(thresholds) - topt)**2)\n",
    "fig.add_trace(go.Scatter(\n",
    "    x=[df_pr.iloc[iopt].recall],\n",
    "    y=[df_pr.iloc[iopt].precision],\n",
    "    mode='markers',\n",
    "    name=f'tuned threshold ({topt:.3f})',\n",
    "    )\n",
    ")\n",
    "\n",
    "\n",
    "thresh_default = 0.5\n",
    "idefault = np.argmin((np.array(thresholds) - thresh_default)**2)\n",
    "fig.add_trace(go.Scatter(\n",
    "    x=[df_pr.iloc[idefault].recall],\n",
    "    y=[df_pr.iloc[idefault].precision],\n",
    "    mode='markers',\n",
    "    name=f'default threshold ({thresh_default})',\n",
    "    )\n",
    ")\n",
    "\n",
    "fig"
   ]
  },
  {
   "cell_type": "code",
   "execution_count": 63,
   "metadata": {},
   "outputs": [
    {
     "data": {
      "application/vnd.plotly.v1+json": {
       "config": {
        "plotlyServerURL": "https://plot.ly"
       },
       "data": [
        {
         "hovertemplate": "prediction_label=TN<br>perimeter_worst=%{x}<br>symmetry_worst=%{y}<br>texture_worst=%{z}<extra></extra>",
         "legendgroup": "TN",
         "marker": {
          "color": "blue",
          "size": 4,
          "symbol": "circle"
         },
         "mode": "markers",
         "name": "TN",
         "scene": "scene",
         "showlegend": true,
         "type": "scatter3d",
         "x": [
          -0.3416559753294954,
          -0.53373251426774,
          -0.8567432156188565,
          -0.3234623901195064,
          -0.18805439527794857,
          -0.4836255910664586,
          -0.15524629080091937,
          -0.6050155776314675,
          -0.17314162051566248,
          -1.1818417054366932,
          -1.7028940556309689,
          -0.5719092176591924,
          -1.1209975844065658,
          -0.7788985313597232,
          -0.4815378025997387,
          -0.3255501785862262,
          -1.1314365267401663,
          -0.5871202479167243,
          -0.8859722541529373,
          -0.6986678031386241,
          -1.0652238067956157,
          -0.17612417546811995,
          -1.0607499743669302,
          -0.7663718005594028,
          -0.6801759624333892,
          -0.9927477214509056,
          -0.762792734616454,
          -0.6646666766806119,
          -0.8364618419421477,
          -0.7013521025958357,
          -1.1830347274176758,
          -1.2230009637806027,
          -0.6115771985268733,
          -0.45887038496106375,
          -0.3872890661020908,
          -0.6336481051750565,
          -0.36999024737783903,
          -1.0729784496720047,
          -0.8719542458763885,
          -0.46602851684696134,
          -0.6852463058525665,
          -0.5021174317716934,
          -0.8331810314944447,
          -0.33062052200540354,
          -1.5012733408448609,
          -0.37476233530177044,
          -0.2754432553849452,
          -0.8862705096481828,
          -0.6733160860427375,
          -0.7583189021877684,
          -0.6008400006980273,
          -0.4385890112843549,
          -0.588313269897707,
          0.06546277568091481,
          -0.9638169384120706,
          -0.9125169932298065,
          -1.0685046172433186,
          -0.9322018559160241,
          -1.2221061972948655,
          -0.7040364020530469,
          -0.5662423632495238,
          -0.6008400006980273,
          0.032654671203885176,
          -0.04489175756000228,
          -0.7941095616172551,
          -1.2528265133051748,
          -1.2501422138479632,
          -0.8806036552385141,
          -1.1227871173780402,
          -0.17314162051566248,
          -0.8224438336655984,
          -0.6235074183367024,
          -0.4785552476472817,
          -1.0923650568629768,
          -0.4099564837407654,
          -0.7929165396362721,
          0.18476497377920345,
          -0.30347927193804297,
          -1.0088535181941742,
          0.05651511082354324,
          -0.8224438336655984,
          -1.0222750154802318,
          -0.5996469787170443,
          -0.33390133245310644,
          -0.28647870870903663,
          -0.6977730366528869,
          -1.4985890413876495,
          -0.29572462906165403,
          -0.8257246441133017,
          -1.4419204972909625,
          -0.15524629080091937,
          -0.9888704000127113,
          -1.3497595492600343,
          -1.0813296035388849,
          -0.9578518285071561,
          -0.5513295884872377,
          -0.7783020203692318,
          -0.6512451793945543,
          -1.0270471034041637,
          -0.07471730708457444,
          -0.3076548488714831,
          -0.46274770639925844,
          0.19669519358903206,
          -0.4979418548382533,
          -0.2960228845568999,
          -0.6414027480514455,
          -0.13138585118126173,
          -0.2408456179364412,
          -1.2832485738202384,
          -0.23279271956480682
         ],
         "y": [
          0.19912469886981946,
          -0.5248738364037774,
          -0.8837115383843592,
          1.0100662896893724,
          -0.33043754854645724,
          -0.7019215131519058,
          -0.3826033818740312,
          0.35087985036821523,
          -0.8758076242438178,
          -0.9896239878676144,
          0.06950050696493991,
          0.2544520978536096,
          -0.8520958818221934,
          0.5627047493347265,
          -0.2814332808751004,
          -0.240332927344285,
          -1.0465321696795131,
          -0.2276866647194192,
          0.4441460372266046,
          -0.5912667151843253,
          0.48682717358552813,
          -0.12967812937670462,
          0.26393679482225924,
          0.6607132846774402,
          0.3366528049152404,
          -0.0980624728145388,
          -0.15971300311076234,
          -0.5580702757940513,
          -1.0560168666481626,
          -0.09332012433021444,
          1.2535068452180484,
          -0.6529172454805489,
          0.502635001866611,
          -1.4053698716600949,
          -1.1508638363346602,
          -0.2545599727972598,
          -1.0323051242265384,
          -0.44267312934214664,
          -0.24507527582861022,
          -0.172359265735629,
          -0.5280354020599937,
          -0.0980624728145388,
          0.49315030489796147,
          -0.5770396697313506,
          0.26867914330658443,
          0.535831441256885,
          -1.0465321696795131,
          -0.9295542403994994,
          0.7192022493174466,
          -0.1154510839237307,
          -1.1018595686633033,
          -0.7999300484946199,
          0.7761104311293449,
          -1.1239905282568192,
          -2.0898488362309844,
          0.6385823250839239,
          -0.5612318414502676,
          -0.0458966394869657,
          0.34297593622767375,
          0.2702599261346926,
          -0.6481748969962241,
          -0.9801392908989648,
          -0.3114681546091581,
          -0.6845329020427147,
          -0.3541492909680816,
          2.1181950521932835,
          0.622774496802841,
          0.8235339159725936,
          1.057489774532621,
          -0.9738161595865314,
          -0.3351798970307825,
          0.3556221988525405,
          0.13273182008927156,
          0.45204995136714604,
          -0.23242901320374354,
          0.9468349765650407,
          -0.8979385838373336,
          -0.3509877253118654,
          -0.007957851612366536,
          0.415691946320655,
          0.17383217362008696,
          0.07740442110548137,
          -0.915327194946525,
          0.5042157846947192,
          -1.6266794675952552,
          -0.932715806055716,
          0.34297593622767375,
          -0.33201833137456627,
          -0.06170446776804862,
          -0.02692724554966568,
          -0.5738781040751343,
          -0.7983492656665113,
          -1.547640326189841,
          0.14853964837035447,
          0.07108128979304802,
          -1.2125143666308833,
          0.20860939583846902,
          -0.7983492656665113,
          -0.4331884323734962,
          -0.3936688616707889,
          -0.8505150989940853,
          -1.3279115130827885,
          -0.09648168998643067,
          0.21493252715090236,
          -0.38892651318646454,
          -0.172359265735629,
          -0.44583469499836287,
          -0.06170446776804862,
          0.06001580999629034,
          0.14063573422981301
         ],
         "z": [
          -0.15113631006816272,
          -0.4376597685795185,
          -0.9726139714648822,
          -0.39128602962970355,
          -0.6214985194162842,
          1.4371642489629934,
          0.044295875506056744,
          -1.040518374927111,
          -1.3204170135884934,
          -0.44262838346699884,
          -0.9958008409397897,
          0.04098346558107004,
          0.5610318238039932,
          1.0048947537522206,
          -2.163425339497626,
          -1.355197317800854,
          1.5497861864125437,
          0.07245135986844399,
          0.44840988635444307,
          -1.182952001701542,
          -0.3945984395546902,
          -0.8864913134152261,
          -0.44925320331697227,
          -0.5105327869292277,
          -1.2077950761389427,
          -0.3714115700797833,
          -0.9742701764273752,
          -0.09316913638089458,
          -1.086892113876926,
          0.5958121280163539,
          -1.277355684563665,
          1.4388204539254879,
          0.5395011592915788,
          -0.9709577665023885,
          -1.6847821053370378,
          -1.4976309445752851,
          -0.27535168225516665,
          -0.8185869099529973,
          -1.5522857083375672,
          -0.12132462074328183,
          0.48153398560431065,
          0.9535523999149252,
          0.15360540303062023,
          -0.03520196269362584,
          0.8889604063776837,
          -1.1978578463639826,
          0.782963288778107,
          -0.8003686553655702,
          -0.8318365496529442,
          -0.5784371903914566,
          0.5229391096666453,
          -0.7407452767158084,
          -0.10807498104333502,
          -0.8483985992778782,
          2.1112396686978014,
          0.03767105565608334,
          -0.6761532831785663,
          -1.5324112487876465,
          -1.8967763405361915,
          0.9767392693898327,
          0.40203614740462806,
          0.5179704947791649,
          -0.9444584871024944,
          -0.018639913068691748,
          -0.7225270221283807,
          -0.4807210976043468,
          -1.0471431947770844,
          1.5961599253623586,
          -1.3419476781009072,
          -0.5668437556540028,
          -0.5850620102414299,
          -0.055076422243546634,
          0.8193997979529611,
          0.011171776256189146,
          -0.6380605690412183,
          0.16519883776807398,
          -1.5953470373623952,
          0.2728521603301438,
          0.6471544818536492,
          -1.21110748606393,
          0.14698058318064683,
          -1.6400645713497164,
          -1.6582828259371438,
          -0.15610492495564307,
          -1.3336666532884403,
          -1.44131997585051,
          -0.59499924001639,
          0.06417033505597754,
          1.3576664107633116,
          0.7978691334405473,
          -0.8301803446904511,
          -0.8715854687527858,
          -0.782150400778143,
          -0.41116048917962433,
          -0.7241832270908743,
          -0.5171576067792011,
          -0.6595912335536321,
          -0.9593643317649347,
          -0.19254143413049737,
          -1.3005425540385727,
          -0.5121889918917207,
          -0.4641590479794127,
          -1.1945454364389958,
          -0.5883744201664166,
          0.5858748982413938,
          -0.17597938450556386,
          -1.4280703361505633,
          0.012827981218682203,
          -0.9825512012398423,
          -1.042174579889604
         ]
        },
        {
         "hovertemplate": "prediction_label=TP<br>perimeter_worst=%{x}<br>symmetry_worst=%{y}<br>texture_worst=%{z}<extra></extra>",
         "legendgroup": "TP",
         "marker": {
          "color": "orange",
          "size": 4,
          "symbol": "circle"
         },
         "mode": "markers",
         "name": "TP",
         "scene": "scene",
         "showlegend": true,
         "type": "scatter3d",
         "x": [
          1.7416586589618703,
          0.5188111284544118,
          2.2993964350713694,
          2.6095821501269203,
          0.8170666237001334,
          0.6917993156969298,
          0.18476497377920345,
          1.0079501406573954,
          1.5716530266718085,
          1.9235945110617605,
          1.315153300760488,
          0.4860030239773821,
          1.3628741799998034,
          0.40845659521349464,
          0.9840897010377373,
          1.5806006915291806,
          3.107668827187275,
          -0.006118543178058551,
          1.3419962953326032,
          1.7476237688667844,
          0.6798690958871015,
          1.872891076869988,
          0.12213131977760167,
          0.8647875029394486,
          0.47705535912001057,
          0.017741896441599094,
          0.6619737661723576,
          0.02668956129897108,
          1.7237633292471273,
          0.8230317336050474,
          0.3667008258790935,
          -0.29393509609017965,
          1.0765489045639107,
          1.4165601691440337,
          0.6261831067428714,
          0.754432969698532,
          0.6500435463625295,
          1.2704149764736299,
          0.912508382178764,
          3.1017037172823607,
          0.6351307716002433,
          3.176267591093791,
          2.0578094839223353,
          0.4949506888347537,
          1.5806006915291806,
          1.8102574228683859,
          0.5844273374084702,
          1.6074436861012957,
          2.2993964350713694,
          0.6321482166477854,
          0.5247762383593259,
          0.3100322817824066,
          2.3650126440254287,
          0.17283475396937442,
          1.130234893708141,
          1.5149844825751222,
          0.1877475287316605,
          0.3040671718774921,
          2.961523634516872,
          1.115322118945855,
          0.07739299549074341,
          -0.04489175756000228,
          0.6172354418854994,
          0.6410958815051574,
          1.1600604432327133,
          0.0923057702530295
         ],
         "y": [
          -0.5327777505443189,
          -0.08067386170534777,
          1.8953046734300145,
          -0.23242901320374354,
          -0.20871727078211919,
          -0.12335499806427128,
          -0.240332927344285,
          -0.9121656292903083,
          0.29871401704064127,
          1.485881920949967,
          0.6717787644741978,
          0.09479303221467239,
          0.2765830574471259,
          -0.3699571192491645,
          0.518442830147694,
          0.8788613149563839,
          -0.8426111848535438,
          -0.1280973465485965,
          1.1460136129066851,
          -1.3089421191454893,
          0.6101282341779751,
          4.034103839860531,
          0.3034563655249665,
          1.4289737391380686,
          0.2623560119941511,
          0.28448697158766734,
          0.9357694967682821,
          0.20860939583846902,
          0.3761723756179477,
          -0.6070745434654082,
          0.5848357089282418,
          2.336343082472227,
          -0.9279734575713913,
          -0.49958131115404497,
          2.4406747491273744,
          -0.6133976747778416,
          0.8677958351596261,
          1.364161643185629,
          0.27184070896280066,
          0.031561719090340744,
          -0.37628025056159786,
          -0.0316695940339909,
          1.9126932845392055,
          2.1023872239122006,
          -0.5359393162005351,
          -0.9801392908989648,
          1.1017516937196528,
          1.2392797997650746,
          2.7078270470776755,
          1.8984662390862308,
          2.812158713732823,
          2.9481060369501355,
          -0.18974787684482003,
          1.1017516937196528,
          0.13273182008927156,
          0.03314250191844886,
          0.4536307341952542,
          -0.3367606798588906,
          1.8447196229305496,
          0.05053111302763989,
          0.5453161382255345,
          1.2060833603747998,
          -0.6892752505270394,
          -0.15180908897022086,
          -0.5975898464967586,
          0.48682717358552813
         ],
         "z": [
          0.17016745265555372,
          0.07410756483093764,
          2.2967346244970614,
          0.04098346558107004,
          -0.9991132508647763,
          0.12379371370573933,
          -0.05673262720603969,
          1.1870772996264927,
          -0.012015093218718348,
          0.527907724554125,
          1.3692598455007652,
          1.3791970752757259,
          0.3490375886048397,
          1.269887547751162,
          0.6256238173412347,
          1.4007277397881392,
          1.3361357462508971,
          0.07741997475592434,
          -0.003734068406251302,
          0.14035576333067282,
          0.8193997979529611,
          1.021456803377154,
          1.4007277397881392,
          0.28610180003009117,
          0.479877780641817,
          -0.576780985428963,
          1.0148319835271806,
          0.612374177641288,
          0.2397280610802762,
          1.5133496772376893,
          -0.47906489264185315,
          2.5054164497712277,
          0.5494383890665395,
          2.102958643885335,
          2.699192430382954,
          1.6408774593496807,
          1.2036393492514268,
          -1.1001417535768727,
          -0.023608527956172094,
          -0.27866409218015337,
          -0.1643859497681101,
          3.5786372654669414,
          1.3129488767759896,
          1.9174636880860763,
          -0.05342021728105299,
          1.0794239770644227,
          0.30100764469253166,
          0.8856479964526964,
          -1.361822137650828,
          2.854875696857332,
          -1.0719862692144855,
          0.7564640093782127,
          0.8823355865277097,
          0.6802785811035168,
          2.1509885877976433,
          0.37884927792972056,
          0.4103171722170951,
          1.0164881884896744,
          0.4070047622921084,
          0.8243684128404415,
          1.881027178911221,
          1.2235138088013469,
          0.9800516793148194,
          -0.04679539743107959,
          -0.44262838346699884,
          0.4285354268045223
         ]
        },
        {
         "hovertemplate": "prediction_label=FN<br>perimeter_worst=%{x}<br>symmetry_worst=%{y}<br>texture_worst=%{z}<extra></extra>",
         "legendgroup": "FN",
         "marker": {
          "color": "red",
          "size": 4,
          "symbol": "circle"
         },
         "mode": "markers",
         "name": "FN",
         "scene": "scene",
         "showlegend": true,
         "type": "scatter3d",
         "x": [
          0.08335810539565794
         ],
         "y": [
          -0.4727080030762035
         ],
         "z": [
          -0.7771817858906627
         ]
        },
        {
         "hovertemplate": "prediction_label=FP<br>perimeter_worst=%{x}<br>symmetry_worst=%{y}<br>texture_worst=%{z}<extra></extra>",
         "legendgroup": "FP",
         "marker": {
          "color": "cyan",
          "size": 4,
          "symbol": "circle"
         },
         "mode": "markers",
         "name": "FP",
         "scene": "scene",
         "showlegend": true,
         "type": "scatter3d",
         "x": [
          -0.1373509610861758,
          -0.23935434046021264,
          -0.2119148348976062,
          -0.24740723883184745,
          -0.16717651061074798,
          -0.14928118089600484,
          -0.05085686746491679,
          -0.0031359882256010805,
          0.19967774854148954,
          -0.6691405091092978,
          0.17879986387428892
         ],
         "y": [
          -0.5786204525594595,
          1.9601167693824544,
          -0.8584190131346268,
          1.1191403048288437,
          0.9958392442363976,
          -1.5776751999238985,
          -0.39841121015511416,
          -0.26246388693780126,
          0.10427772918332197,
          0.13431260291737968,
          0.4726001281325533
         ],
         "z": [
          0.5891873081663805,
          0.5974683329788475,
          1.0645181324019823,
          -0.5966554449788837,
          -0.06501365201850674,
          2.48222958029632,
          -0.04845160239357264,
          1.1158604862392771,
          -1.0338935550771375,
          1.7833110861241117,
          1.0231130083396478
         ]
        }
       ],
       "layout": {
        "height": 800,
        "legend": {
         "title": {
          "text": "prediction_label"
         },
         "tracegroupgap": 0
        },
        "scene": {
         "domain": {
          "x": [
           0,
           1
          ],
          "y": [
           0,
           1
          ]
         },
         "xaxis": {
          "title": {
           "text": "perimeter_worst"
          }
         },
         "yaxis": {
          "title": {
           "text": "symmetry_worst"
          }
         },
         "zaxis": {
          "title": {
           "text": "texture_worst"
          }
         }
        },
        "template": {
         "data": {
          "bar": [
           {
            "error_x": {
             "color": "#2a3f5f"
            },
            "error_y": {
             "color": "#2a3f5f"
            },
            "marker": {
             "line": {
              "color": "#E5ECF6",
              "width": 0.5
             },
             "pattern": {
              "fillmode": "overlay",
              "size": 10,
              "solidity": 0.2
             }
            },
            "type": "bar"
           }
          ],
          "barpolar": [
           {
            "marker": {
             "line": {
              "color": "#E5ECF6",
              "width": 0.5
             },
             "pattern": {
              "fillmode": "overlay",
              "size": 10,
              "solidity": 0.2
             }
            },
            "type": "barpolar"
           }
          ],
          "carpet": [
           {
            "aaxis": {
             "endlinecolor": "#2a3f5f",
             "gridcolor": "white",
             "linecolor": "white",
             "minorgridcolor": "white",
             "startlinecolor": "#2a3f5f"
            },
            "baxis": {
             "endlinecolor": "#2a3f5f",
             "gridcolor": "white",
             "linecolor": "white",
             "minorgridcolor": "white",
             "startlinecolor": "#2a3f5f"
            },
            "type": "carpet"
           }
          ],
          "choropleth": [
           {
            "colorbar": {
             "outlinewidth": 0,
             "ticks": ""
            },
            "type": "choropleth"
           }
          ],
          "contour": [
           {
            "colorbar": {
             "outlinewidth": 0,
             "ticks": ""
            },
            "colorscale": [
             [
              0,
              "#0d0887"
             ],
             [
              0.1111111111111111,
              "#46039f"
             ],
             [
              0.2222222222222222,
              "#7201a8"
             ],
             [
              0.3333333333333333,
              "#9c179e"
             ],
             [
              0.4444444444444444,
              "#bd3786"
             ],
             [
              0.5555555555555556,
              "#d8576b"
             ],
             [
              0.6666666666666666,
              "#ed7953"
             ],
             [
              0.7777777777777778,
              "#fb9f3a"
             ],
             [
              0.8888888888888888,
              "#fdca26"
             ],
             [
              1,
              "#f0f921"
             ]
            ],
            "type": "contour"
           }
          ],
          "contourcarpet": [
           {
            "colorbar": {
             "outlinewidth": 0,
             "ticks": ""
            },
            "type": "contourcarpet"
           }
          ],
          "heatmap": [
           {
            "colorbar": {
             "outlinewidth": 0,
             "ticks": ""
            },
            "colorscale": [
             [
              0,
              "#0d0887"
             ],
             [
              0.1111111111111111,
              "#46039f"
             ],
             [
              0.2222222222222222,
              "#7201a8"
             ],
             [
              0.3333333333333333,
              "#9c179e"
             ],
             [
              0.4444444444444444,
              "#bd3786"
             ],
             [
              0.5555555555555556,
              "#d8576b"
             ],
             [
              0.6666666666666666,
              "#ed7953"
             ],
             [
              0.7777777777777778,
              "#fb9f3a"
             ],
             [
              0.8888888888888888,
              "#fdca26"
             ],
             [
              1,
              "#f0f921"
             ]
            ],
            "type": "heatmap"
           }
          ],
          "heatmapgl": [
           {
            "colorbar": {
             "outlinewidth": 0,
             "ticks": ""
            },
            "colorscale": [
             [
              0,
              "#0d0887"
             ],
             [
              0.1111111111111111,
              "#46039f"
             ],
             [
              0.2222222222222222,
              "#7201a8"
             ],
             [
              0.3333333333333333,
              "#9c179e"
             ],
             [
              0.4444444444444444,
              "#bd3786"
             ],
             [
              0.5555555555555556,
              "#d8576b"
             ],
             [
              0.6666666666666666,
              "#ed7953"
             ],
             [
              0.7777777777777778,
              "#fb9f3a"
             ],
             [
              0.8888888888888888,
              "#fdca26"
             ],
             [
              1,
              "#f0f921"
             ]
            ],
            "type": "heatmapgl"
           }
          ],
          "histogram": [
           {
            "marker": {
             "pattern": {
              "fillmode": "overlay",
              "size": 10,
              "solidity": 0.2
             }
            },
            "type": "histogram"
           }
          ],
          "histogram2d": [
           {
            "colorbar": {
             "outlinewidth": 0,
             "ticks": ""
            },
            "colorscale": [
             [
              0,
              "#0d0887"
             ],
             [
              0.1111111111111111,
              "#46039f"
             ],
             [
              0.2222222222222222,
              "#7201a8"
             ],
             [
              0.3333333333333333,
              "#9c179e"
             ],
             [
              0.4444444444444444,
              "#bd3786"
             ],
             [
              0.5555555555555556,
              "#d8576b"
             ],
             [
              0.6666666666666666,
              "#ed7953"
             ],
             [
              0.7777777777777778,
              "#fb9f3a"
             ],
             [
              0.8888888888888888,
              "#fdca26"
             ],
             [
              1,
              "#f0f921"
             ]
            ],
            "type": "histogram2d"
           }
          ],
          "histogram2dcontour": [
           {
            "colorbar": {
             "outlinewidth": 0,
             "ticks": ""
            },
            "colorscale": [
             [
              0,
              "#0d0887"
             ],
             [
              0.1111111111111111,
              "#46039f"
             ],
             [
              0.2222222222222222,
              "#7201a8"
             ],
             [
              0.3333333333333333,
              "#9c179e"
             ],
             [
              0.4444444444444444,
              "#bd3786"
             ],
             [
              0.5555555555555556,
              "#d8576b"
             ],
             [
              0.6666666666666666,
              "#ed7953"
             ],
             [
              0.7777777777777778,
              "#fb9f3a"
             ],
             [
              0.8888888888888888,
              "#fdca26"
             ],
             [
              1,
              "#f0f921"
             ]
            ],
            "type": "histogram2dcontour"
           }
          ],
          "mesh3d": [
           {
            "colorbar": {
             "outlinewidth": 0,
             "ticks": ""
            },
            "type": "mesh3d"
           }
          ],
          "parcoords": [
           {
            "line": {
             "colorbar": {
              "outlinewidth": 0,
              "ticks": ""
             }
            },
            "type": "parcoords"
           }
          ],
          "pie": [
           {
            "automargin": true,
            "type": "pie"
           }
          ],
          "scatter": [
           {
            "fillpattern": {
             "fillmode": "overlay",
             "size": 10,
             "solidity": 0.2
            },
            "type": "scatter"
           }
          ],
          "scatter3d": [
           {
            "line": {
             "colorbar": {
              "outlinewidth": 0,
              "ticks": ""
             }
            },
            "marker": {
             "colorbar": {
              "outlinewidth": 0,
              "ticks": ""
             }
            },
            "type": "scatter3d"
           }
          ],
          "scattercarpet": [
           {
            "marker": {
             "colorbar": {
              "outlinewidth": 0,
              "ticks": ""
             }
            },
            "type": "scattercarpet"
           }
          ],
          "scattergeo": [
           {
            "marker": {
             "colorbar": {
              "outlinewidth": 0,
              "ticks": ""
             }
            },
            "type": "scattergeo"
           }
          ],
          "scattergl": [
           {
            "marker": {
             "colorbar": {
              "outlinewidth": 0,
              "ticks": ""
             }
            },
            "type": "scattergl"
           }
          ],
          "scattermapbox": [
           {
            "marker": {
             "colorbar": {
              "outlinewidth": 0,
              "ticks": ""
             }
            },
            "type": "scattermapbox"
           }
          ],
          "scatterpolar": [
           {
            "marker": {
             "colorbar": {
              "outlinewidth": 0,
              "ticks": ""
             }
            },
            "type": "scatterpolar"
           }
          ],
          "scatterpolargl": [
           {
            "marker": {
             "colorbar": {
              "outlinewidth": 0,
              "ticks": ""
             }
            },
            "type": "scatterpolargl"
           }
          ],
          "scatterternary": [
           {
            "marker": {
             "colorbar": {
              "outlinewidth": 0,
              "ticks": ""
             }
            },
            "type": "scatterternary"
           }
          ],
          "surface": [
           {
            "colorbar": {
             "outlinewidth": 0,
             "ticks": ""
            },
            "colorscale": [
             [
              0,
              "#0d0887"
             ],
             [
              0.1111111111111111,
              "#46039f"
             ],
             [
              0.2222222222222222,
              "#7201a8"
             ],
             [
              0.3333333333333333,
              "#9c179e"
             ],
             [
              0.4444444444444444,
              "#bd3786"
             ],
             [
              0.5555555555555556,
              "#d8576b"
             ],
             [
              0.6666666666666666,
              "#ed7953"
             ],
             [
              0.7777777777777778,
              "#fb9f3a"
             ],
             [
              0.8888888888888888,
              "#fdca26"
             ],
             [
              1,
              "#f0f921"
             ]
            ],
            "type": "surface"
           }
          ],
          "table": [
           {
            "cells": {
             "fill": {
              "color": "#EBF0F8"
             },
             "line": {
              "color": "white"
             }
            },
            "header": {
             "fill": {
              "color": "#C8D4E3"
             },
             "line": {
              "color": "white"
             }
            },
            "type": "table"
           }
          ]
         },
         "layout": {
          "annotationdefaults": {
           "arrowcolor": "#2a3f5f",
           "arrowhead": 0,
           "arrowwidth": 1
          },
          "autotypenumbers": "strict",
          "coloraxis": {
           "colorbar": {
            "outlinewidth": 0,
            "ticks": ""
           }
          },
          "colorscale": {
           "diverging": [
            [
             0,
             "#8e0152"
            ],
            [
             0.1,
             "#c51b7d"
            ],
            [
             0.2,
             "#de77ae"
            ],
            [
             0.3,
             "#f1b6da"
            ],
            [
             0.4,
             "#fde0ef"
            ],
            [
             0.5,
             "#f7f7f7"
            ],
            [
             0.6,
             "#e6f5d0"
            ],
            [
             0.7,
             "#b8e186"
            ],
            [
             0.8,
             "#7fbc41"
            ],
            [
             0.9,
             "#4d9221"
            ],
            [
             1,
             "#276419"
            ]
           ],
           "sequential": [
            [
             0,
             "#0d0887"
            ],
            [
             0.1111111111111111,
             "#46039f"
            ],
            [
             0.2222222222222222,
             "#7201a8"
            ],
            [
             0.3333333333333333,
             "#9c179e"
            ],
            [
             0.4444444444444444,
             "#bd3786"
            ],
            [
             0.5555555555555556,
             "#d8576b"
            ],
            [
             0.6666666666666666,
             "#ed7953"
            ],
            [
             0.7777777777777778,
             "#fb9f3a"
            ],
            [
             0.8888888888888888,
             "#fdca26"
            ],
            [
             1,
             "#f0f921"
            ]
           ],
           "sequentialminus": [
            [
             0,
             "#0d0887"
            ],
            [
             0.1111111111111111,
             "#46039f"
            ],
            [
             0.2222222222222222,
             "#7201a8"
            ],
            [
             0.3333333333333333,
             "#9c179e"
            ],
            [
             0.4444444444444444,
             "#bd3786"
            ],
            [
             0.5555555555555556,
             "#d8576b"
            ],
            [
             0.6666666666666666,
             "#ed7953"
            ],
            [
             0.7777777777777778,
             "#fb9f3a"
            ],
            [
             0.8888888888888888,
             "#fdca26"
            ],
            [
             1,
             "#f0f921"
            ]
           ]
          },
          "colorway": [
           "#636efa",
           "#EF553B",
           "#00cc96",
           "#ab63fa",
           "#FFA15A",
           "#19d3f3",
           "#FF6692",
           "#B6E880",
           "#FF97FF",
           "#FECB52"
          ],
          "font": {
           "color": "#2a3f5f"
          },
          "geo": {
           "bgcolor": "white",
           "lakecolor": "white",
           "landcolor": "#E5ECF6",
           "showlakes": true,
           "showland": true,
           "subunitcolor": "white"
          },
          "hoverlabel": {
           "align": "left"
          },
          "hovermode": "closest",
          "mapbox": {
           "style": "light"
          },
          "paper_bgcolor": "white",
          "plot_bgcolor": "#E5ECF6",
          "polar": {
           "angularaxis": {
            "gridcolor": "white",
            "linecolor": "white",
            "ticks": ""
           },
           "bgcolor": "#E5ECF6",
           "radialaxis": {
            "gridcolor": "white",
            "linecolor": "white",
            "ticks": ""
           }
          },
          "scene": {
           "xaxis": {
            "backgroundcolor": "#E5ECF6",
            "gridcolor": "white",
            "gridwidth": 2,
            "linecolor": "white",
            "showbackground": true,
            "ticks": "",
            "zerolinecolor": "white"
           },
           "yaxis": {
            "backgroundcolor": "#E5ECF6",
            "gridcolor": "white",
            "gridwidth": 2,
            "linecolor": "white",
            "showbackground": true,
            "ticks": "",
            "zerolinecolor": "white"
           },
           "zaxis": {
            "backgroundcolor": "#E5ECF6",
            "gridcolor": "white",
            "gridwidth": 2,
            "linecolor": "white",
            "showbackground": true,
            "ticks": "",
            "zerolinecolor": "white"
           }
          },
          "shapedefaults": {
           "line": {
            "color": "#2a3f5f"
           }
          },
          "ternary": {
           "aaxis": {
            "gridcolor": "white",
            "linecolor": "white",
            "ticks": ""
           },
           "baxis": {
            "gridcolor": "white",
            "linecolor": "white",
            "ticks": ""
           },
           "bgcolor": "#E5ECF6",
           "caxis": {
            "gridcolor": "white",
            "linecolor": "white",
            "ticks": ""
           }
          },
          "title": {
           "x": 0.05
          },
          "xaxis": {
           "automargin": true,
           "gridcolor": "white",
           "linecolor": "white",
           "ticks": "",
           "title": {
            "standoff": 15
           },
           "zerolinecolor": "white",
           "zerolinewidth": 2
          },
          "yaxis": {
           "automargin": true,
           "gridcolor": "white",
           "linecolor": "white",
           "ticks": "",
           "title": {
            "standoff": 15
           },
           "zerolinecolor": "white",
           "zerolinewidth": 2
          }
         }
        },
        "title": {
         "text": "Predictions on test dataset"
        },
        "width": 800
       }
      },
      "image/png": "[encoded data removed]",
      "text/html": [
       "<div>                            <div id=\"c84cb770-00ec-4e84-b505-bbc0775f08d7\" class=\"plotly-graph-div\" style=\"height:800px; width:800px;\"></div>            <script type=\"text/javascript\">                require([\"plotly\"], function(Plotly) {                    window.PLOTLYENV=window.PLOTLYENV || {};                                    if (document.getElementById(\"c84cb770-00ec-4e84-b505-bbc0775f08d7\")) {                    Plotly.newPlot(                        \"c84cb770-00ec-4e84-b505-bbc0775f08d7\",                        [{\"hovertemplate\":\"prediction_label=TN\\u003cbr\\u003eperimeter_worst=%{x}\\u003cbr\\u003esymmetry_worst=%{y}\\u003cbr\\u003etexture_worst=%{z}\\u003cextra\\u003e\\u003c\\u002fextra\\u003e\",\"legendgroup\":\"TN\",\"marker\":{\"color\":\"blue\",\"symbol\":\"circle\",\"size\":4},\"mode\":\"markers\",\"name\":\"TN\",\"scene\":\"scene\",\"showlegend\":true,\"x\":[-0.3416559753294954,-0.53373251426774,-0.8567432156188565,-0.3234623901195064,-0.18805439527794857,-0.4836255910664586,-0.15524629080091937,-0.6050155776314675,-0.17314162051566248,-1.1818417054366932,-1.7028940556309689,-0.5719092176591924,-1.1209975844065658,-0.7788985313597232,-0.4815378025997387,-0.3255501785862262,-1.1314365267401663,-0.5871202479167243,-0.8859722541529373,-0.6986678031386241,-1.0652238067956157,-0.17612417546811995,-1.0607499743669302,-0.7663718005594028,-0.6801759624333892,-0.9927477214509056,-0.762792734616454,-0.6646666766806119,-0.8364618419421477,-0.7013521025958357,-1.1830347274176758,-1.2230009637806027,-0.6115771985268733,-0.45887038496106375,-0.3872890661020908,-0.6336481051750565,-0.36999024737783903,-1.0729784496720047,-0.8719542458763885,-0.46602851684696134,-0.6852463058525665,-0.5021174317716934,-0.8331810314944447,-0.33062052200540354,-1.5012733408448609,-0.37476233530177044,-0.2754432553849452,-0.8862705096481828,-0.6733160860427375,-0.7583189021877684,-0.6008400006980273,-0.4385890112843549,-0.588313269897707,0.06546277568091481,-0.9638169384120706,-0.9125169932298065,-1.0685046172433186,-0.9322018559160241,-1.2221061972948655,-0.7040364020530469,-0.5662423632495238,-0.6008400006980273,0.032654671203885176,-0.04489175756000228,-0.7941095616172551,-1.2528265133051748,-1.2501422138479632,-0.8806036552385141,-1.1227871173780402,-0.17314162051566248,-0.8224438336655984,-0.6235074183367024,-0.4785552476472817,-1.0923650568629768,-0.4099564837407654,-0.7929165396362721,0.18476497377920345,-0.30347927193804297,-1.0088535181941742,0.05651511082354324,-0.8224438336655984,-1.0222750154802318,-0.5996469787170443,-0.33390133245310644,-0.28647870870903663,-0.6977730366528869,-1.4985890413876495,-0.29572462906165403,-0.8257246441133017,-1.4419204972909625,-0.15524629080091937,-0.9888704000127113,-1.3497595492600343,-1.0813296035388849,-0.9578518285071561,-0.5513295884872377,-0.7783020203692318,-0.6512451793945543,-1.0270471034041637,-0.07471730708457444,-0.3076548488714831,-0.46274770639925844,0.19669519358903206,-0.4979418548382533,-0.2960228845568999,-0.6414027480514455,-0.13138585118126173,-0.2408456179364412,-1.2832485738202384,-0.23279271956480682],\"y\":[0.19912469886981946,-0.5248738364037774,-0.8837115383843592,1.0100662896893724,-0.33043754854645724,-0.7019215131519058,-0.3826033818740312,0.35087985036821523,-0.8758076242438178,-0.9896239878676144,0.06950050696493991,0.2544520978536096,-0.8520958818221934,0.5627047493347265,-0.2814332808751004,-0.240332927344285,-1.0465321696795131,-0.2276866647194192,0.4441460372266046,-0.5912667151843253,0.48682717358552813,-0.12967812937670462,0.26393679482225924,0.6607132846774402,0.3366528049152404,-0.0980624728145388,-0.15971300311076234,-0.5580702757940513,-1.0560168666481626,-0.09332012433021444,1.2535068452180484,-0.6529172454805489,0.502635001866611,-1.4053698716600949,-1.1508638363346602,-0.2545599727972598,-1.0323051242265384,-0.44267312934214664,-0.24507527582861022,-0.172359265735629,-0.5280354020599937,-0.0980624728145388,0.49315030489796147,-0.5770396697313506,0.26867914330658443,0.535831441256885,-1.0465321696795131,-0.9295542403994994,0.7192022493174466,-0.1154510839237307,-1.1018595686633033,-0.7999300484946199,0.7761104311293449,-1.1239905282568192,-2.0898488362309844,0.6385823250839239,-0.5612318414502676,-0.0458966394869657,0.34297593622767375,0.2702599261346926,-0.6481748969962241,-0.9801392908989648,-0.3114681546091581,-0.6845329020427147,-0.3541492909680816,2.1181950521932835,0.622774496802841,0.8235339159725936,1.057489774532621,-0.9738161595865314,-0.3351798970307825,0.3556221988525405,0.13273182008927156,0.45204995136714604,-0.23242901320374354,0.9468349765650407,-0.8979385838373336,-0.3509877253118654,-0.007957851612366536,0.415691946320655,0.17383217362008696,0.07740442110548137,-0.915327194946525,0.5042157846947192,-1.6266794675952552,-0.932715806055716,0.34297593622767375,-0.33201833137456627,-0.06170446776804862,-0.02692724554966568,-0.5738781040751343,-0.7983492656665113,-1.547640326189841,0.14853964837035447,0.07108128979304802,-1.2125143666308833,0.20860939583846902,-0.7983492656665113,-0.4331884323734962,-0.3936688616707889,-0.8505150989940853,-1.3279115130827885,-0.09648168998643067,0.21493252715090236,-0.38892651318646454,-0.172359265735629,-0.44583469499836287,-0.06170446776804862,0.06001580999629034,0.14063573422981301],\"z\":[-0.15113631006816272,-0.4376597685795185,-0.9726139714648822,-0.39128602962970355,-0.6214985194162842,1.4371642489629934,0.044295875506056744,-1.040518374927111,-1.3204170135884934,-0.44262838346699884,-0.9958008409397897,0.04098346558107004,0.5610318238039932,1.0048947537522206,-2.163425339497626,-1.355197317800854,1.5497861864125437,0.07245135986844399,0.44840988635444307,-1.182952001701542,-0.3945984395546902,-0.8864913134152261,-0.44925320331697227,-0.5105327869292277,-1.2077950761389427,-0.3714115700797833,-0.9742701764273752,-0.09316913638089458,-1.086892113876926,0.5958121280163539,-1.277355684563665,1.4388204539254879,0.5395011592915788,-0.9709577665023885,-1.6847821053370378,-1.4976309445752851,-0.27535168225516665,-0.8185869099529973,-1.5522857083375672,-0.12132462074328183,0.48153398560431065,0.9535523999149252,0.15360540303062023,-0.03520196269362584,0.8889604063776837,-1.1978578463639826,0.782963288778107,-0.8003686553655702,-0.8318365496529442,-0.5784371903914566,0.5229391096666453,-0.7407452767158084,-0.10807498104333502,-0.8483985992778782,2.1112396686978014,0.03767105565608334,-0.6761532831785663,-1.5324112487876465,-1.8967763405361915,0.9767392693898327,0.40203614740462806,0.5179704947791649,-0.9444584871024944,-0.018639913068691748,-0.7225270221283807,-0.4807210976043468,-1.0471431947770844,1.5961599253623586,-1.3419476781009072,-0.5668437556540028,-0.5850620102414299,-0.055076422243546634,0.8193997979529611,0.011171776256189146,-0.6380605690412183,0.16519883776807398,-1.5953470373623952,0.2728521603301438,0.6471544818536492,-1.21110748606393,0.14698058318064683,-1.6400645713497164,-1.6582828259371438,-0.15610492495564307,-1.3336666532884403,-1.44131997585051,-0.59499924001639,0.06417033505597754,1.3576664107633116,0.7978691334405473,-0.8301803446904511,-0.8715854687527858,-0.782150400778143,-0.41116048917962433,-0.7241832270908743,-0.5171576067792011,-0.6595912335536321,-0.9593643317649347,-0.19254143413049737,-1.3005425540385727,-0.5121889918917207,-0.4641590479794127,-1.1945454364389958,-0.5883744201664166,0.5858748982413938,-0.17597938450556386,-1.4280703361505633,0.012827981218682203,-0.9825512012398423,-1.042174579889604],\"type\":\"scatter3d\"},{\"hovertemplate\":\"prediction_label=TP\\u003cbr\\u003eperimeter_worst=%{x}\\u003cbr\\u003esymmetry_worst=%{y}\\u003cbr\\u003etexture_worst=%{z}\\u003cextra\\u003e\\u003c\\u002fextra\\u003e\",\"legendgroup\":\"TP\",\"marker\":{\"color\":\"orange\",\"symbol\":\"circle\",\"size\":4},\"mode\":\"markers\",\"name\":\"TP\",\"scene\":\"scene\",\"showlegend\":true,\"x\":[1.7416586589618703,0.5188111284544118,2.2993964350713694,2.6095821501269203,0.8170666237001334,0.6917993156969298,0.18476497377920345,1.0079501406573954,1.5716530266718085,1.9235945110617605,1.315153300760488,0.4860030239773821,1.3628741799998034,0.40845659521349464,0.9840897010377373,1.5806006915291806,3.107668827187275,-0.006118543178058551,1.3419962953326032,1.7476237688667844,0.6798690958871015,1.872891076869988,0.12213131977760167,0.8647875029394486,0.47705535912001057,0.017741896441599094,0.6619737661723576,0.02668956129897108,1.7237633292471273,0.8230317336050474,0.3667008258790935,-0.29393509609017965,1.0765489045639107,1.4165601691440337,0.6261831067428714,0.754432969698532,0.6500435463625295,1.2704149764736299,0.912508382178764,3.1017037172823607,0.6351307716002433,3.176267591093791,2.0578094839223353,0.4949506888347537,1.5806006915291806,1.8102574228683859,0.5844273374084702,1.6074436861012957,2.2993964350713694,0.6321482166477854,0.5247762383593259,0.3100322817824066,2.3650126440254287,0.17283475396937442,1.130234893708141,1.5149844825751222,0.1877475287316605,0.3040671718774921,2.961523634516872,1.115322118945855,0.07739299549074341,-0.04489175756000228,0.6172354418854994,0.6410958815051574,1.1600604432327133,0.0923057702530295],\"y\":[-0.5327777505443189,-0.08067386170534777,1.8953046734300145,-0.23242901320374354,-0.20871727078211919,-0.12335499806427128,-0.240332927344285,-0.9121656292903083,0.29871401704064127,1.485881920949967,0.6717787644741978,0.09479303221467239,0.2765830574471259,-0.3699571192491645,0.518442830147694,0.8788613149563839,-0.8426111848535438,-0.1280973465485965,1.1460136129066851,-1.3089421191454893,0.6101282341779751,4.034103839860531,0.3034563655249665,1.4289737391380686,0.2623560119941511,0.28448697158766734,0.9357694967682821,0.20860939583846902,0.3761723756179477,-0.6070745434654082,0.5848357089282418,2.336343082472227,-0.9279734575713913,-0.49958131115404497,2.4406747491273744,-0.6133976747778416,0.8677958351596261,1.364161643185629,0.27184070896280066,0.031561719090340744,-0.37628025056159786,-0.0316695940339909,1.9126932845392055,2.1023872239122006,-0.5359393162005351,-0.9801392908989648,1.1017516937196528,1.2392797997650746,2.7078270470776755,1.8984662390862308,2.812158713732823,2.9481060369501355,-0.18974787684482003,1.1017516937196528,0.13273182008927156,0.03314250191844886,0.4536307341952542,-0.3367606798588906,1.8447196229305496,0.05053111302763989,0.5453161382255345,1.2060833603747998,-0.6892752505270394,-0.15180908897022086,-0.5975898464967586,0.48682717358552813],\"z\":[0.17016745265555372,0.07410756483093764,2.2967346244970614,0.04098346558107004,-0.9991132508647763,0.12379371370573933,-0.05673262720603969,1.1870772996264927,-0.012015093218718348,0.527907724554125,1.3692598455007652,1.3791970752757259,0.3490375886048397,1.269887547751162,0.6256238173412347,1.4007277397881392,1.3361357462508971,0.07741997475592434,-0.003734068406251302,0.14035576333067282,0.8193997979529611,1.021456803377154,1.4007277397881392,0.28610180003009117,0.479877780641817,-0.576780985428963,1.0148319835271806,0.612374177641288,0.2397280610802762,1.5133496772376893,-0.47906489264185315,2.5054164497712277,0.5494383890665395,2.102958643885335,2.699192430382954,1.6408774593496807,1.2036393492514268,-1.1001417535768727,-0.023608527956172094,-0.27866409218015337,-0.1643859497681101,3.5786372654669414,1.3129488767759896,1.9174636880860763,-0.05342021728105299,1.0794239770644227,0.30100764469253166,0.8856479964526964,-1.361822137650828,2.854875696857332,-1.0719862692144855,0.7564640093782127,0.8823355865277097,0.6802785811035168,2.1509885877976433,0.37884927792972056,0.4103171722170951,1.0164881884896744,0.4070047622921084,0.8243684128404415,1.881027178911221,1.2235138088013469,0.9800516793148194,-0.04679539743107959,-0.44262838346699884,0.4285354268045223],\"type\":\"scatter3d\"},{\"hovertemplate\":\"prediction_label=FN\\u003cbr\\u003eperimeter_worst=%{x}\\u003cbr\\u003esymmetry_worst=%{y}\\u003cbr\\u003etexture_worst=%{z}\\u003cextra\\u003e\\u003c\\u002fextra\\u003e\",\"legendgroup\":\"FN\",\"marker\":{\"color\":\"red\",\"symbol\":\"circle\",\"size\":4},\"mode\":\"markers\",\"name\":\"FN\",\"scene\":\"scene\",\"showlegend\":true,\"x\":[0.08335810539565794],\"y\":[-0.4727080030762035],\"z\":[-0.7771817858906627],\"type\":\"scatter3d\"},{\"hovertemplate\":\"prediction_label=FP\\u003cbr\\u003eperimeter_worst=%{x}\\u003cbr\\u003esymmetry_worst=%{y}\\u003cbr\\u003etexture_worst=%{z}\\u003cextra\\u003e\\u003c\\u002fextra\\u003e\",\"legendgroup\":\"FP\",\"marker\":{\"color\":\"cyan\",\"symbol\":\"circle\",\"size\":4},\"mode\":\"markers\",\"name\":\"FP\",\"scene\":\"scene\",\"showlegend\":true,\"x\":[-0.1373509610861758,-0.23935434046021264,-0.2119148348976062,-0.24740723883184745,-0.16717651061074798,-0.14928118089600484,-0.05085686746491679,-0.0031359882256010805,0.19967774854148954,-0.6691405091092978,0.17879986387428892],\"y\":[-0.5786204525594595,1.9601167693824544,-0.8584190131346268,1.1191403048288437,0.9958392442363976,-1.5776751999238985,-0.39841121015511416,-0.26246388693780126,0.10427772918332197,0.13431260291737968,0.4726001281325533],\"z\":[0.5891873081663805,0.5974683329788475,1.0645181324019823,-0.5966554449788837,-0.06501365201850674,2.48222958029632,-0.04845160239357264,1.1158604862392771,-1.0338935550771375,1.7833110861241117,1.0231130083396478],\"type\":\"scatter3d\"}],                        {\"template\":{\"data\":{\"histogram2dcontour\":[{\"type\":\"histogram2dcontour\",\"colorbar\":{\"outlinewidth\":0,\"ticks\":\"\"},\"colorscale\":[[0.0,\"#0d0887\"],[0.1111111111111111,\"#46039f\"],[0.2222222222222222,\"#7201a8\"],[0.3333333333333333,\"#9c179e\"],[0.4444444444444444,\"#bd3786\"],[0.5555555555555556,\"#d8576b\"],[0.6666666666666666,\"#ed7953\"],[0.7777777777777778,\"#fb9f3a\"],[0.8888888888888888,\"#fdca26\"],[1.0,\"#f0f921\"]]}],\"choropleth\":[{\"type\":\"choropleth\",\"colorbar\":{\"outlinewidth\":0,\"ticks\":\"\"}}],\"histogram2d\":[{\"type\":\"histogram2d\",\"colorbar\":{\"outlinewidth\":0,\"ticks\":\"\"},\"colorscale\":[[0.0,\"#0d0887\"],[0.1111111111111111,\"#46039f\"],[0.2222222222222222,\"#7201a8\"],[0.3333333333333333,\"#9c179e\"],[0.4444444444444444,\"#bd3786\"],[0.5555555555555556,\"#d8576b\"],[0.6666666666666666,\"#ed7953\"],[0.7777777777777778,\"#fb9f3a\"],[0.8888888888888888,\"#fdca26\"],[1.0,\"#f0f921\"]]}],\"heatmap\":[{\"type\":\"heatmap\",\"colorbar\":{\"outlinewidth\":0,\"ticks\":\"\"},\"colorscale\":[[0.0,\"#0d0887\"],[0.1111111111111111,\"#46039f\"],[0.2222222222222222,\"#7201a8\"],[0.3333333333333333,\"#9c179e\"],[0.4444444444444444,\"#bd3786\"],[0.5555555555555556,\"#d8576b\"],[0.6666666666666666,\"#ed7953\"],[0.7777777777777778,\"#fb9f3a\"],[0.8888888888888888,\"#fdca26\"],[1.0,\"#f0f921\"]]}],\"heatmapgl\":[{\"type\":\"heatmapgl\",\"colorbar\":{\"outlinewidth\":0,\"ticks\":\"\"},\"colorscale\":[[0.0,\"#0d0887\"],[0.1111111111111111,\"#46039f\"],[0.2222222222222222,\"#7201a8\"],[0.3333333333333333,\"#9c179e\"],[0.4444444444444444,\"#bd3786\"],[0.5555555555555556,\"#d8576b\"],[0.6666666666666666,\"#ed7953\"],[0.7777777777777778,\"#fb9f3a\"],[0.8888888888888888,\"#fdca26\"],[1.0,\"#f0f921\"]]}],\"contourcarpet\":[{\"type\":\"contourcarpet\",\"colorbar\":{\"outlinewidth\":0,\"ticks\":\"\"}}],\"contour\":[{\"type\":\"contour\",\"colorbar\":{\"outlinewidth\":0,\"ticks\":\"\"},\"colorscale\":[[0.0,\"#0d0887\"],[0.1111111111111111,\"#46039f\"],[0.2222222222222222,\"#7201a8\"],[0.3333333333333333,\"#9c179e\"],[0.4444444444444444,\"#bd3786\"],[0.5555555555555556,\"#d8576b\"],[0.6666666666666666,\"#ed7953\"],[0.7777777777777778,\"#fb9f3a\"],[0.8888888888888888,\"#fdca26\"],[1.0,\"#f0f921\"]]}],\"surface\":[{\"type\":\"surface\",\"colorbar\":{\"outlinewidth\":0,\"ticks\":\"\"},\"colorscale\":[[0.0,\"#0d0887\"],[0.1111111111111111,\"#46039f\"],[0.2222222222222222,\"#7201a8\"],[0.3333333333333333,\"#9c179e\"],[0.4444444444444444,\"#bd3786\"],[0.5555555555555556,\"#d8576b\"],[0.6666666666666666,\"#ed7953\"],[0.7777777777777778,\"#fb9f3a\"],[0.8888888888888888,\"#fdca26\"],[1.0,\"#f0f921\"]]}],\"mesh3d\":[{\"type\":\"mesh3d\",\"colorbar\":{\"outlinewidth\":0,\"ticks\":\"\"}}],\"scatter\":[{\"fillpattern\":{\"fillmode\":\"overlay\",\"size\":10,\"solidity\":0.2},\"type\":\"scatter\"}],\"parcoords\":[{\"type\":\"parcoords\",\"line\":{\"colorbar\":{\"outlinewidth\":0,\"ticks\":\"\"}}}],\"scatterpolargl\":[{\"type\":\"scatterpolargl\",\"marker\":{\"colorbar\":{\"outlinewidth\":0,\"ticks\":\"\"}}}],\"bar\":[{\"error_x\":{\"color\":\"#2a3f5f\"},\"error_y\":{\"color\":\"#2a3f5f\"},\"marker\":{\"line\":{\"color\":\"#E5ECF6\",\"width\":0.5},\"pattern\":{\"fillmode\":\"overlay\",\"size\":10,\"solidity\":0.2}},\"type\":\"bar\"}],\"scattergeo\":[{\"type\":\"scattergeo\",\"marker\":{\"colorbar\":{\"outlinewidth\":0,\"ticks\":\"\"}}}],\"scatterpolar\":[{\"type\":\"scatterpolar\",\"marker\":{\"colorbar\":{\"outlinewidth\":0,\"ticks\":\"\"}}}],\"histogram\":[{\"marker\":{\"pattern\":{\"fillmode\":\"overlay\",\"size\":10,\"solidity\":0.2}},\"type\":\"histogram\"}],\"scattergl\":[{\"type\":\"scattergl\",\"marker\":{\"colorbar\":{\"outlinewidth\":0,\"ticks\":\"\"}}}],\"scatter3d\":[{\"type\":\"scatter3d\",\"line\":{\"colorbar\":{\"outlinewidth\":0,\"ticks\":\"\"}},\"marker\":{\"colorbar\":{\"outlinewidth\":0,\"ticks\":\"\"}}}],\"scattermapbox\":[{\"type\":\"scattermapbox\",\"marker\":{\"colorbar\":{\"outlinewidth\":0,\"ticks\":\"\"}}}],\"scatterternary\":[{\"type\":\"scatterternary\",\"marker\":{\"colorbar\":{\"outlinewidth\":0,\"ticks\":\"\"}}}],\"scattercarpet\":[{\"type\":\"scattercarpet\",\"marker\":{\"colorbar\":{\"outlinewidth\":0,\"ticks\":\"\"}}}],\"carpet\":[{\"aaxis\":{\"endlinecolor\":\"#2a3f5f\",\"gridcolor\":\"white\",\"linecolor\":\"white\",\"minorgridcolor\":\"white\",\"startlinecolor\":\"#2a3f5f\"},\"baxis\":{\"endlinecolor\":\"#2a3f5f\",\"gridcolor\":\"white\",\"linecolor\":\"white\",\"minorgridcolor\":\"white\",\"startlinecolor\":\"#2a3f5f\"},\"type\":\"carpet\"}],\"table\":[{\"cells\":{\"fill\":{\"color\":\"#EBF0F8\"},\"line\":{\"color\":\"white\"}},\"header\":{\"fill\":{\"color\":\"#C8D4E3\"},\"line\":{\"color\":\"white\"}},\"type\":\"table\"}],\"barpolar\":[{\"marker\":{\"line\":{\"color\":\"#E5ECF6\",\"width\":0.5},\"pattern\":{\"fillmode\":\"overlay\",\"size\":10,\"solidity\":0.2}},\"type\":\"barpolar\"}],\"pie\":[{\"automargin\":true,\"type\":\"pie\"}]},\"layout\":{\"autotypenumbers\":\"strict\",\"colorway\":[\"#636efa\",\"#EF553B\",\"#00cc96\",\"#ab63fa\",\"#FFA15A\",\"#19d3f3\",\"#FF6692\",\"#B6E880\",\"#FF97FF\",\"#FECB52\"],\"font\":{\"color\":\"#2a3f5f\"},\"hovermode\":\"closest\",\"hoverlabel\":{\"align\":\"left\"},\"paper_bgcolor\":\"white\",\"plot_bgcolor\":\"#E5ECF6\",\"polar\":{\"bgcolor\":\"#E5ECF6\",\"angularaxis\":{\"gridcolor\":\"white\",\"linecolor\":\"white\",\"ticks\":\"\"},\"radialaxis\":{\"gridcolor\":\"white\",\"linecolor\":\"white\",\"ticks\":\"\"}},\"ternary\":{\"bgcolor\":\"#E5ECF6\",\"aaxis\":{\"gridcolor\":\"white\",\"linecolor\":\"white\",\"ticks\":\"\"},\"baxis\":{\"gridcolor\":\"white\",\"linecolor\":\"white\",\"ticks\":\"\"},\"caxis\":{\"gridcolor\":\"white\",\"linecolor\":\"white\",\"ticks\":\"\"}},\"coloraxis\":{\"colorbar\":{\"outlinewidth\":0,\"ticks\":\"\"}},\"colorscale\":{\"sequential\":[[0.0,\"#0d0887\"],[0.1111111111111111,\"#46039f\"],[0.2222222222222222,\"#7201a8\"],[0.3333333333333333,\"#9c179e\"],[0.4444444444444444,\"#bd3786\"],[0.5555555555555556,\"#d8576b\"],[0.6666666666666666,\"#ed7953\"],[0.7777777777777778,\"#fb9f3a\"],[0.8888888888888888,\"#fdca26\"],[1.0,\"#f0f921\"]],\"sequentialminus\":[[0.0,\"#0d0887\"],[0.1111111111111111,\"#46039f\"],[0.2222222222222222,\"#7201a8\"],[0.3333333333333333,\"#9c179e\"],[0.4444444444444444,\"#bd3786\"],[0.5555555555555556,\"#d8576b\"],[0.6666666666666666,\"#ed7953\"],[0.7777777777777778,\"#fb9f3a\"],[0.8888888888888888,\"#fdca26\"],[1.0,\"#f0f921\"]],\"diverging\":[[0,\"#8e0152\"],[0.1,\"#c51b7d\"],[0.2,\"#de77ae\"],[0.3,\"#f1b6da\"],[0.4,\"#fde0ef\"],[0.5,\"#f7f7f7\"],[0.6,\"#e6f5d0\"],[0.7,\"#b8e186\"],[0.8,\"#7fbc41\"],[0.9,\"#4d9221\"],[1,\"#276419\"]]},\"xaxis\":{\"gridcolor\":\"white\",\"linecolor\":\"white\",\"ticks\":\"\",\"title\":{\"standoff\":15},\"zerolinecolor\":\"white\",\"automargin\":true,\"zerolinewidth\":2},\"yaxis\":{\"gridcolor\":\"white\",\"linecolor\":\"white\",\"ticks\":\"\",\"title\":{\"standoff\":15},\"zerolinecolor\":\"white\",\"automargin\":true,\"zerolinewidth\":2},\"scene\":{\"xaxis\":{\"backgroundcolor\":\"#E5ECF6\",\"gridcolor\":\"white\",\"linecolor\":\"white\",\"showbackground\":true,\"ticks\":\"\",\"zerolinecolor\":\"white\",\"gridwidth\":2},\"yaxis\":{\"backgroundcolor\":\"#E5ECF6\",\"gridcolor\":\"white\",\"linecolor\":\"white\",\"showbackground\":true,\"ticks\":\"\",\"zerolinecolor\":\"white\",\"gridwidth\":2},\"zaxis\":{\"backgroundcolor\":\"#E5ECF6\",\"gridcolor\":\"white\",\"linecolor\":\"white\",\"showbackground\":true,\"ticks\":\"\",\"zerolinecolor\":\"white\",\"gridwidth\":2}},\"shapedefaults\":{\"line\":{\"color\":\"#2a3f5f\"}},\"annotationdefaults\":{\"arrowcolor\":\"#2a3f5f\",\"arrowhead\":0,\"arrowwidth\":1},\"geo\":{\"bgcolor\":\"white\",\"landcolor\":\"#E5ECF6\",\"subunitcolor\":\"white\",\"showland\":true,\"showlakes\":true,\"lakecolor\":\"white\"},\"title\":{\"x\":0.05},\"mapbox\":{\"style\":\"light\"}}},\"scene\":{\"domain\":{\"x\":[0.0,1.0],\"y\":[0.0,1.0]},\"xaxis\":{\"title\":{\"text\":\"perimeter_worst\"}},\"yaxis\":{\"title\":{\"text\":\"symmetry_worst\"}},\"zaxis\":{\"title\":{\"text\":\"texture_worst\"}}},\"legend\":{\"title\":{\"text\":\"prediction_label\"},\"tracegroupgap\":0},\"title\":{\"text\":\"Predictions on test dataset\"},\"width\":800,\"height\":800},                        {\"responsive\": true}                    ).then(function(){\n",
       "                            \n",
       "var gd = document.getElementById('c84cb770-00ec-4e84-b505-bbc0775f08d7');\n",
       "var x = new MutationObserver(function (mutations, observer) {{\n",
       "        var display = window.getComputedStyle(gd).display;\n",
       "        if (!display || display === 'none') {{\n",
       "            console.log([gd, 'removed!']);\n",
       "            Plotly.purge(gd);\n",
       "            observer.disconnect();\n",
       "        }}\n",
       "}});\n",
       "\n",
       "// Listen for the removal of the full notebook cells\n",
       "var notebookContainer = gd.closest('#notebook-container');\n",
       "if (notebookContainer) {{\n",
       "    x.observe(notebookContainer, {childList: true});\n",
       "}}\n",
       "\n",
       "// Listen for the clearing of the current output cell\n",
       "var outputEl = gd.closest('.output');\n",
       "if (outputEl) {{\n",
       "    x.observe(outputEl, {childList: true});\n",
       "}}\n",
       "\n",
       "                        })                };                });            </script>        </div>"
      ]
     },
     "metadata": {},
     "output_type": "display_data"
    }
   ],
   "source": [
    "# Visualize prediction and errors, also as a sanity check\n",
    "\n",
    "tmp = pd.concat([X_test[best.features], y_test], axis=1)\n",
    "tmp['prediction'] = ypred\n",
    "tmp['probability'] = probs\n",
    "tmp['prediction_label'] = tmp[['diagnosis','prediction']].apply(tuple, axis=1).map({(0,0): 'TN', (0, 1): 'FP', (1,0): 'FN', (1,1): 'TP'})\n",
    "\n",
    "fig = px.scatter_3d(\n",
    "        tmp,\n",
    "    color_discrete_map={'TP': 'orange', 'TN': 'blue', 'FN': 'red', 'FP': 'cyan'},\n",
    "                    x=best.features[0], y=best.features[1], z=best.features[2], color='prediction_label',\n",
    "    title='Predictions on test dataset'\n",
    ")\n",
    "fig.update_traces(marker=dict(size=4))\n",
    "\n",
    "fig.update_layout(\n",
    "    width=800,\n",
    "    height=800,\n",
    ")"
   ]
  },
  {
   "cell_type": "markdown",
   "metadata": {},
   "source": [
    "# Train final model"
   ]
  },
  {
   "cell_type": "code",
   "execution_count": 64,
   "metadata": {},
   "outputs": [],
   "source": [
    "# All data\n",
    "X_best = X[best.features]\n",
    "\n",
    "scaler = StandardScaler().fit(X_best)"
   ]
  },
  {
   "cell_type": "code",
   "execution_count": 65,
   "metadata": {},
   "outputs": [],
   "source": [
    "assert len(dfp) == len(X_best) == len(y)"
   ]
  },
  {
   "cell_type": "code",
   "execution_count": 66,
   "metadata": {},
   "outputs": [],
   "source": [
    "# Transform and fit\n",
    "X_best = scaler.transform(X_best)\n",
    "X_best = pd.DataFrame(X_best, index=y.index, columns=best.features)\n",
    "\n",
    "clf_opt = clf_opt.fit(X_best, y)"
   ]
  },
  {
   "cell_type": "markdown",
   "metadata": {},
   "source": [
    "# Export model"
   ]
  },
  {
   "cell_type": "code",
   "execution_count": 68,
   "metadata": {},
   "outputs": [
    {
     "data": {
      "text/plain": [
       "['../../assets/model.pickle']"
      ]
     },
     "execution_count": 68,
     "metadata": {},
     "output_type": "execute_result"
    }
   ],
   "source": [
    "joblib.dump(clf_opt, '../../assets/model.pickle')"
   ]
  },
  {
   "cell_type": "code",
   "execution_count": 69,
   "metadata": {},
   "outputs": [
    {
     "data": {
      "text/plain": [
       "['../../assets/scaler.pickle']"
      ]
     },
     "execution_count": 69,
     "metadata": {},
     "output_type": "execute_result"
    }
   ],
   "source": [
    "joblib.dump(scaler, '../../assets/scaler.pickle')"
   ]
  },
  {
   "cell_type": "markdown",
   "metadata": {
    "jp-MarkdownHeadingCollapsed": true
   },
   "source": [
    "# Summary and next steps\n",
    "\n",
    "We now have a first model using logistic regression on 3 of the given features\n",
    "Model performance is reasonable:\n",
    "* recall=0.985\n",
    "* precision=0.857\n",
    "* accuracy=0.936\n",
    "\n",
    "\n",
    "To further improve the model I would to begin focus on improving the input features.\n",
    "The fact that the maximum number of features tested were chosen indicates that there could be more information extracted from a large number of input features.\n",
    "One could also consider refining the feature space by dimensionality reduction techniques like PCA."
   ]
  },
  {
   "cell_type": "code",
   "execution_count": null,
   "metadata": {},
   "outputs": [],
   "source": []
  }
 ],
 "metadata": {
  "kernelspec": {
   "display_name": "Python 3 (ipykernel)",
   "language": "python",
   "name": "python3"
  },
  "language_info": {
   "codemirror_mode": {
    "name": "ipython",
    "version": 3
   },
   "file_extension": ".py",
   "mimetype": "text/x-python",
   "name": "python",
   "nbconvert_exporter": "python",
   "pygments_lexer": "ipython3",
   "version": "3.13.0"
  }
 },
 "nbformat": 4,
 "nbformat_minor": 4
}
