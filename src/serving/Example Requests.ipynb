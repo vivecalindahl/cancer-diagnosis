{
 "cells": [
  {
   "cell_type": "code",
   "execution_count": 1,
   "metadata": {},
   "outputs": [],
   "source": [
    "## Notebook to show example requests"
   ]
  },
  {
   "cell_type": "code",
   "execution_count": 4,
   "metadata": {},
   "outputs": [
    {
     "name": "stdout",
     "output_type": "stream",
     "text": [
      "{\"response\":{\"body\":{\"class\":\"benign\",\"probability\":0.0018769152453745103}}}\n"
     ]
    }
   ],
   "source": [
    "# Send a request for a benign sample in the training data. \n",
    "# This assumes the model is being served, see README_assignment.md\n",
    "!curl -X POST -H \"Content-Type: application/json\" -d '{\"perimeter_worst\": 59.16, \"symmetry_worst\": 0.2871  , \"texture_worst\": 30.37}' http://localhost:5000/predict"
   ]
  },
  {
   "cell_type": "code",
   "execution_count": 5,
   "metadata": {},
   "outputs": [
    {
     "name": "stdout",
     "output_type": "stream",
     "text": [
      "{\"response\":{\"body\":{\"class\":\"malignant\",\"probability\":0.9999777726770652}}}\n"
     ]
    }
   ],
   "source": [
    "# Send a request for a malignant sample in the training data. \n",
    "!curl -X POST -H \"Content-Type: application/json\" -d '{\"perimeter_worst\": 184.60, \"symmetry_worst\": 0.4601, \"texture_worst\": 17.33}' http://localhost:5000/predict"
   ]
  }
 ],
 "metadata": {
  "kernelspec": {
   "display_name": "Python 3 (ipykernel)",
   "language": "python",
   "name": "python3"
  },
  "language_info": {
   "codemirror_mode": {
    "name": "ipython",
    "version": 3
   },
   "file_extension": ".py",
   "mimetype": "text/x-python",
   "name": "python",
   "nbconvert_exporter": "python",
   "pygments_lexer": "ipython3",
   "version": "3.13.0"
  }
 },
 "nbformat": 4,
 "nbformat_minor": 4
}
